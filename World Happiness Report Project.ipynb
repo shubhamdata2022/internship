{
 "cells": [
  {
   "cell_type": "markdown",
   "id": "a226d026",
   "metadata": {},
   "source": [
    "# Project Description\n",
    "The World Happiness Report is a landmark survey of the state of global happiness. The first report was published in 2012, the second in 2013, the third in 2015, and the fourth in the 2016 Update. The World Happiness 2017, which ranks 155 countries by their happiness levels, was released at the United Nations at an event celebrating International Day of Happiness on March 20th. The report continues to gain global recognition as governments, organizations and civil society increasingly use happiness indicators to inform their policy-making decisions. Leading experts across fields – economics, psychology, survey analysis, national statistics, health, public policy and more – describe how measurements of well-being can be used effectively to assess the progress of nations. The reports review the state of happiness in the world today and show how the new science of happiness explains personal and national variations in happiness.\n"
   ]
  },
  {
   "cell_type": "markdown",
   "id": "243838e0",
   "metadata": {},
   "source": [
    "# What is Dystopia?\n",
    "Dystopia is an imaginary country that has the world’s least-happy people. The purpose in establishing Dystopia is to have a benchmark against which all countries can be favorably compared (no country performs more poorly than Dystopia) in terms of each of the six key variables, thus allowing each sub-bar to be of positive width. The lowest scores observed for the six key variables, therefore, characterize Dystopia. Since life would be very unpleasant in a country with the world’s lowest incomes, lowest life expectancy, lowest generosity, most corruption, least freedom and least social support, it is referred to as “Dystopia,” in contrast to Utopia.\n"
   ]
  },
  {
   "cell_type": "markdown",
   "id": "e11fb9c5",
   "metadata": {},
   "source": [
    "#  What is Dystopia?\n",
    "Dystopia is an imaginary country that has the world’s least-happy people. The purpose in establishing Dystopia is to have a benchmark against which all countries can be favorably compared (no country performs more poorly than Dystopia) in terms of each of the six key variables, thus allowing each sub-bar to be of positive width. The lowest scores observed for the six key variables, therefore, characterize Dystopia. Since life would be very unpleasant in a country with the world’s lowest incomes, lowest life expectancy, lowest generosity, most corruption, least freedom and least social support, it is referred to as “Dystopia,” in contrast to Utopia.\n"
   ]
  },
  {
   "cell_type": "markdown",
   "id": "72941470",
   "metadata": {},
   "source": [
    "# What do the columns succeeding the Happiness Score(like Family, Generosity, etc.) describe?\n",
    "The following columns: GDP per Capita, Family, Life Expectancy, Freedom, Generosity, Trust Government Corruption describe the extent to which these factors contribute in evaluating the happiness in each country.\n",
    "The Dystopia Residual metric actually is the Dystopia Happiness Score(1.85) + the Residual value or the unexplained value for each country.\n",
    "The Dystopia Residual is already provided in the dataset. \n",
    "If you add all these factors up, you get the happiness score so it might be un-reliable to model them to predict Happiness Scores.\n"
   ]
  },
  {
   "cell_type": "markdown",
   "id": "0232583d",
   "metadata": {},
   "source": [
    "# You need to predict the happiness score considering all the other factors mentioned in the dataset."
   ]
  },
  {
   "cell_type": "code",
   "execution_count": 1,
   "id": "e7115513",
   "metadata": {},
   "outputs": [],
   "source": [
    "# import basic library\n",
    "import pandas as pd\n",
    "import numpy as np\n",
    "import matplotlib.pyplot as plt\n",
    "import seaborn as sns\n",
    "import warnings\n",
    "warnings.filterwarnings('ignore')"
   ]
  },
  {
   "cell_type": "code",
   "execution_count": 2,
   "id": "b431fdec",
   "metadata": {},
   "outputs": [
    {
     "data": {
      "text/html": [
       "<div>\n",
       "<style scoped>\n",
       "    .dataframe tbody tr th:only-of-type {\n",
       "        vertical-align: middle;\n",
       "    }\n",
       "\n",
       "    .dataframe tbody tr th {\n",
       "        vertical-align: top;\n",
       "    }\n",
       "\n",
       "    .dataframe thead th {\n",
       "        text-align: right;\n",
       "    }\n",
       "</style>\n",
       "<table border=\"1\" class=\"dataframe\">\n",
       "  <thead>\n",
       "    <tr style=\"text-align: right;\">\n",
       "      <th></th>\n",
       "      <th>Country</th>\n",
       "      <th>Region</th>\n",
       "      <th>Happiness Rank</th>\n",
       "      <th>Happiness Score</th>\n",
       "      <th>Standard Error</th>\n",
       "      <th>Economy (GDP per Capita)</th>\n",
       "      <th>Family</th>\n",
       "      <th>Health (Life Expectancy)</th>\n",
       "      <th>Freedom</th>\n",
       "      <th>Trust (Government Corruption)</th>\n",
       "      <th>Generosity</th>\n",
       "      <th>Dystopia Residual</th>\n",
       "    </tr>\n",
       "  </thead>\n",
       "  <tbody>\n",
       "    <tr>\n",
       "      <th>0</th>\n",
       "      <td>Switzerland</td>\n",
       "      <td>Western Europe</td>\n",
       "      <td>1</td>\n",
       "      <td>7.587</td>\n",
       "      <td>0.03411</td>\n",
       "      <td>1.39651</td>\n",
       "      <td>1.34951</td>\n",
       "      <td>0.94143</td>\n",
       "      <td>0.66557</td>\n",
       "      <td>0.41978</td>\n",
       "      <td>0.29678</td>\n",
       "      <td>2.51738</td>\n",
       "    </tr>\n",
       "    <tr>\n",
       "      <th>1</th>\n",
       "      <td>Iceland</td>\n",
       "      <td>Western Europe</td>\n",
       "      <td>2</td>\n",
       "      <td>7.561</td>\n",
       "      <td>0.04884</td>\n",
       "      <td>1.30232</td>\n",
       "      <td>1.40223</td>\n",
       "      <td>0.94784</td>\n",
       "      <td>0.62877</td>\n",
       "      <td>0.14145</td>\n",
       "      <td>0.43630</td>\n",
       "      <td>2.70201</td>\n",
       "    </tr>\n",
       "    <tr>\n",
       "      <th>2</th>\n",
       "      <td>Denmark</td>\n",
       "      <td>Western Europe</td>\n",
       "      <td>3</td>\n",
       "      <td>7.527</td>\n",
       "      <td>0.03328</td>\n",
       "      <td>1.32548</td>\n",
       "      <td>1.36058</td>\n",
       "      <td>0.87464</td>\n",
       "      <td>0.64938</td>\n",
       "      <td>0.48357</td>\n",
       "      <td>0.34139</td>\n",
       "      <td>2.49204</td>\n",
       "    </tr>\n",
       "    <tr>\n",
       "      <th>3</th>\n",
       "      <td>Norway</td>\n",
       "      <td>Western Europe</td>\n",
       "      <td>4</td>\n",
       "      <td>7.522</td>\n",
       "      <td>0.03880</td>\n",
       "      <td>1.45900</td>\n",
       "      <td>1.33095</td>\n",
       "      <td>0.88521</td>\n",
       "      <td>0.66973</td>\n",
       "      <td>0.36503</td>\n",
       "      <td>0.34699</td>\n",
       "      <td>2.46531</td>\n",
       "    </tr>\n",
       "    <tr>\n",
       "      <th>4</th>\n",
       "      <td>Canada</td>\n",
       "      <td>North America</td>\n",
       "      <td>5</td>\n",
       "      <td>7.427</td>\n",
       "      <td>0.03553</td>\n",
       "      <td>1.32629</td>\n",
       "      <td>1.32261</td>\n",
       "      <td>0.90563</td>\n",
       "      <td>0.63297</td>\n",
       "      <td>0.32957</td>\n",
       "      <td>0.45811</td>\n",
       "      <td>2.45176</td>\n",
       "    </tr>\n",
       "  </tbody>\n",
       "</table>\n",
       "</div>"
      ],
      "text/plain": [
       "       Country          Region  Happiness Rank  Happiness Score  \\\n",
       "0  Switzerland  Western Europe               1            7.587   \n",
       "1      Iceland  Western Europe               2            7.561   \n",
       "2      Denmark  Western Europe               3            7.527   \n",
       "3       Norway  Western Europe               4            7.522   \n",
       "4       Canada   North America               5            7.427   \n",
       "\n",
       "   Standard Error  Economy (GDP per Capita)   Family  \\\n",
       "0         0.03411                   1.39651  1.34951   \n",
       "1         0.04884                   1.30232  1.40223   \n",
       "2         0.03328                   1.32548  1.36058   \n",
       "3         0.03880                   1.45900  1.33095   \n",
       "4         0.03553                   1.32629  1.32261   \n",
       "\n",
       "   Health (Life Expectancy)  Freedom  Trust (Government Corruption)  \\\n",
       "0                   0.94143  0.66557                        0.41978   \n",
       "1                   0.94784  0.62877                        0.14145   \n",
       "2                   0.87464  0.64938                        0.48357   \n",
       "3                   0.88521  0.66973                        0.36503   \n",
       "4                   0.90563  0.63297                        0.32957   \n",
       "\n",
       "   Generosity  Dystopia Residual  \n",
       "0     0.29678            2.51738  \n",
       "1     0.43630            2.70201  \n",
       "2     0.34139            2.49204  \n",
       "3     0.34699            2.46531  \n",
       "4     0.45811            2.45176  "
      ]
     },
     "execution_count": 2,
     "metadata": {},
     "output_type": "execute_result"
    }
   ],
   "source": [
    "df=pd.read_csv(r'https://raw.githubusercontent.com/dsrscientist/DSData/master/happiness_score_dataset.csv')\n",
    "df.head()"
   ]
  },
  {
   "cell_type": "markdown",
   "id": "cc1a41fc",
   "metadata": {},
   "source": [
    "#  check random sample of data"
   ]
  },
  {
   "cell_type": "code",
   "execution_count": 3,
   "id": "e62dc05e",
   "metadata": {
    "scrolled": true
   },
   "outputs": [
    {
     "data": {
      "text/html": [
       "<div>\n",
       "<style scoped>\n",
       "    .dataframe tbody tr th:only-of-type {\n",
       "        vertical-align: middle;\n",
       "    }\n",
       "\n",
       "    .dataframe tbody tr th {\n",
       "        vertical-align: top;\n",
       "    }\n",
       "\n",
       "    .dataframe thead th {\n",
       "        text-align: right;\n",
       "    }\n",
       "</style>\n",
       "<table border=\"1\" class=\"dataframe\">\n",
       "  <thead>\n",
       "    <tr style=\"text-align: right;\">\n",
       "      <th></th>\n",
       "      <th>Country</th>\n",
       "      <th>Region</th>\n",
       "      <th>Happiness Rank</th>\n",
       "      <th>Happiness Score</th>\n",
       "      <th>Standard Error</th>\n",
       "      <th>Economy (GDP per Capita)</th>\n",
       "      <th>Family</th>\n",
       "      <th>Health (Life Expectancy)</th>\n",
       "      <th>Freedom</th>\n",
       "      <th>Trust (Government Corruption)</th>\n",
       "      <th>Generosity</th>\n",
       "      <th>Dystopia Residual</th>\n",
       "    </tr>\n",
       "  </thead>\n",
       "  <tbody>\n",
       "    <tr>\n",
       "      <th>20</th>\n",
       "      <td>United Kingdom</td>\n",
       "      <td>Western Europe</td>\n",
       "      <td>21</td>\n",
       "      <td>6.867</td>\n",
       "      <td>0.01866</td>\n",
       "      <td>1.26637</td>\n",
       "      <td>1.28548</td>\n",
       "      <td>0.90943</td>\n",
       "      <td>0.59625</td>\n",
       "      <td>0.32067</td>\n",
       "      <td>0.51912</td>\n",
       "      <td>1.96994</td>\n",
       "    </tr>\n",
       "    <tr>\n",
       "      <th>148</th>\n",
       "      <td>Chad</td>\n",
       "      <td>Sub-Saharan Africa</td>\n",
       "      <td>149</td>\n",
       "      <td>3.667</td>\n",
       "      <td>0.03830</td>\n",
       "      <td>0.34193</td>\n",
       "      <td>0.76062</td>\n",
       "      <td>0.15010</td>\n",
       "      <td>0.23501</td>\n",
       "      <td>0.05269</td>\n",
       "      <td>0.18386</td>\n",
       "      <td>1.94296</td>\n",
       "    </tr>\n",
       "    <tr>\n",
       "      <th>33</th>\n",
       "      <td>Thailand</td>\n",
       "      <td>Southeastern Asia</td>\n",
       "      <td>34</td>\n",
       "      <td>6.455</td>\n",
       "      <td>0.03557</td>\n",
       "      <td>0.96690</td>\n",
       "      <td>1.26504</td>\n",
       "      <td>0.73850</td>\n",
       "      <td>0.55664</td>\n",
       "      <td>0.03187</td>\n",
       "      <td>0.57630</td>\n",
       "      <td>2.31945</td>\n",
       "    </tr>\n",
       "    <tr>\n",
       "      <th>27</th>\n",
       "      <td>Qatar</td>\n",
       "      <td>Middle East and Northern Africa</td>\n",
       "      <td>28</td>\n",
       "      <td>6.611</td>\n",
       "      <td>0.06257</td>\n",
       "      <td>1.69042</td>\n",
       "      <td>1.07860</td>\n",
       "      <td>0.79733</td>\n",
       "      <td>0.64040</td>\n",
       "      <td>0.52208</td>\n",
       "      <td>0.32573</td>\n",
       "      <td>1.55674</td>\n",
       "    </tr>\n",
       "    <tr>\n",
       "      <th>63</th>\n",
       "      <td>Russia</td>\n",
       "      <td>Central and Eastern Europe</td>\n",
       "      <td>64</td>\n",
       "      <td>5.716</td>\n",
       "      <td>0.03135</td>\n",
       "      <td>1.13764</td>\n",
       "      <td>1.23617</td>\n",
       "      <td>0.66926</td>\n",
       "      <td>0.36679</td>\n",
       "      <td>0.03005</td>\n",
       "      <td>0.00199</td>\n",
       "      <td>2.27394</td>\n",
       "    </tr>\n",
       "  </tbody>\n",
       "</table>\n",
       "</div>"
      ],
      "text/plain": [
       "            Country                           Region  Happiness Rank  \\\n",
       "20   United Kingdom                   Western Europe              21   \n",
       "148            Chad               Sub-Saharan Africa             149   \n",
       "33         Thailand                Southeastern Asia              34   \n",
       "27            Qatar  Middle East and Northern Africa              28   \n",
       "63           Russia       Central and Eastern Europe              64   \n",
       "\n",
       "     Happiness Score  Standard Error  Economy (GDP per Capita)   Family  \\\n",
       "20             6.867         0.01866                   1.26637  1.28548   \n",
       "148            3.667         0.03830                   0.34193  0.76062   \n",
       "33             6.455         0.03557                   0.96690  1.26504   \n",
       "27             6.611         0.06257                   1.69042  1.07860   \n",
       "63             5.716         0.03135                   1.13764  1.23617   \n",
       "\n",
       "     Health (Life Expectancy)  Freedom  Trust (Government Corruption)  \\\n",
       "20                    0.90943  0.59625                        0.32067   \n",
       "148                   0.15010  0.23501                        0.05269   \n",
       "33                    0.73850  0.55664                        0.03187   \n",
       "27                    0.79733  0.64040                        0.52208   \n",
       "63                    0.66926  0.36679                        0.03005   \n",
       "\n",
       "     Generosity  Dystopia Residual  \n",
       "20      0.51912            1.96994  \n",
       "148     0.18386            1.94296  \n",
       "33      0.57630            2.31945  \n",
       "27      0.32573            1.55674  \n",
       "63      0.00199            2.27394  "
      ]
     },
     "execution_count": 3,
     "metadata": {},
     "output_type": "execute_result"
    }
   ],
   "source": [
    "df.sample(5)"
   ]
  },
  {
   "cell_type": "code",
   "execution_count": 4,
   "id": "00ea7cef",
   "metadata": {},
   "outputs": [
    {
     "data": {
      "text/plain": [
       "(158, 12)"
      ]
     },
     "execution_count": 4,
     "metadata": {},
     "output_type": "execute_result"
    }
   ],
   "source": [
    "df.shape"
   ]
  },
  {
   "cell_type": "markdown",
   "id": "7f2dbe06",
   "metadata": {},
   "source": [
    "#  There are 158 rows and 12 columns present in data"
   ]
  },
  {
   "cell_type": "code",
   "execution_count": 5,
   "id": "57a9d0af",
   "metadata": {},
   "outputs": [
    {
     "name": "stdout",
     "output_type": "stream",
     "text": [
      "<class 'pandas.core.frame.DataFrame'>\n",
      "RangeIndex: 158 entries, 0 to 157\n",
      "Data columns (total 12 columns):\n",
      " #   Column                         Non-Null Count  Dtype  \n",
      "---  ------                         --------------  -----  \n",
      " 0   Country                        158 non-null    object \n",
      " 1   Region                         158 non-null    object \n",
      " 2   Happiness Rank                 158 non-null    int64  \n",
      " 3   Happiness Score                158 non-null    float64\n",
      " 4   Standard Error                 158 non-null    float64\n",
      " 5   Economy (GDP per Capita)       158 non-null    float64\n",
      " 6   Family                         158 non-null    float64\n",
      " 7   Health (Life Expectancy)       158 non-null    float64\n",
      " 8   Freedom                        158 non-null    float64\n",
      " 9   Trust (Government Corruption)  158 non-null    float64\n",
      " 10  Generosity                     158 non-null    float64\n",
      " 11  Dystopia Residual              158 non-null    float64\n",
      "dtypes: float64(9), int64(1), object(2)\n",
      "memory usage: 14.9+ KB\n"
     ]
    }
   ],
   "source": [
    "df.info()"
   ]
  },
  {
   "cell_type": "markdown",
   "id": "d4a41990",
   "metadata": {},
   "source": [
    "# The target variable happiness score is float data type and this project linear regression model"
   ]
  },
  {
   "cell_type": "code",
   "execution_count": 6,
   "id": "a31af569",
   "metadata": {},
   "outputs": [
    {
     "data": {
      "text/plain": [
       "Country                          0\n",
       "Region                           0\n",
       "Happiness Rank                   0\n",
       "Happiness Score                  0\n",
       "Standard Error                   0\n",
       "Economy (GDP per Capita)         0\n",
       "Family                           0\n",
       "Health (Life Expectancy)         0\n",
       "Freedom                          0\n",
       "Trust (Government Corruption)    0\n",
       "Generosity                       0\n",
       "Dystopia Residual                0\n",
       "dtype: int64"
      ]
     },
     "execution_count": 6,
     "metadata": {},
     "output_type": "execute_result"
    }
   ],
   "source": [
    "df.isna().sum()"
   ]
  },
  {
   "cell_type": "markdown",
   "id": "cca3518e",
   "metadata": {},
   "source": [
    "# There are no null value present in data"
   ]
  },
  {
   "cell_type": "code",
   "execution_count": 7,
   "id": "12bf741c",
   "metadata": {
    "scrolled": false
   },
   "outputs": [
    {
     "name": "stdout",
     "output_type": "stream",
     "text": [
      "Switzerland    1\n",
      "Bangladesh     1\n",
      "Greece         1\n",
      "Lebanon        1\n",
      "Hungary        1\n",
      "              ..\n",
      "Kazakhstan     1\n",
      "Slovenia       1\n",
      "Lithuania      1\n",
      "Nicaragua      1\n",
      "Togo           1\n",
      "Name: Country, Length: 158, dtype: int64\n",
      "Sub-Saharan Africa                 40\n",
      "Central and Eastern Europe         29\n",
      "Latin America and Caribbean        22\n",
      "Western Europe                     21\n",
      "Middle East and Northern Africa    20\n",
      "Southeastern Asia                   9\n",
      "Southern Asia                       7\n",
      "Eastern Asia                        6\n",
      "North America                       2\n",
      "Australia and New Zealand           2\n",
      "Name: Region, dtype: int64\n",
      "82     2\n",
      "1      1\n",
      "110    1\n",
      "103    1\n",
      "104    1\n",
      "      ..\n",
      "54     1\n",
      "55     1\n",
      "56     1\n",
      "57     1\n",
      "158    1\n",
      "Name: Happiness Rank, Length: 157, dtype: int64\n",
      "5.192    2\n",
      "7.587    1\n",
      "4.686    1\n",
      "4.839    1\n",
      "4.800    1\n",
      "        ..\n",
      "5.855    1\n",
      "5.848    1\n",
      "5.833    1\n",
      "5.828    1\n",
      "2.839    1\n",
      "Name: Happiness Score, Length: 157, dtype: int64\n",
      "0.03780    2\n",
      "0.03751    2\n",
      "0.04394    2\n",
      "0.05051    2\n",
      "0.04934    2\n",
      "          ..\n",
      "0.04114    1\n",
      "0.04251    1\n",
      "0.03843    1\n",
      "0.05371    1\n",
      "0.06727    1\n",
      "Name: Standard Error, Length: 153, dtype: int64\n",
      "1.39651    1\n",
      "0.39753    1\n",
      "1.15406    1\n",
      "1.02564    1\n",
      "1.12094    1\n",
      "          ..\n",
      "1.12254    1\n",
      "1.18498    1\n",
      "1.14723    1\n",
      "0.59325    1\n",
      "0.20868    1\n",
      "Name: Economy (GDP per Capita), Length: 158, dtype: int64\n",
      "1.34951    1\n",
      "0.43106    1\n",
      "0.92933    1\n",
      "0.80001    1\n",
      "1.20215    1\n",
      "          ..\n",
      "1.12241    1\n",
      "1.27385    1\n",
      "1.25745    1\n",
      "1.14184    1\n",
      "0.13995    1\n",
      "Name: Family, Length: 158, dtype: int64\n",
      "0.92356    2\n",
      "0.94143    1\n",
      "0.60268    1\n",
      "0.88213    1\n",
      "0.83947    1\n",
      "          ..\n",
      "0.66098    1\n",
      "0.64368    1\n",
      "0.87337    1\n",
      "0.73128    1\n",
      "0.28443    1\n",
      "Name: Health (Life Expectancy), Length: 157, dtype: int64\n",
      "0.66557    1\n",
      "0.40820    1\n",
      "0.07699    1\n",
      "0.33916    1\n",
      "0.32112    1\n",
      "          ..\n",
      "0.51649    1\n",
      "0.60855    1\n",
      "0.21342    1\n",
      "0.55475    1\n",
      "0.36453    1\n",
      "Name: Freedom, Length: 158, dtype: int64\n",
      "0.32524    2\n",
      "0.07625    1\n",
      "0.01397    1\n",
      "0.04582    1\n",
      "0.02758    1\n",
      "          ..\n",
      "0.03787    1\n",
      "0.01031    1\n",
      "0.19317    1\n",
      "0.05989    1\n",
      "0.10731    1\n",
      "Name: Trust (Government Corruption), Length: 157, dtype: int64\n",
      "0.29678    1\n",
      "0.21222    1\n",
      "0.00000    1\n",
      "0.21854    1\n",
      "0.12800    1\n",
      "          ..\n",
      "0.11827    1\n",
      "0.25328    1\n",
      "0.02641    1\n",
      "0.27815    1\n",
      "0.16681    1\n",
      "Name: Generosity, Length: 158, dtype: int64\n",
      "2.51738    1\n",
      "2.51767    1\n",
      "1.80101    1\n",
      "1.57059    1\n",
      "1.24074    1\n",
      "          ..\n",
      "2.24729    1\n",
      "1.61583    1\n",
      "2.44649    1\n",
      "2.32407    1\n",
      "1.56726    1\n",
      "Name: Dystopia Residual, Length: 158, dtype: int64\n"
     ]
    }
   ],
   "source": [
    "for i in df.columns:\n",
    "    print(df[i].value_counts())"
   ]
  },
  {
   "cell_type": "code",
   "execution_count": 8,
   "id": "3882c6e0",
   "metadata": {},
   "outputs": [
    {
     "data": {
      "text/plain": [
       "Sub-Saharan Africa                 40\n",
       "Central and Eastern Europe         29\n",
       "Latin America and Caribbean        22\n",
       "Western Europe                     21\n",
       "Middle East and Northern Africa    20\n",
       "Southeastern Asia                   9\n",
       "Southern Asia                       7\n",
       "Eastern Asia                        6\n",
       "North America                       2\n",
       "Australia and New Zealand           2\n",
       "Name: Region, dtype: int64"
      ]
     },
     "execution_count": 8,
     "metadata": {},
     "output_type": "execute_result"
    }
   ],
   "source": [
    "df['Region'].value_counts()"
   ]
  },
  {
   "cell_type": "code",
   "execution_count": 9,
   "id": "ad717307",
   "metadata": {},
   "outputs": [],
   "source": [
    "df.drop(columns= ['Happiness Rank','Country'],axis=1,inplace=True)"
   ]
  },
  {
   "cell_type": "markdown",
   "id": "dba7cc3e",
   "metadata": {},
   "source": [
    "#  happiness column and country is just a rank given by happiness score wise to each contry so we delete those column"
   ]
  },
  {
   "cell_type": "code",
   "execution_count": 10,
   "id": "ca0c8ef0",
   "metadata": {},
   "outputs": [
    {
     "data": {
      "text/html": [
       "<div>\n",
       "<style scoped>\n",
       "    .dataframe tbody tr th:only-of-type {\n",
       "        vertical-align: middle;\n",
       "    }\n",
       "\n",
       "    .dataframe tbody tr th {\n",
       "        vertical-align: top;\n",
       "    }\n",
       "\n",
       "    .dataframe thead th {\n",
       "        text-align: right;\n",
       "    }\n",
       "</style>\n",
       "<table border=\"1\" class=\"dataframe\">\n",
       "  <thead>\n",
       "    <tr style=\"text-align: right;\">\n",
       "      <th></th>\n",
       "      <th>Happiness Score</th>\n",
       "      <th>Standard Error</th>\n",
       "      <th>Economy (GDP per Capita)</th>\n",
       "      <th>Family</th>\n",
       "      <th>Health (Life Expectancy)</th>\n",
       "      <th>Freedom</th>\n",
       "      <th>Trust (Government Corruption)</th>\n",
       "      <th>Generosity</th>\n",
       "      <th>Dystopia Residual</th>\n",
       "    </tr>\n",
       "  </thead>\n",
       "  <tbody>\n",
       "    <tr>\n",
       "      <th>count</th>\n",
       "      <td>158.000000</td>\n",
       "      <td>158.000000</td>\n",
       "      <td>158.000000</td>\n",
       "      <td>158.000000</td>\n",
       "      <td>158.000000</td>\n",
       "      <td>158.000000</td>\n",
       "      <td>158.000000</td>\n",
       "      <td>158.000000</td>\n",
       "      <td>158.000000</td>\n",
       "    </tr>\n",
       "    <tr>\n",
       "      <th>mean</th>\n",
       "      <td>5.375734</td>\n",
       "      <td>0.047885</td>\n",
       "      <td>0.846137</td>\n",
       "      <td>0.991046</td>\n",
       "      <td>0.630259</td>\n",
       "      <td>0.428615</td>\n",
       "      <td>0.143422</td>\n",
       "      <td>0.237296</td>\n",
       "      <td>2.098977</td>\n",
       "    </tr>\n",
       "    <tr>\n",
       "      <th>std</th>\n",
       "      <td>1.145010</td>\n",
       "      <td>0.017146</td>\n",
       "      <td>0.403121</td>\n",
       "      <td>0.272369</td>\n",
       "      <td>0.247078</td>\n",
       "      <td>0.150693</td>\n",
       "      <td>0.120034</td>\n",
       "      <td>0.126685</td>\n",
       "      <td>0.553550</td>\n",
       "    </tr>\n",
       "    <tr>\n",
       "      <th>min</th>\n",
       "      <td>2.839000</td>\n",
       "      <td>0.018480</td>\n",
       "      <td>0.000000</td>\n",
       "      <td>0.000000</td>\n",
       "      <td>0.000000</td>\n",
       "      <td>0.000000</td>\n",
       "      <td>0.000000</td>\n",
       "      <td>0.000000</td>\n",
       "      <td>0.328580</td>\n",
       "    </tr>\n",
       "    <tr>\n",
       "      <th>25%</th>\n",
       "      <td>4.526000</td>\n",
       "      <td>0.037268</td>\n",
       "      <td>0.545808</td>\n",
       "      <td>0.856823</td>\n",
       "      <td>0.439185</td>\n",
       "      <td>0.328330</td>\n",
       "      <td>0.061675</td>\n",
       "      <td>0.150553</td>\n",
       "      <td>1.759410</td>\n",
       "    </tr>\n",
       "    <tr>\n",
       "      <th>50%</th>\n",
       "      <td>5.232500</td>\n",
       "      <td>0.043940</td>\n",
       "      <td>0.910245</td>\n",
       "      <td>1.029510</td>\n",
       "      <td>0.696705</td>\n",
       "      <td>0.435515</td>\n",
       "      <td>0.107220</td>\n",
       "      <td>0.216130</td>\n",
       "      <td>2.095415</td>\n",
       "    </tr>\n",
       "    <tr>\n",
       "      <th>75%</th>\n",
       "      <td>6.243750</td>\n",
       "      <td>0.052300</td>\n",
       "      <td>1.158448</td>\n",
       "      <td>1.214405</td>\n",
       "      <td>0.811013</td>\n",
       "      <td>0.549092</td>\n",
       "      <td>0.180255</td>\n",
       "      <td>0.309883</td>\n",
       "      <td>2.462415</td>\n",
       "    </tr>\n",
       "    <tr>\n",
       "      <th>max</th>\n",
       "      <td>7.587000</td>\n",
       "      <td>0.136930</td>\n",
       "      <td>1.690420</td>\n",
       "      <td>1.402230</td>\n",
       "      <td>1.025250</td>\n",
       "      <td>0.669730</td>\n",
       "      <td>0.551910</td>\n",
       "      <td>0.795880</td>\n",
       "      <td>3.602140</td>\n",
       "    </tr>\n",
       "  </tbody>\n",
       "</table>\n",
       "</div>"
      ],
      "text/plain": [
       "       Happiness Score  Standard Error  Economy (GDP per Capita)      Family  \\\n",
       "count       158.000000      158.000000                158.000000  158.000000   \n",
       "mean          5.375734        0.047885                  0.846137    0.991046   \n",
       "std           1.145010        0.017146                  0.403121    0.272369   \n",
       "min           2.839000        0.018480                  0.000000    0.000000   \n",
       "25%           4.526000        0.037268                  0.545808    0.856823   \n",
       "50%           5.232500        0.043940                  0.910245    1.029510   \n",
       "75%           6.243750        0.052300                  1.158448    1.214405   \n",
       "max           7.587000        0.136930                  1.690420    1.402230   \n",
       "\n",
       "       Health (Life Expectancy)     Freedom  Trust (Government Corruption)  \\\n",
       "count                158.000000  158.000000                     158.000000   \n",
       "mean                   0.630259    0.428615                       0.143422   \n",
       "std                    0.247078    0.150693                       0.120034   \n",
       "min                    0.000000    0.000000                       0.000000   \n",
       "25%                    0.439185    0.328330                       0.061675   \n",
       "50%                    0.696705    0.435515                       0.107220   \n",
       "75%                    0.811013    0.549092                       0.180255   \n",
       "max                    1.025250    0.669730                       0.551910   \n",
       "\n",
       "       Generosity  Dystopia Residual  \n",
       "count  158.000000         158.000000  \n",
       "mean     0.237296           2.098977  \n",
       "std      0.126685           0.553550  \n",
       "min      0.000000           0.328580  \n",
       "25%      0.150553           1.759410  \n",
       "50%      0.216130           2.095415  \n",
       "75%      0.309883           2.462415  \n",
       "max      0.795880           3.602140  "
      ]
     },
     "execution_count": 10,
     "metadata": {},
     "output_type": "execute_result"
    }
   ],
   "source": [
    "df.describe()"
   ]
  },
  {
   "cell_type": "markdown",
   "id": "da364824",
   "metadata": {},
   "source": [
    "# \n",
    " the given statistical information of the numerical column. The summary of the dataset looks perfect since there is no negative value present in data\n",
    " From the above description we observed  the following:\n",
    " \n",
    "The counts of the all columns are same which means there is no missing value in the dataset\n",
    "there is some column mean value is greater then 50 percentile there are right skweness\n",
    "and also some column mean value is lower than 50 percentile there are left skweness\n"
   ]
  },
  {
   "cell_type": "markdown",
   "id": "c362a62d",
   "metadata": {},
   "source": [
    "#  EDA"
   ]
  },
  {
   "cell_type": "code",
   "execution_count": 11,
   "id": "b9318563",
   "metadata": {},
   "outputs": [
    {
     "data": {
      "image/png": "[encoded data removed]",
      "text/plain": [
       "<Figure size 504x360 with 1 Axes>"
      ]
     },
     "metadata": {
      "needs_background": "light"
     },
     "output_type": "display_data"
    }
   ],
   "source": [
    "import matplotlib as mpl\n",
    "f, ax = plt.subplots(figsize=(7, 5))\n",
    "sns.despine(f)\n",
    "\n",
    "sns.histplot(\n",
    "    df,\n",
    "    x=\"Happiness Score\",hue=\"Region\",\n",
    "    multiple=\"stack\",\n",
    "    palette=\"light:m_r\",\n",
    "    edgecolor=\".3\",\n",
    "    linewidth=.5,\n",
    "    log_scale=True,\n",
    ")\n",
    "ax.xaxis.set_major_formatter(mpl.ticker.ScalarFormatter())\n",
    "ax.set_xticks(range(1,15,2))\n",
    "plt.show()"
   ]
  },
  {
   "cell_type": "code",
   "execution_count": 12,
   "id": "45d34937",
   "metadata": {},
   "outputs": [],
   "source": [
    "catgorical_col=[]\n",
    "for i in df.dtypes.index:\n",
    "    if df.dtypes[i]=='object':\n",
    "        catgorical_col.append(i)\n",
    "        \n",
    "numerical_col=[]\n",
    "for i in df.dtypes.index:\n",
    "    if df.dtypes[i] !='object':\n",
    "        numerical_col.append(i)"
   ]
  },
  {
   "cell_type": "code",
   "execution_count": 13,
   "id": "69d9c184",
   "metadata": {},
   "outputs": [
    {
     "data": {
      "text/plain": [
       "['Happiness Score',\n",
       " 'Standard Error',\n",
       " 'Economy (GDP per Capita)',\n",
       " 'Family',\n",
       " 'Health (Life Expectancy)',\n",
       " 'Freedom',\n",
       " 'Trust (Government Corruption)',\n",
       " 'Generosity',\n",
       " 'Dystopia Residual']"
      ]
     },
     "execution_count": 13,
     "metadata": {},
     "output_type": "execute_result"
    }
   ],
   "source": [
    "numerical_col"
   ]
  },
  {
   "cell_type": "markdown",
   "id": "bd684d5f",
   "metadata": {},
   "source": [
    "# lets check of which features relation in label if any features dont relationship with label we can drop this"
   ]
  },
  {
   "cell_type": "code",
   "execution_count": 17,
   "id": "2e818bd1",
   "metadata": {
    "scrolled": false
   },
   "outputs": [
    {
     "data": {
      "image/png": "[encoded data removed]",
      "text/plain": [
       "<Figure size 1440x1080 with 9 Axes>"
      ]
     },
     "metadata": {},
     "output_type": "display_data"
    }
   ],
   "source": [
    "plt.figure(figsize=(20,15),facecolor='yellow')\n",
    "plotnumber =1\n",
    "for column in numerical_col:\n",
    "    if plotnumber<=12:\n",
    "        ax=plt.subplot(4,3,plotnumber)\n",
    "        plt.scatter(df[column],y)\n",
    "        plt.xlabel(column, fontsize=15)\n",
    "        plt.ylabel('Happiness Score', fontsize=10)\n",
    "        \n",
    "    plotnumber+=1\n",
    "    \n",
    "plt.tight_layout()    "
   ]
  },
  {
   "cell_type": "markdown",
   "id": "cd49ff31",
   "metadata": {},
   "source": [
    "#  as i analyse  all features have a relation with label whichever is little i'll consider it"
   ]
  },
  {
   "cell_type": "markdown",
   "id": "f53f32c7",
   "metadata": {},
   "source": [
    "#  Let's check the which data is not normally distrubuted"
   ]
  },
  {
   "cell_type": "code",
   "execution_count": null,
   "id": "25eb1f89",
   "metadata": {
    "scrolled": false
   },
   "outputs": [],
   "source": [
    "plt.figure(figsize=(20,15),facecolor='yellow')\n",
    "plotnumber =1\n",
    "for column in numerical_col:\n",
    "    if plotnumber<=12:\n",
    "        ax=plt.subplot(4,3,plotnumber)\n",
    "        sns.distplot(df[column])\n",
    "        plt.xlabel(column, fontsize=15)\n",
    "        plt.ylabel('Happiness Score', fontsize=10)\n",
    "        \n",
    "    plotnumber+=1\n",
    "    \n",
    "plt.tight_layout() "
   ]
  },
  {
   "cell_type": "markdown",
   "id": "ec8afe87",
   "metadata": {},
   "source": [
    "#  The data is left and right skewness"
   ]
  },
  {
   "cell_type": "code",
   "execution_count": 18,
   "id": "19351f04",
   "metadata": {},
   "outputs": [
    {
     "data": {
      "image/png": "[encoded data removed]",
      "text/plain": [
       "<Figure size 1080x1080 with 9 Axes>"
      ]
     },
     "metadata": {
      "needs_background": "light"
     },
     "output_type": "display_data"
    }
   ],
   "source": [
    "plt.figure(figsize=(15,15))\n",
    "i=1\n",
    "for column in numerical_col:\n",
    "    if i<=12:\n",
    "        \n",
    "        \n",
    "    \n",
    "        plt.subplot(4,4,i)\n",
    "    \n",
    "        ax=sns.boxplot(data=df[column])\n",
    "    \n",
    "        plt.xlabel (column,fontsize=15)\n",
    "        \n",
    "    i+=1\n",
    "    \n",
    "plt.show()\n",
    "    \n",
    "                \n",
    "                \n"
   ]
  },
  {
   "cell_type": "markdown",
   "id": "5b5e3267",
   "metadata": {},
   "source": [
    "#  \n",
    "These are outliers present in data \n",
    "lets check which one is best method to remove outliers before building a model\n"
   ]
  },
  {
   "cell_type": "code",
   "execution_count": 19,
   "id": "5d0f4357",
   "metadata": {
    "scrolled": false
   },
   "outputs": [
    {
     "data": {
      "text/html": [
       "<div>\n",
       "<style scoped>\n",
       "    .dataframe tbody tr th:only-of-type {\n",
       "        vertical-align: middle;\n",
       "    }\n",
       "\n",
       "    .dataframe tbody tr th {\n",
       "        vertical-align: top;\n",
       "    }\n",
       "\n",
       "    .dataframe thead th {\n",
       "        text-align: right;\n",
       "    }\n",
       "</style>\n",
       "<table border=\"1\" class=\"dataframe\">\n",
       "  <thead>\n",
       "    <tr style=\"text-align: right;\">\n",
       "      <th></th>\n",
       "      <th>Standard Error</th>\n",
       "      <th>Family</th>\n",
       "      <th>Trust (Government Corruption)</th>\n",
       "      <th>Dystopia Residual</th>\n",
       "    </tr>\n",
       "  </thead>\n",
       "  <tbody>\n",
       "    <tr>\n",
       "      <th>0</th>\n",
       "      <td>0.805926</td>\n",
       "      <td>1.320281</td>\n",
       "      <td>2.309652</td>\n",
       "      <td>0.758258</td>\n",
       "    </tr>\n",
       "    <tr>\n",
       "      <th>1</th>\n",
       "      <td>0.055889</td>\n",
       "      <td>1.514458</td>\n",
       "      <td>0.016480</td>\n",
       "      <td>1.092857</td>\n",
       "    </tr>\n",
       "    <tr>\n",
       "      <th>2</th>\n",
       "      <td>0.854487</td>\n",
       "      <td>1.361054</td>\n",
       "      <td>2.842774</td>\n",
       "      <td>0.712335</td>\n",
       "    </tr>\n",
       "    <tr>\n",
       "      <th>3</th>\n",
       "      <td>0.531526</td>\n",
       "      <td>1.251922</td>\n",
       "      <td>1.852081</td>\n",
       "      <td>0.663893</td>\n",
       "    </tr>\n",
       "    <tr>\n",
       "      <th>4</th>\n",
       "      <td>0.722845</td>\n",
       "      <td>1.221204</td>\n",
       "      <td>1.555725</td>\n",
       "      <td>0.639337</td>\n",
       "    </tr>\n",
       "    <tr>\n",
       "      <th>...</th>\n",
       "      <td>...</td>\n",
       "      <td>...</td>\n",
       "      <td>...</td>\n",
       "      <td>...</td>\n",
       "    </tr>\n",
       "    <tr>\n",
       "      <th>153</th>\n",
       "      <td>0.774917</td>\n",
       "      <td>0.800520</td>\n",
       "      <td>3.413922</td>\n",
       "      <td>2.588925</td>\n",
       "    </tr>\n",
       "    <tr>\n",
       "      <th>154</th>\n",
       "      <td>0.662582</td>\n",
       "      <td>2.346860</td>\n",
       "      <td>0.529210</td>\n",
       "      <td>0.843967</td>\n",
       "    </tr>\n",
       "    <tr>\n",
       "      <th>155</th>\n",
       "      <td>0.132534</td>\n",
       "      <td>1.901086</td>\n",
       "      <td>0.381419</td>\n",
       "      <td>3.208430</td>\n",
       "    </tr>\n",
       "    <tr>\n",
       "      <th>156</th>\n",
       "      <td>2.263962</td>\n",
       "      <td>2.118467</td>\n",
       "      <td>0.357715</td>\n",
       "      <td>0.481985</td>\n",
       "    </tr>\n",
       "    <tr>\n",
       "      <th>157</th>\n",
       "      <td>1.134182</td>\n",
       "      <td>3.134725</td>\n",
       "      <td>0.301803</td>\n",
       "      <td>0.963612</td>\n",
       "    </tr>\n",
       "  </tbody>\n",
       "</table>\n",
       "<p>158 rows × 4 columns</p>\n",
       "</div>"
      ],
      "text/plain": [
       "     Standard Error    Family  Trust (Government Corruption)  \\\n",
       "0          0.805926  1.320281                       2.309652   \n",
       "1          0.055889  1.514458                       0.016480   \n",
       "2          0.854487  1.361054                       2.842774   \n",
       "3          0.531526  1.251922                       1.852081   \n",
       "4          0.722845  1.221204                       1.555725   \n",
       "..              ...       ...                            ...   \n",
       "153        0.774917  0.800520                       3.413922   \n",
       "154        0.662582  2.346860                       0.529210   \n",
       "155        0.132534  1.901086                       0.381419   \n",
       "156        2.263962  2.118467                       0.357715   \n",
       "157        1.134182  3.134725                       0.301803   \n",
       "\n",
       "     Dystopia Residual  \n",
       "0             0.758258  \n",
       "1             1.092857  \n",
       "2             0.712335  \n",
       "3             0.663893  \n",
       "4             0.639337  \n",
       "..                 ...  \n",
       "153           2.588925  \n",
       "154           0.843967  \n",
       "155           3.208430  \n",
       "156           0.481985  \n",
       "157           0.963612  \n",
       "\n",
       "[158 rows x 4 columns]"
      ]
     },
     "execution_count": 19,
     "metadata": {},
     "output_type": "execute_result"
    }
   ],
   "source": [
    "from scipy.stats import zscore\n",
    "outliers= df[['Standard Error','Family','Trust (Government Corruption)','Dystopia Residual']]\n",
    "z=np.abs(zscore(outliers))\n",
    "z"
   ]
  },
  {
   "cell_type": "code",
   "execution_count": 20,
   "id": "c267719b",
   "metadata": {
    "scrolled": true
   },
   "outputs": [
    {
     "data": {
      "text/plain": [
       "(array([  0,   0,   0,   0,   1,   1,   1,   1,   2,   2,   2,   2,   3,\n",
       "          3,   3,   3,   4,   4,   4,   4,   5,   5,   5,   5,   6,   6,\n",
       "          6,   6,   7,   7,   7,   7,   8,   8,   8,   8,   9,   9,   9,\n",
       "          9,  10,  10,  10,  10,  11,  11,  11,  11,  12,  12,  12,  12,\n",
       "         13,  13,  13,  13,  14,  14,  14,  14,  15,  15,  15,  15,  16,\n",
       "         16,  16,  16,  17,  17,  17,  17,  18,  18,  18,  18,  19,  19,\n",
       "         19,  19,  20,  20,  20,  20,  21,  21,  21,  21,  22,  22,  22,\n",
       "         22,  23,  23,  23,  23,  24,  24,  24,  24,  25,  25,  25,  25,\n",
       "         26,  26,  26,  26,  27,  27,  27,  28,  28,  28,  28,  29,  29,\n",
       "         29,  29,  30,  30,  30,  30,  31,  31,  31,  31,  32,  32,  32,\n",
       "         32,  33,  33,  33,  33,  34,  34,  34,  34,  35,  35,  35,  35,\n",
       "         36,  36,  36,  36,  37,  37,  37,  37,  38,  38,  38,  38,  39,\n",
       "         39,  39,  39,  40,  40,  40,  41,  41,  41,  41,  42,  42,  42,\n",
       "         42,  43,  43,  43,  43,  44,  44,  44,  44,  45,  45,  45,  45,\n",
       "         46,  46,  46,  46,  47,  47,  47,  47,  48,  48,  48,  48,  49,\n",
       "         49,  49,  49,  50,  50,  50,  50,  51,  51,  51,  51,  52,  52,\n",
       "         52,  52,  53,  53,  53,  53,  54,  54,  54,  54,  55,  55,  55,\n",
       "         55,  56,  56,  56,  56,  57,  57,  57,  57,  58,  58,  58,  58,\n",
       "         59,  59,  59,  59,  60,  60,  60,  60,  61,  61,  61,  61,  62,\n",
       "         62,  62,  62,  63,  63,  63,  63,  64,  64,  64,  65,  65,  65,\n",
       "         65,  66,  66,  66,  66,  67,  67,  67,  67,  68,  68,  68,  68,\n",
       "         69,  69,  69,  69,  70,  70,  70,  70,  71,  71,  71,  71,  72,\n",
       "         72,  72,  72,  73,  73,  73,  73,  74,  74,  74,  74,  75,  75,\n",
       "         75,  75,  76,  76,  76,  76,  77,  77,  77,  77,  78,  78,  78,\n",
       "         78,  79,  79,  79,  79,  80,  80,  80,  80,  81,  81,  81,  81,\n",
       "         82,  82,  82,  82,  83,  83,  83,  83,  84,  84,  84,  84,  85,\n",
       "         85,  85,  85,  86,  86,  86,  86,  87,  87,  87,  87,  88,  88,\n",
       "         88,  88,  89,  89,  89,  89,  90,  90,  90,  90,  91,  91,  91,\n",
       "         91,  92,  92,  92,  92,  93,  93,  93,  93,  94,  94,  94,  94,\n",
       "         95,  95,  95,  95,  96,  96,  96,  96,  97,  97,  97,  97,  98,\n",
       "         98,  98,  98,  99,  99,  99,  99, 100, 100, 100, 100, 101, 101,\n",
       "        101, 101, 102, 102, 102, 102, 103, 103, 103, 103, 104, 104, 104,\n",
       "        104, 105, 105, 105, 105, 106, 106, 106, 106, 107, 107, 107, 107,\n",
       "        108, 108, 108, 108, 109, 109, 109, 109, 110, 110, 110, 110, 111,\n",
       "        111, 111, 111, 112, 112, 112, 112, 113, 113, 113, 113, 114, 114,\n",
       "        114, 114, 115, 115, 115, 116, 116, 116, 116, 117, 117, 117, 117,\n",
       "        118, 118, 118, 118, 119, 119, 119, 119, 120, 120, 120, 120, 121,\n",
       "        121, 121, 121, 122, 122, 122, 122, 123, 123, 123, 123, 124, 124,\n",
       "        124, 124, 125, 125, 125, 125, 126, 126, 126, 126, 127, 127, 127,\n",
       "        127, 128, 128, 128, 128, 129, 129, 129, 129, 130, 130, 130, 130,\n",
       "        131, 131, 131, 131, 132, 132, 132, 132, 133, 133, 133, 133, 134,\n",
       "        134, 134, 134, 135, 135, 135, 135, 136, 136, 136, 136, 137, 137,\n",
       "        137, 137, 138, 138, 138, 138, 139, 139, 139, 139, 140, 140, 140,\n",
       "        140, 141, 141, 141, 141, 142, 142, 142, 142, 143, 143, 143, 143,\n",
       "        144, 144, 144, 144, 145, 145, 145, 145, 146, 146, 146, 146, 147,\n",
       "        147, 147, 148, 148, 148, 148, 149, 149, 149, 149, 150, 150, 150,\n",
       "        150, 151, 151, 151, 151, 152, 152, 152, 152, 153, 153, 153, 154,\n",
       "        154, 154, 154, 155, 155, 155, 156, 156, 156, 156, 157, 157, 157],\n",
       "       dtype=int64),\n",
       " array([0, 1, 2, 3, 0, 1, 2, 3, 0, 1, 2, 3, 0, 1, 2, 3, 0, 1, 2, 3, 0, 1,\n",
       "        2, 3, 0, 1, 2, 3, 0, 1, 2, 3, 0, 1, 2, 3, 0, 1, 2, 3, 0, 1, 2, 3,\n",
       "        0, 1, 2, 3, 0, 1, 2, 3, 0, 1, 2, 3, 0, 1, 2, 3, 0, 1, 2, 3, 0, 1,\n",
       "        2, 3, 0, 1, 2, 3, 0, 1, 2, 3, 0, 1, 2, 3, 0, 1, 2, 3, 0, 1, 2, 3,\n",
       "        0, 1, 2, 3, 0, 1, 2, 3, 0, 1, 2, 3, 0, 1, 2, 3, 0, 1, 2, 3, 0, 1,\n",
       "        3, 0, 1, 2, 3, 0, 1, 2, 3, 0, 1, 2, 3, 0, 1, 2, 3, 0, 1, 2, 3, 0,\n",
       "        1, 2, 3, 0, 1, 2, 3, 0, 1, 2, 3, 0, 1, 2, 3, 0, 1, 2, 3, 0, 1, 2,\n",
       "        3, 0, 1, 2, 3, 1, 2, 3, 0, 1, 2, 3, 0, 1, 2, 3, 0, 1, 2, 3, 0, 1,\n",
       "        2, 3, 0, 1, 2, 3, 0, 1, 2, 3, 0, 1, 2, 3, 0, 1, 2, 3, 0, 1, 2, 3,\n",
       "        0, 1, 2, 3, 0, 1, 2, 3, 0, 1, 2, 3, 0, 1, 2, 3, 0, 1, 2, 3, 0, 1,\n",
       "        2, 3, 0, 1, 2, 3, 0, 1, 2, 3, 0, 1, 2, 3, 0, 1, 2, 3, 0, 1, 2, 3,\n",
       "        0, 1, 2, 3, 0, 1, 2, 3, 0, 1, 2, 3, 1, 2, 3, 0, 1, 2, 3, 0, 1, 2,\n",
       "        3, 0, 1, 2, 3, 0, 1, 2, 3, 0, 1, 2, 3, 0, 1, 2, 3, 0, 1, 2, 3, 0,\n",
       "        1, 2, 3, 0, 1, 2, 3, 0, 1, 2, 3, 0, 1, 2, 3, 0, 1, 2, 3, 0, 1, 2,\n",
       "        3, 0, 1, 2, 3, 0, 1, 2, 3, 0, 1, 2, 3, 0, 1, 2, 3, 0, 1, 2, 3, 0,\n",
       "        1, 2, 3, 0, 1, 2, 3, 0, 1, 2, 3, 0, 1, 2, 3, 0, 1, 2, 3, 0, 1, 2,\n",
       "        3, 0, 1, 2, 3, 0, 1, 2, 3, 0, 1, 2, 3, 0, 1, 2, 3, 0, 1, 2, 3, 0,\n",
       "        1, 2, 3, 0, 1, 2, 3, 0, 1, 2, 3, 0, 1, 2, 3, 0, 1, 2, 3, 0, 1, 2,\n",
       "        3, 0, 1, 2, 3, 0, 1, 2, 3, 0, 1, 2, 3, 0, 1, 2, 3, 0, 1, 2, 3, 0,\n",
       "        1, 2, 3, 0, 1, 2, 3, 0, 1, 2, 3, 0, 1, 2, 3, 0, 1, 2, 3, 0, 1, 2,\n",
       "        3, 0, 1, 2, 3, 0, 1, 2, 3, 0, 1, 2, 3, 0, 1, 2, 3, 1, 2, 3, 0, 1,\n",
       "        2, 3, 0, 1, 2, 3, 0, 1, 2, 3, 0, 1, 2, 3, 0, 1, 2, 3, 0, 1, 2, 3,\n",
       "        0, 1, 2, 3, 0, 1, 2, 3, 0, 1, 2, 3, 0, 1, 2, 3, 0, 1, 2, 3, 0, 1,\n",
       "        2, 3, 0, 1, 2, 3, 0, 1, 2, 3, 0, 1, 2, 3, 0, 1, 2, 3, 0, 1, 2, 3,\n",
       "        0, 1, 2, 3, 0, 1, 2, 3, 0, 1, 2, 3, 0, 1, 2, 3, 0, 1, 2, 3, 0, 1,\n",
       "        2, 3, 0, 1, 2, 3, 0, 1, 2, 3, 0, 1, 2, 3, 0, 1, 2, 3, 0, 1, 2, 3,\n",
       "        0, 1, 2, 3, 0, 1, 2, 3, 0, 1, 2, 3, 0, 2, 3, 0, 1, 2, 3, 0, 1, 2,\n",
       "        3, 0, 1, 2, 3, 0, 1, 2, 3, 0, 1, 2, 3, 0, 1, 3, 0, 1, 2, 3, 0, 1,\n",
       "        2, 0, 1, 2, 3, 0, 2, 3], dtype=int64))"
      ]
     },
     "execution_count": 20,
     "metadata": {},
     "output_type": "execute_result"
    }
   ],
   "source": [
    "np.where(z<3)"
   ]
  },
  {
   "cell_type": "code",
   "execution_count": 21,
   "id": "0d745c67",
   "metadata": {},
   "outputs": [
    {
     "data": {
      "text/plain": [
       "(150, 10)"
      ]
     },
     "execution_count": 21,
     "metadata": {},
     "output_type": "execute_result"
    }
   ],
   "source": [
    "df=df[(z<3).all(axis=1)]\n",
    "df.shape"
   ]
  },
  {
   "cell_type": "markdown",
   "id": "e3a553e5",
   "metadata": {},
   "source": [
    "\n",
    "These are 8 columns in outliers so we use z score method to remove outliers"
   ]
  },
  {
   "cell_type": "code",
   "execution_count": 1,
   "id": "79c8732c",
   "metadata": {
    "scrolled": false
   },
   "outputs": [
    {
     "ename": "NameError",
     "evalue": "name 'plt' is not defined",
     "output_type": "error",
     "traceback": [
      "\u001b[1;31m---------------------------------------------------------------------------\u001b[0m",
      "\u001b[1;31mNameError\u001b[0m                                 Traceback (most recent call last)",
      "Input \u001b[1;32mIn [1]\u001b[0m, in \u001b[0;36m<cell line: 1>\u001b[1;34m()\u001b[0m\n\u001b[1;32m----> 1\u001b[0m \u001b[43mplt\u001b[49m\u001b[38;5;241m.\u001b[39mfigure (figsize\u001b[38;5;241m=\u001b[39m(\u001b[38;5;241m10\u001b[39m,\u001b[38;5;241m5\u001b[39m),facecolor\u001b[38;5;241m=\u001b[39m\u001b[38;5;124m'\u001b[39m\u001b[38;5;124mwhite\u001b[39m\u001b[38;5;124m'\u001b[39m)\n\u001b[0;32m      2\u001b[0m sns\u001b[38;5;241m.\u001b[39mheatmap(df\u001b[38;5;241m.\u001b[39mcorr(),annot\u001b[38;5;241m=\u001b[39m\u001b[38;5;28;01mTrue\u001b[39;00m,fmt\u001b[38;5;241m=\u001b[39m\u001b[38;5;124m\"\u001b[39m\u001b[38;5;124m.1f\u001b[39m\u001b[38;5;124m\"\u001b[39m)\n\u001b[0;32m      3\u001b[0m plt\u001b[38;5;241m.\u001b[39mshow()\n",
      "\u001b[1;31mNameError\u001b[0m: name 'plt' is not defined"
     ]
    }
   ],
   "source": [
    "plt.figure (figsize=(10,5),facecolor='white')\n",
    "sns.heatmap(df.corr(),annot=True,fmt=\".1f\")\n",
    "plt.show()"
   ]
  },
  {
   "cell_type": "markdown",
   "id": "c58ef1b1",
   "metadata": {},
   "source": [
    "# As we observed  Economy (GDP per Capita) and  Health (Life Expectancy) \n",
    "# has a strong corelation "
   ]
  },
  {
   "cell_type": "code",
   "execution_count": 24,
   "id": "cd92276c",
   "metadata": {
    "scrolled": false
   },
   "outputs": [
    {
     "data": {
      "text/plain": [
       "<AxesSubplot:xlabel='Economy (GDP per Capita)', ylabel='Health (Life Expectancy)'>"
      ]
     },
     "execution_count": 24,
     "metadata": {},
     "output_type": "execute_result"
    },
    {
     "data": {
      "image/png": "[encoded data removed]",
      "text/plain": [
       "<Figure size 432x288 with 1 Axes>"
      ]
     },
     "metadata": {
      "needs_background": "light"
     },
     "output_type": "display_data"
    }
   ],
   "source": [
    "sns.scatterplot(data=df,x= 'Economy (GDP per Capita)',y= 'Health (Life Expectancy)' )"
   ]
  },
  {
   "cell_type": "markdown",
   "id": "d0559dff",
   "metadata": {},
   "source": [
    "# \n",
    "As we see Economy (GDP per Capita) is rising the health life expectancy also rising so we drop health life expectancy cause there is a less corelation as comapred to Economy (GDP per Capita)  with features  "
   ]
  },
  {
   "cell_type": "code",
   "execution_count": 25,
   "id": "a8e9fbc3",
   "metadata": {
    "scrolled": true
   },
   "outputs": [],
   "source": [
    "df.drop(columns= 'Health (Life Expectancy)',axis=1,inplace=True)"
   ]
  },
  {
   "cell_type": "markdown",
   "id": "73b80e7e",
   "metadata": {},
   "source": [
    "#  encoding process"
   ]
  },
  {
   "cell_type": "code",
   "execution_count": 31,
   "id": "541e4752",
   "metadata": {},
   "outputs": [],
   "source": [
    "from sklearn.preprocessing import LabelEncoder\n",
    "label_encoder= LabelEncoder()\n",
    "\n",
    "df['Region']=label_encoder.fit_transform(df['Region'])"
   ]
  },
  {
   "cell_type": "code",
   "execution_count": 33,
   "id": "a2ce03ee",
   "metadata": {},
   "outputs": [
    {
     "data": {
      "text/html": [
       "<div>\n",
       "<style scoped>\n",
       "    .dataframe tbody tr th:only-of-type {\n",
       "        vertical-align: middle;\n",
       "    }\n",
       "\n",
       "    .dataframe tbody tr th {\n",
       "        vertical-align: top;\n",
       "    }\n",
       "\n",
       "    .dataframe thead th {\n",
       "        text-align: right;\n",
       "    }\n",
       "</style>\n",
       "<table border=\"1\" class=\"dataframe\">\n",
       "  <thead>\n",
       "    <tr style=\"text-align: right;\">\n",
       "      <th></th>\n",
       "      <th>Region</th>\n",
       "      <th>Happiness Score</th>\n",
       "      <th>Standard Error</th>\n",
       "      <th>Economy (GDP per Capita)</th>\n",
       "      <th>Family</th>\n",
       "      <th>Freedom</th>\n",
       "      <th>Trust (Government Corruption)</th>\n",
       "      <th>Generosity</th>\n",
       "      <th>Dystopia Residual</th>\n",
       "    </tr>\n",
       "  </thead>\n",
       "  <tbody>\n",
       "    <tr>\n",
       "      <th>0</th>\n",
       "      <td>9</td>\n",
       "      <td>7.587</td>\n",
       "      <td>0.03411</td>\n",
       "      <td>1.39651</td>\n",
       "      <td>1.34951</td>\n",
       "      <td>0.66557</td>\n",
       "      <td>0.41978</td>\n",
       "      <td>0.29678</td>\n",
       "      <td>2.51738</td>\n",
       "    </tr>\n",
       "    <tr>\n",
       "      <th>1</th>\n",
       "      <td>9</td>\n",
       "      <td>7.561</td>\n",
       "      <td>0.04884</td>\n",
       "      <td>1.30232</td>\n",
       "      <td>1.40223</td>\n",
       "      <td>0.62877</td>\n",
       "      <td>0.14145</td>\n",
       "      <td>0.43630</td>\n",
       "      <td>2.70201</td>\n",
       "    </tr>\n",
       "    <tr>\n",
       "      <th>2</th>\n",
       "      <td>9</td>\n",
       "      <td>7.527</td>\n",
       "      <td>0.03328</td>\n",
       "      <td>1.32548</td>\n",
       "      <td>1.36058</td>\n",
       "      <td>0.64938</td>\n",
       "      <td>0.48357</td>\n",
       "      <td>0.34139</td>\n",
       "      <td>2.49204</td>\n",
       "    </tr>\n",
       "    <tr>\n",
       "      <th>3</th>\n",
       "      <td>9</td>\n",
       "      <td>7.522</td>\n",
       "      <td>0.03880</td>\n",
       "      <td>1.45900</td>\n",
       "      <td>1.33095</td>\n",
       "      <td>0.66973</td>\n",
       "      <td>0.36503</td>\n",
       "      <td>0.34699</td>\n",
       "      <td>2.46531</td>\n",
       "    </tr>\n",
       "    <tr>\n",
       "      <th>4</th>\n",
       "      <td>5</td>\n",
       "      <td>7.427</td>\n",
       "      <td>0.03553</td>\n",
       "      <td>1.32629</td>\n",
       "      <td>1.32261</td>\n",
       "      <td>0.63297</td>\n",
       "      <td>0.32957</td>\n",
       "      <td>0.45811</td>\n",
       "      <td>2.45176</td>\n",
       "    </tr>\n",
       "  </tbody>\n",
       "</table>\n",
       "</div>"
      ],
      "text/plain": [
       "   Region  Happiness Score  Standard Error  Economy (GDP per Capita)   Family  \\\n",
       "0       9            7.587         0.03411                   1.39651  1.34951   \n",
       "1       9            7.561         0.04884                   1.30232  1.40223   \n",
       "2       9            7.527         0.03328                   1.32548  1.36058   \n",
       "3       9            7.522         0.03880                   1.45900  1.33095   \n",
       "4       5            7.427         0.03553                   1.32629  1.32261   \n",
       "\n",
       "   Freedom  Trust (Government Corruption)  Generosity  Dystopia Residual  \n",
       "0  0.66557                        0.41978     0.29678            2.51738  \n",
       "1  0.62877                        0.14145     0.43630            2.70201  \n",
       "2  0.64938                        0.48357     0.34139            2.49204  \n",
       "3  0.66973                        0.36503     0.34699            2.46531  \n",
       "4  0.63297                        0.32957     0.45811            2.45176  "
      ]
     },
     "execution_count": 33,
     "metadata": {},
     "output_type": "execute_result"
    }
   ],
   "source": [
    "df.head()"
   ]
  },
  {
   "cell_type": "code",
   "execution_count": 34,
   "id": "3e1e1622",
   "metadata": {},
   "outputs": [],
   "source": [
    "x= df.drop(columns= ['Happiness Score'])\n",
    "y=df['Happiness Score']"
   ]
  },
  {
   "cell_type": "code",
   "execution_count": 35,
   "id": "5fbe9d6a",
   "metadata": {},
   "outputs": [],
   "source": [
    "from sklearn.preprocessing import StandardScaler"
   ]
  },
  {
   "cell_type": "code",
   "execution_count": 36,
   "id": "10495bc6",
   "metadata": {},
   "outputs": [],
   "source": [
    "scaler=StandardScaler()\n",
    "x_scaled= scaler.fit_transform(x)"
   ]
  },
  {
   "cell_type": "code",
   "execution_count": 37,
   "id": "f06be0c2",
   "metadata": {},
   "outputs": [],
   "source": [
    "scaler=StandardScaler()\n",
    "x_scaled=scaler.fit_transform(x)  # only features can we standardise we cant standarise label"
   ]
  },
  {
   "cell_type": "code",
   "execution_count": 39,
   "id": "3d8cf506",
   "metadata": {},
   "outputs": [
    {
     "data": {
      "text/html": [
       "<div>\n",
       "<style scoped>\n",
       "    .dataframe tbody tr th:only-of-type {\n",
       "        vertical-align: middle;\n",
       "    }\n",
       "\n",
       "    .dataframe tbody tr th {\n",
       "        vertical-align: top;\n",
       "    }\n",
       "\n",
       "    .dataframe thead th {\n",
       "        text-align: right;\n",
       "    }\n",
       "</style>\n",
       "<table border=\"1\" class=\"dataframe\">\n",
       "  <thead>\n",
       "    <tr style=\"text-align: right;\">\n",
       "      <th></th>\n",
       "      <th>vif</th>\n",
       "      <th>features</th>\n",
       "    </tr>\n",
       "  </thead>\n",
       "  <tbody>\n",
       "    <tr>\n",
       "      <th>0</th>\n",
       "      <td>1.205098</td>\n",
       "      <td>Region</td>\n",
       "    </tr>\n",
       "    <tr>\n",
       "      <th>1</th>\n",
       "      <td>1.097333</td>\n",
       "      <td>Standard Error</td>\n",
       "    </tr>\n",
       "    <tr>\n",
       "      <th>2</th>\n",
       "      <td>2.034467</td>\n",
       "      <td>Economy (GDP per Capita)</td>\n",
       "    </tr>\n",
       "    <tr>\n",
       "      <th>3</th>\n",
       "      <td>1.933716</td>\n",
       "      <td>Family</td>\n",
       "    </tr>\n",
       "    <tr>\n",
       "      <th>4</th>\n",
       "      <td>1.826797</td>\n",
       "      <td>Freedom</td>\n",
       "    </tr>\n",
       "    <tr>\n",
       "      <th>5</th>\n",
       "      <td>1.491867</td>\n",
       "      <td>Trust (Government Corruption)</td>\n",
       "    </tr>\n",
       "    <tr>\n",
       "      <th>6</th>\n",
       "      <td>1.362813</td>\n",
       "      <td>Generosity</td>\n",
       "    </tr>\n",
       "    <tr>\n",
       "      <th>7</th>\n",
       "      <td>1.041711</td>\n",
       "      <td>Dystopia Residual</td>\n",
       "    </tr>\n",
       "  </tbody>\n",
       "</table>\n",
       "</div>"
      ],
      "text/plain": [
       "        vif                       features\n",
       "0  1.205098                         Region\n",
       "1  1.097333                 Standard Error\n",
       "2  2.034467       Economy (GDP per Capita)\n",
       "3  1.933716                         Family\n",
       "4  1.826797                        Freedom\n",
       "5  1.491867  Trust (Government Corruption)\n",
       "6  1.362813                     Generosity\n",
       "7  1.041711              Dystopia Residual"
      ]
     },
     "execution_count": 39,
     "metadata": {},
     "output_type": "execute_result"
    }
   ],
   "source": [
    "from statsmodels.stats.outliers_influence import variance_inflation_factor\n",
    "vif=pd.DataFrame()\n",
    "vif['vif']=[variance_inflation_factor(x_scaled, i) for i in range(x.shape[1])]\n",
    "vif ['features'] =x.columns \n",
    "vif"
   ]
  },
  {
   "cell_type": "markdown",
   "id": "fcc7cc90",
   "metadata": {},
   "source": [
    "#  VIF value is gretar than 5 we can remove this column but in this project we don't remove any column"
   ]
  },
  {
   "cell_type": "markdown",
   "id": "95b72f0d",
   "metadata": {},
   "source": [
    "#  Preprocessing done now we can build a model"
   ]
  },
  {
   "cell_type": "code",
   "execution_count": 40,
   "id": "0b620a01",
   "metadata": {},
   "outputs": [],
   "source": [
    "# import libraryies\n",
    "from sklearn.model_selection import train_test_split\n",
    "from sklearn.metrics import mean_absolute_error\n",
    "from sklearn.metrics import mean_squared_error\n",
    "from sklearn.metrics import r2_score \n",
    "from sklearn.ensemble import GradientBoostingRegressor\n",
    "from sklearn.linear_model import LinearRegression\n",
    "from sklearn.ensemble import RandomForestRegressor\n",
    "from sklearn.tree import DecisionTreeRegressor\n",
    "from sklearn.neighbors import KNeighborsRegressor as KNN\n",
    "from sklearn.linear_model import Lasso, Ridge"
   ]
  },
  {
   "cell_type": "code",
   "execution_count": 41,
   "id": "b3a6e167",
   "metadata": {},
   "outputs": [
    {
     "name": "stdout",
     "output_type": "stream",
     "text": [
      "Best accuracy is 0.9932391706372257 at random_state 313\n"
     ]
    }
   ],
   "source": [
    "maxAccu = 0\n",
    "maxRs = 0\n",
    "\n",
    "for i in range(1, 500):\n",
    "    x_train, x_test, y_train, y_test = train_test_split(x, y, test_size=0.30, random_state=i)\n",
    "    lr = LinearRegression()\n",
    "    lr.fit(x_train, y_train)\n",
    "    y_pred = lr.predict(x_test)\n",
    "    acc = r2_score(y_test, y_pred)\n",
    "    if acc > maxAccu:\n",
    "        maxAccu = acc\n",
    "        maxRs = i\n",
    "\n",
    "print('Best accuracy is', maxAccu, 'at random_state', maxRs)\n"
   ]
  },
  {
   "cell_type": "code",
   "execution_count": 44,
   "id": "69cbe670",
   "metadata": {},
   "outputs": [],
   "source": [
    "x_train, x_test, y_train, y_test = train_test_split(x_scaled,y, test_size = 0.30, random_state = maxRs)"
   ]
  },
  {
   "cell_type": "code",
   "execution_count": 45,
   "id": "065bf259",
   "metadata": {},
   "outputs": [],
   "source": [
    "from sklearn.ensemble import GradientBoostingRegressor\n",
    "from sklearn.linear_model import LinearRegression\n",
    "from sklearn.ensemble import RandomForestRegressor\n",
    "from sklearn.tree import DecisionTreeRegressor\n",
    "from sklearn.neighbors import KNeighborsRegressor as KNN\n",
    "from sklearn.linear_model import Lasso, Ridge"
   ]
  },
  {
   "cell_type": "code",
   "execution_count": 46,
   "id": "9a789494",
   "metadata": {},
   "outputs": [
    {
     "name": "stdout",
     "output_type": "stream",
     "text": [
      "R2_score :  0.993239170637226\n",
      "R2_score on training data:  98.42069556423998\n",
      "MEAN ABSOLUTE ERROR : 0.06922526640853599\n",
      "MEAN SQUARED ERROR : 0.009516362701583889\n",
      "ROOT MEAN SQUARED ERROR : 0.09755184622334878\n"
     ]
    }
   ],
   "source": [
    "LR= LinearRegression()\n",
    "LR.fit(x_train,y_train)\n",
    "pred_LR= LR.predict(x_test)\n",
    "pred_train= LR.predict(x_train)\n",
    "print('R2_score : ',r2_score(y_test,pred_LR) )\n",
    "print('R2_score on training data: ',r2_score(y_train,pred_train)*100)\n",
    "print('MEAN ABSOLUTE ERROR :', mean_absolute_error(y_test, pred_LR))\n",
    "print ('MEAN SQUARED ERROR :', mean_squared_error(y_test, pred_LR))\n",
    "print ('ROOT MEAN SQUARED ERROR :', np.sqrt (mean_squared_error(y_test, pred_LR)))"
   ]
  },
  {
   "cell_type": "code",
   "execution_count": 47,
   "id": "97b5eaac",
   "metadata": {},
   "outputs": [
    {
     "name": "stdout",
     "output_type": "stream",
     "text": [
      "R2_score :  0.9306220327650789\n",
      "R2_score on training data:  99.92981029096616\n",
      "MEAN ABSOLUTE ERROR : 0.25171431379857734\n",
      "MEAN SQUARED ERROR : 0.09765457228389725\n",
      "ROOT MEAN SQUARED ERROR : 0.3124973156427064\n"
     ]
    }
   ],
   "source": [
    "GB= GradientBoostingRegressor()\n",
    "GB.fit(x_train,y_train)\n",
    "pred_GB= GB.predict(x_test)\n",
    "pred_train= GB.predict(x_train)\n",
    "print('R2_score : ',r2_score(y_test,pred_GB) )\n",
    "print('R2_score on training data: ',r2_score(y_train,pred_train)*100)\n",
    "print('MEAN ABSOLUTE ERROR :', mean_absolute_error(y_test, pred_GB))\n",
    "print ('MEAN SQUARED ERROR :', mean_squared_error(y_test, pred_GB))\n",
    "print ('ROOT MEAN SQUARED ERROR :', np.sqrt (mean_squared_error(y_test, pred_GB)))"
   ]
  },
  {
   "cell_type": "code",
   "execution_count": 48,
   "id": "8f85bf29",
   "metadata": {},
   "outputs": [
    {
     "name": "stdout",
     "output_type": "stream",
     "text": [
      "R2_score :  0.9088849095176846\n",
      "R2_score on training data:  98.5676604723514\n",
      "MEAN ABSOLUTE ERROR : 0.2748264444444444\n",
      "MEAN SQUARED ERROR : 0.12825116595777747\n",
      "ROOT MEAN SQUARED ERROR : 0.3581217194722731\n"
     ]
    }
   ],
   "source": [
    "RFR= RandomForestRegressor()\n",
    "RFR.fit(x_train,y_train)\n",
    "pred_RFR= RFR.predict(x_test)\n",
    "pred_train= RFR.predict(x_train)\n",
    "print('R2_score : ',r2_score(y_test,pred_RFR) )\n",
    "print('R2_score on training data: ',r2_score(y_train,pred_train)*100)\n",
    "print('MEAN ABSOLUTE ERROR :', mean_absolute_error(y_test, pred_RFR))\n",
    "print ('MEAN SQUARED ERROR :', mean_squared_error(y_test, pred_RFR))\n",
    "print ('ROOT MEAN SQUARED ERROR :', np.sqrt (mean_squared_error(y_test, pred_RFR)))"
   ]
  },
  {
   "cell_type": "code",
   "execution_count": 49,
   "id": "455d6f72",
   "metadata": {},
   "outputs": [
    {
     "name": "stdout",
     "output_type": "stream",
     "text": [
      "R2_score :  0.993239170637226\n",
      "R2_score on training data:  100.0\n",
      "MEAN ABSOLUTE ERROR : 0.06922526640853599\n",
      "MEAN SQUARED ERROR : 0.009516362701583889\n",
      "ROOT MEAN SQUARED ERROR : 0.09755184622334878\n"
     ]
    }
   ],
   "source": [
    "DTR= DecisionTreeRegressor()\n",
    "DTR.fit(x_train,y_train)\n",
    "pred_DTR= DTR.predict(x_test)\n",
    "pred_train= DTR.predict(x_train)\n",
    "print('R2_score : ',r2_score(y_test,pred_LR) )\n",
    "print('R2_score on training data: ',r2_score(y_train,pred_train)*100)\n",
    "print('MEAN ABSOLUTE ERROR :', mean_absolute_error(y_test, pred_LR))\n",
    "print ('MEAN SQUARED ERROR :', mean_squared_error(y_test, pred_LR))\n",
    "print ('ROOT MEAN SQUARED ERROR :', np.sqrt (mean_squared_error(y_test, pred_LR)))"
   ]
  },
  {
   "cell_type": "code",
   "execution_count": 50,
   "id": "25a692f5",
   "metadata": {},
   "outputs": [
    {
     "name": "stdout",
     "output_type": "stream",
     "text": [
      "R2_score :  0.8511709467401525\n",
      "R2_score on training data:  92.66571205960273\n",
      "MEAN ABSOLUTE ERROR : 0.3556444444444445\n",
      "MEAN SQUARED ERROR : 0.20948779733333334\n",
      "ROOT MEAN SQUARED ERROR : 0.457698369380243\n"
     ]
    }
   ],
   "source": [
    "knn= KNN()\n",
    "knn.fit(x_train,y_train)\n",
    "pred_knn= knn.predict(x_test)\n",
    "pred_train= knn.predict(x_train)\n",
    "print('R2_score : ',r2_score(y_test,pred_knn) )\n",
    "print('R2_score on training data: ',r2_score(y_train,pred_train)*100)\n",
    "print('MEAN ABSOLUTE ERROR :', mean_absolute_error(y_test, pred_knn))\n",
    "print ('MEAN SQUARED ERROR :', mean_squared_error(y_test, pred_knn))\n",
    "print ('ROOT MEAN SQUARED ERROR :', np.sqrt (mean_squared_error(y_test, pred_knn)))"
   ]
  },
  {
   "cell_type": "code",
   "execution_count": 51,
   "id": "123b668c",
   "metadata": {},
   "outputs": [
    {
     "name": "stdout",
     "output_type": "stream",
     "text": [
      "R2_score :  -0.03911979278379629\n",
      "R2_score on training data:  0.0\n",
      "MEAN ABSOLUTE ERROR : 1.0587968253968252\n",
      "MEAN SQUARED ERROR : 1.462637245804988\n",
      "ROOT MEAN SQUARED ERROR : 1.209395405070231\n"
     ]
    }
   ],
   "source": [
    "LA= Lasso()\n",
    "LA.fit(x_train,y_train)\n",
    "pred_LA= LA.predict(x_test)\n",
    "pred_train= LA.predict(x_train)\n",
    "print('R2_score : ',r2_score(y_test,pred_LA) )\n",
    "print('R2_score on training data: ',r2_score(y_train,pred_train)*100)\n",
    "print('MEAN ABSOLUTE ERROR :', mean_absolute_error(y_test, pred_LA))\n",
    "print ('MEAN SQUARED ERROR :', mean_squared_error(y_test, pred_LA))\n",
    "print ('ROOT MEAN SQUARED ERROR :', np.sqrt (mean_squared_error(y_test, pred_LA)))"
   ]
  },
  {
   "cell_type": "code",
   "execution_count": 52,
   "id": "dbcf836f",
   "metadata": {},
   "outputs": [
    {
     "name": "stdout",
     "output_type": "stream",
     "text": [
      "R2_score :  0.9933939480702998\n",
      "R2_score on training data:  92.66571205960273\n",
      "MEAN ABSOLUTE ERROR : 0.06692146339159276\n",
      "MEAN SQUARED ERROR : 0.009298502123817979\n",
      "ROOT MEAN SQUARED ERROR : 0.09642874117097028\n"
     ]
    }
   ],
   "source": [
    "RI= Ridge()\n",
    "RI.fit(x_train,y_train)\n",
    "pred_RI= RI.predict(x_test)\n",
    "pred_train= knn.predict(x_train)\n",
    "print('R2_score : ',r2_score(y_test,pred_RI) )\n",
    "print('R2_score on training data: ',r2_score(y_train,pred_train)*100)\n",
    "print('MEAN ABSOLUTE ERROR :', mean_absolute_error(y_test, pred_RI))\n",
    "print ('MEAN SQUARED ERROR :', mean_squared_error(y_test, pred_RI))\n",
    "print ('ROOT MEAN SQUARED ERROR :', np.sqrt (mean_squared_error(y_test, pred_RI)))"
   ]
  },
  {
   "cell_type": "code",
   "execution_count": 53,
   "id": "7ebc1120",
   "metadata": {},
   "outputs": [],
   "source": [
    "from sklearn.model_selection import cross_val_score"
   ]
  },
  {
   "cell_type": "code",
   "execution_count": 54,
   "id": "5b487518",
   "metadata": {},
   "outputs": [
    {
     "name": "stdout",
     "output_type": "stream",
     "text": [
      "LinearRegression \n",
      "\n",
      "\n",
      "[0.88108007 0.78770758 0.64632669 0.00325457 0.71877544]\n",
      "0.6074288697666576\n",
      "Difference between Accuracy score  and cross validation score is -  0.38581030087056845\n"
     ]
    }
   ],
   "source": [
    "print('LinearRegression ')\n",
    "print('\\n')\n",
    "score=cross_val_score(LR, x, y)\n",
    "print(score)\n",
    "print(score.mean())\n",
    "print('Difference between Accuracy score  and cross validation score is - ', (r2_score(y_test,pred_LR)- score.mean()))"
   ]
  },
  {
   "cell_type": "code",
   "execution_count": 56,
   "id": "7562f1d8",
   "metadata": {},
   "outputs": [
    {
     "name": "stdout",
     "output_type": "stream",
     "text": [
      "GradientBoostingRegressor \n",
      "\n",
      "\n",
      "[-4.39467826 -0.47768806 -1.81366425 -2.52265409 -3.82799632]\n",
      "-2.607336197256064\n",
      "Difference between Accuracy score  and cross validation score is -  3.537958230021143\n"
     ]
    }
   ],
   "source": [
    "print('GradientBoostingRegressor ')\n",
    "print('\\n')\n",
    "score=cross_val_score(GB, x, y)\n",
    "print(score)\n",
    "print(score.mean())\n",
    "print('Difference between Accuracy score  and cross validation score is - ', r2_score(y_test,pred_GB)- score.mean())"
   ]
  },
  {
   "cell_type": "code",
   "execution_count": 57,
   "id": "c8ae86d1",
   "metadata": {},
   "outputs": [
    {
     "name": "stdout",
     "output_type": "stream",
     "text": [
      "RandomForestRegressor \n",
      "\n",
      "\n",
      "[-8.71969431 -1.22562326 -1.0426339  -3.62667554 -6.651453  ]\n",
      "-4.253216004024861\n",
      "Difference between Accuracy score  and cross validation score is -  5.162100913542546\n"
     ]
    }
   ],
   "source": [
    "print('RandomForestRegressor ')\n",
    "print('\\n')\n",
    "score=cross_val_score(RFR, x, y)\n",
    "print(score)\n",
    "print(score.mean())\n",
    "print('Difference between Accuracy score  and cross validation score is - ', r2_score(y_test,pred_RFR)- score.mean())"
   ]
  },
  {
   "cell_type": "code",
   "execution_count": 58,
   "id": "e1bb47fe",
   "metadata": {},
   "outputs": [
    {
     "name": "stdout",
     "output_type": "stream",
     "text": [
      "DecisionTreeRegressor \n",
      "\n",
      "\n",
      "[ -6.86165064  -9.15267924  -7.95793634 -12.92043358  -5.71703576]\n",
      "-8.521947110006963\n",
      "Difference between Accuracy score  and cross validation score is -  9.345938526395388\n"
     ]
    }
   ],
   "source": [
    "print('DecisionTreeRegressor ')\n",
    "print('\\n')\n",
    "score=cross_val_score(DTR, x, y)\n",
    "print(score)\n",
    "print(score.mean())\n",
    "print('Difference between Accuracy score  and cross validation score is - ', r2_score(y_test,pred_DTR)- score.mean())"
   ]
  },
  {
   "cell_type": "code",
   "execution_count": 59,
   "id": "f467017c",
   "metadata": {},
   "outputs": [
    {
     "name": "stdout",
     "output_type": "stream",
     "text": [
      "KNN \n",
      "\n",
      "\n",
      "[-11.91160921  -4.55004484  -4.06995787  -9.9676845   -6.2578939 ]\n",
      "-7.351438063184306\n",
      "Difference between Accuracy score  and cross validation score is -  8.202609009924458\n"
     ]
    }
   ],
   "source": [
    "print('KNN ')\n",
    "print('\\n')\n",
    "score=cross_val_score(knn, x, y)\n",
    "print(score)\n",
    "print(score.mean())\n",
    "print('Difference between Accuracy score  and cross validation score is - ', r2_score(y_test,pred_knn)- score.mean())"
   ]
  },
  {
   "cell_type": "code",
   "execution_count": 60,
   "id": "1919cb69",
   "metadata": {},
   "outputs": [
    {
     "name": "stdout",
     "output_type": "stream",
     "text": [
      "Lasso \n",
      "\n",
      "\n",
      "[-43.10536433 -11.29407049  -0.33440599 -31.93714512 -28.55351357]\n",
      "-23.044899899595762\n",
      "Difference between Accuracy score  and cross validation score is -  23.005780106811965\n"
     ]
    }
   ],
   "source": [
    "print('Lasso ')\n",
    "print('\\n')\n",
    "score=cross_val_score(LA, x, y)\n",
    "print(score)\n",
    "print(score.mean())\n",
    "print('Difference between Accuracy score  and cross validation score is - ', r2_score(y_test,pred_LA)- score.mean())"
   ]
  },
  {
   "cell_type": "code",
   "execution_count": 61,
   "id": "72f7a3c0",
   "metadata": {},
   "outputs": [
    {
     "name": "stdout",
     "output_type": "stream",
     "text": [
      "Ridge \n",
      "\n",
      "\n",
      "[-0.62527745  0.76414913  0.67704151 -0.42092382  0.45861871]\n",
      "0.170721613858162\n",
      "Difference between Accuracy score  and cross validation score is -  0.8226723342121378\n"
     ]
    }
   ],
   "source": [
    "print('Ridge ')\n",
    "print('\\n')\n",
    "score=cross_val_score(RI, x, y)\n",
    "print(score)\n",
    "print(score.mean())\n",
    "print('Difference between Accuracy score  and cross validation score is - ', r2_score(y_test,pred_RI)- score.mean())"
   ]
  },
  {
   "cell_type": "markdown",
   "id": "7e666ce2",
   "metadata": {},
   "source": [
    "# LinearRegression is best model with this project"
   ]
  },
  {
   "cell_type": "code",
   "execution_count": 62,
   "id": "a6cfd8cd",
   "metadata": {},
   "outputs": [],
   "source": [
    "from sklearn.model_selection import GridSearchCV"
   ]
  },
  {
   "cell_type": "code",
   "execution_count": 63,
   "id": "51a52819",
   "metadata": {},
   "outputs": [
    {
     "data": {
      "text/plain": [
       "GridSearchCV(cv=5, estimator=Ridge(),\n",
       "             param_grid={'alpha': [1.0, 0.05, 0.4, 2],\n",
       "                         'fit_intercept': [True, False],\n",
       "                         'positive': [False, True],\n",
       "                         'random_state': [1, 4, 10, 20],\n",
       "                         'solver': ['auto', 'svd', 'cholesky', 'lsqr', 'sag',\n",
       "                                    'saga', 'lbfgs']})"
      ]
     },
     "execution_count": 63,
     "metadata": {},
     "output_type": "execute_result"
    }
   ],
   "source": [
    "params= {'alpha':[1.0,.05,.4,2], 'fit_intercept' :[True, False], \n",
    "       'solver':['auto', 'svd', 'cholesky', 'lsqr', 'sag', 'saga', 'lbfgs'], \n",
    "       'positive': [False, True], \n",
    "         'random_state':[1,4,10,20]}\n",
    "\n",
    "gdsv= GridSearchCV(Ridge(),params,cv=5)\n",
    "gdsv.fit(x_train,y_train)"
   ]
  },
  {
   "cell_type": "code",
   "execution_count": 64,
   "id": "cb327b97",
   "metadata": {},
   "outputs": [
    {
     "data": {
      "text/plain": [
       "{'alpha': 1.0,\n",
       " 'fit_intercept': True,\n",
       " 'positive': False,\n",
       " 'random_state': 20,\n",
       " 'solver': 'saga'}"
      ]
     },
     "execution_count": 64,
     "metadata": {},
     "output_type": "execute_result"
    }
   ],
   "source": [
    "gdsv.best_params_"
   ]
  },
  {
   "cell_type": "code",
   "execution_count": 65,
   "id": "5d88f74f",
   "metadata": {},
   "outputs": [
    {
     "name": "stdout",
     "output_type": "stream",
     "text": [
      "99.34061938766726\n"
     ]
    }
   ],
   "source": [
    "Final_model = Ridge(alpha=1.0, fit_intercept=True, positive=False, random_state=20, solver='saga')\n",
    "Final_model.fit(x_train, y_train)\n",
    "pred = Final_model.predict(x_test)\n",
    "acc= r2_score(y_test, pred)\n",
    "print(acc*100)"
   ]
  },
  {
   "cell_type": "code",
   "execution_count": 66,
   "id": "4e315ba0",
   "metadata": {},
   "outputs": [
    {
     "data": {
      "text/plain": [
       "['World Happiness Report Project']"
      ]
     },
     "execution_count": 66,
     "metadata": {},
     "output_type": "execute_result"
    }
   ],
   "source": [
    "import joblib\n",
    "joblib.dump(Final_model,'World Happiness Report Project')"
   ]
  },
  {
   "cell_type": "code",
   "execution_count": null,
   "id": "e962ede0",
   "metadata": {},
   "outputs": [],
   "source": []
  }
 ],
 "metadata": {
  "kernelspec": {
   "display_name": "Python 3 (ipykernel)",
   "language": "python",
   "name": "python3"
  },
  "language_info": {
   "codemirror_mode": {
    "name": "ipython",
    "version": 3
   },
   "file_extension": ".py",
   "mimetype": "text/x-python",
   "name": "python",
   "nbconvert_exporter": "python",
   "pygments_lexer": "ipython3",
   "version": "3.9.12"
  }
 },
 "nbformat": 4,
 "nbformat_minor": 5
}
