{
 "cells": [
  {
   "cell_type": "markdown",
   "id": "b5ae6f2e",
   "metadata": {},
   "source": [
    "#  Project Description\n",
    "The dataset describes the chemical properties of glass and involves classifying samples of glass using their chemical properties as one of six classes. The dataset was credited to Vina Spiehler in 1987. The study of classification of types of glass was motivated by criminological investigation. At the scene of the crime, the glass left can be used as evidence...if it is correctly identified!\n"
   ]
  },
  {
   "cell_type": "markdown",
   "id": "62a5b292",
   "metadata": {},
   "source": [
    "# The chemical compositions are measured as the weight percent in corresponding oxide.\n",
    "Attribute Information-\n",
    "1.\t Id number: 1 to 214\n",
    "2.\t RI: refractive index\n",
    "3.\tNa: Sodium (unit measurement: weight percent in corresponding oxide, as are attributes 4-10)\n",
    "4.\tMg: Magnesium\n",
    "5.\tAl: Aluminum\n",
    "6.\tSi: Silicon\n",
    "7.\tK: Potassium\n",
    "8.\tCa: Calcium\n",
    "9.\tBa: Barium\n",
    "10.\tFe: Iron\n",
    "11.\tType of glass: (class attribute)\n",
    "•\t1- building_windows_float_processed\n",
    "•\t2- building_windows_non_float_processed\n",
    "•\t3- vehicle_windows_float_processed\n",
    "•\t4- vehicle_windows_non_float_processed (none in this database)\n",
    "•\t5- containers\n",
    "•\t6- tableware\n",
    "•\t7- headlamps\n",
    "There are 214 observations in the dataset. The dataset can be divided into window glass (classes 1-4) and non-window glass (classes 5-7). \n"
   ]
  },
  {
   "cell_type": "markdown",
   "id": "5441cdf0",
   "metadata": {},
   "source": [
    "# Predict : Type of glass"
   ]
  },
  {
   "cell_type": "code",
   "execution_count": 1,
   "id": "cad64238",
   "metadata": {},
   "outputs": [],
   "source": [
    "# import basic library\n",
    "import numpy as np \n",
    "import pandas as pd\n",
    "import matplotlib.pyplot as plt\n",
    "import seaborn as sns\n",
    "import warnings\n",
    "warnings.filterwarnings('ignore')"
   ]
  },
  {
   "cell_type": "code",
   "execution_count": 2,
   "id": "7b44fd5b",
   "metadata": {},
   "outputs": [
    {
     "data": {
      "text/html": [
       "<div>\n",
       "<style scoped>\n",
       "    .dataframe tbody tr th:only-of-type {\n",
       "        vertical-align: middle;\n",
       "    }\n",
       "\n",
       "    .dataframe tbody tr th {\n",
       "        vertical-align: top;\n",
       "    }\n",
       "\n",
       "    .dataframe thead th {\n",
       "        text-align: right;\n",
       "    }\n",
       "</style>\n",
       "<table border=\"1\" class=\"dataframe\">\n",
       "  <thead>\n",
       "    <tr style=\"text-align: right;\">\n",
       "      <th></th>\n",
       "      <th>Id number</th>\n",
       "      <th>refractive index</th>\n",
       "      <th>Sodium</th>\n",
       "      <th>Magnesium</th>\n",
       "      <th>Aluminum</th>\n",
       "      <th>Silicon</th>\n",
       "      <th>Potassium</th>\n",
       "      <th>Calcium</th>\n",
       "      <th>Barium</th>\n",
       "      <th>Iron</th>\n",
       "      <th>Type of glass</th>\n",
       "    </tr>\n",
       "  </thead>\n",
       "  <tbody>\n",
       "    <tr>\n",
       "      <th>0</th>\n",
       "      <td>1</td>\n",
       "      <td>1.52101</td>\n",
       "      <td>13.64</td>\n",
       "      <td>4.49</td>\n",
       "      <td>1.10</td>\n",
       "      <td>71.78</td>\n",
       "      <td>0.06</td>\n",
       "      <td>8.75</td>\n",
       "      <td>0.0</td>\n",
       "      <td>0.0</td>\n",
       "      <td>1</td>\n",
       "    </tr>\n",
       "    <tr>\n",
       "      <th>1</th>\n",
       "      <td>2</td>\n",
       "      <td>1.51761</td>\n",
       "      <td>13.89</td>\n",
       "      <td>3.60</td>\n",
       "      <td>1.36</td>\n",
       "      <td>72.73</td>\n",
       "      <td>0.48</td>\n",
       "      <td>7.83</td>\n",
       "      <td>0.0</td>\n",
       "      <td>0.0</td>\n",
       "      <td>1</td>\n",
       "    </tr>\n",
       "    <tr>\n",
       "      <th>2</th>\n",
       "      <td>3</td>\n",
       "      <td>1.51618</td>\n",
       "      <td>13.53</td>\n",
       "      <td>3.55</td>\n",
       "      <td>1.54</td>\n",
       "      <td>72.99</td>\n",
       "      <td>0.39</td>\n",
       "      <td>7.78</td>\n",
       "      <td>0.0</td>\n",
       "      <td>0.0</td>\n",
       "      <td>1</td>\n",
       "    </tr>\n",
       "    <tr>\n",
       "      <th>3</th>\n",
       "      <td>4</td>\n",
       "      <td>1.51766</td>\n",
       "      <td>13.21</td>\n",
       "      <td>3.69</td>\n",
       "      <td>1.29</td>\n",
       "      <td>72.61</td>\n",
       "      <td>0.57</td>\n",
       "      <td>8.22</td>\n",
       "      <td>0.0</td>\n",
       "      <td>0.0</td>\n",
       "      <td>1</td>\n",
       "    </tr>\n",
       "    <tr>\n",
       "      <th>4</th>\n",
       "      <td>5</td>\n",
       "      <td>1.51742</td>\n",
       "      <td>13.27</td>\n",
       "      <td>3.62</td>\n",
       "      <td>1.24</td>\n",
       "      <td>73.08</td>\n",
       "      <td>0.55</td>\n",
       "      <td>8.07</td>\n",
       "      <td>0.0</td>\n",
       "      <td>0.0</td>\n",
       "      <td>1</td>\n",
       "    </tr>\n",
       "  </tbody>\n",
       "</table>\n",
       "</div>"
      ],
      "text/plain": [
       "   Id number  refractive index  Sodium  Magnesium  Aluminum  Silicon  \\\n",
       "0          1           1.52101   13.64       4.49      1.10    71.78   \n",
       "1          2           1.51761   13.89       3.60      1.36    72.73   \n",
       "2          3           1.51618   13.53       3.55      1.54    72.99   \n",
       "3          4           1.51766   13.21       3.69      1.29    72.61   \n",
       "4          5           1.51742   13.27       3.62      1.24    73.08   \n",
       "\n",
       "   Potassium  Calcium  Barium  Iron  Type of glass  \n",
       "0       0.06     8.75     0.0   0.0              1  \n",
       "1       0.48     7.83     0.0   0.0              1  \n",
       "2       0.39     7.78     0.0   0.0              1  \n",
       "3       0.57     8.22     0.0   0.0              1  \n",
       "4       0.55     8.07     0.0   0.0              1  "
      ]
     },
     "execution_count": 2,
     "metadata": {},
     "output_type": "execute_result"
    }
   ],
   "source": [
    "df=pd.read_csv('https://raw.githubusercontent.com/dsrscientist/dataset3/main/glass.csv',\n",
    "               names=['Id number','refractive index','Sodium','Magnesium','Aluminum','Silicon','Potassium','Calcium','Barium','Iron','Type of glass'])\n",
    "df.head()"
   ]
  },
  {
   "cell_type": "code",
   "execution_count": 3,
   "id": "4fb1d775",
   "metadata": {},
   "outputs": [
    {
     "data": {
      "text/plain": [
       "(214, 11)"
      ]
     },
     "execution_count": 3,
     "metadata": {},
     "output_type": "execute_result"
    }
   ],
   "source": [
    "df.shape"
   ]
  },
  {
   "cell_type": "markdown",
   "id": "ab2f345d",
   "metadata": {},
   "source": [
    "#  There are 214 rows and 11 columns present in dataset"
   ]
  },
  {
   "cell_type": "code",
   "execution_count": 4,
   "id": "806997ce",
   "metadata": {
    "scrolled": true
   },
   "outputs": [
    {
     "data": {
      "text/plain": [
       "Id number           0\n",
       "refractive index    0\n",
       "Sodium              0\n",
       "Magnesium           0\n",
       "Aluminum            0\n",
       "Silicon             0\n",
       "Potassium           0\n",
       "Calcium             0\n",
       "Barium              0\n",
       "Iron                0\n",
       "Type of glass       0\n",
       "dtype: int64"
      ]
     },
     "execution_count": 4,
     "metadata": {},
     "output_type": "execute_result"
    }
   ],
   "source": [
    "df.isna().sum()"
   ]
  },
  {
   "cell_type": "markdown",
   "id": "18c92c11",
   "metadata": {},
   "source": [
    "#  There are no Null value present in dataset"
   ]
  },
  {
   "cell_type": "code",
   "execution_count": 5,
   "id": "39386c10",
   "metadata": {
    "scrolled": true
   },
   "outputs": [
    {
     "name": "stdout",
     "output_type": "stream",
     "text": [
      "<class 'pandas.core.frame.DataFrame'>\n",
      "RangeIndex: 214 entries, 0 to 213\n",
      "Data columns (total 11 columns):\n",
      " #   Column            Non-Null Count  Dtype  \n",
      "---  ------            --------------  -----  \n",
      " 0   Id number         214 non-null    int64  \n",
      " 1   refractive index  214 non-null    float64\n",
      " 2   Sodium            214 non-null    float64\n",
      " 3   Magnesium         214 non-null    float64\n",
      " 4   Aluminum          214 non-null    float64\n",
      " 5   Silicon           214 non-null    float64\n",
      " 6   Potassium         214 non-null    float64\n",
      " 7   Calcium           214 non-null    float64\n",
      " 8   Barium            214 non-null    float64\n",
      " 9   Iron              214 non-null    float64\n",
      " 10  Type of glass     214 non-null    int64  \n",
      "dtypes: float64(9), int64(2)\n",
      "memory usage: 18.5 KB\n"
     ]
    }
   ],
   "source": [
    "df.info()"
   ]
  },
  {
   "cell_type": "markdown",
   "id": "854af516",
   "metadata": {},
   "source": [
    "#  All columns are float datatype except target variable is int datatype \n",
    "# There is multiclass classification model"
   ]
  },
  {
   "cell_type": "code",
   "execution_count": 6,
   "id": "58798772",
   "metadata": {
    "scrolled": false
   },
   "outputs": [
    {
     "name": "stdout",
     "output_type": "stream",
     "text": [
      "<bound method IndexOpsMixin.value_counts of 0        1\n",
      "1        2\n",
      "2        3\n",
      "3        4\n",
      "4        5\n",
      "      ... \n",
      "209    210\n",
      "210    211\n",
      "211    212\n",
      "212    213\n",
      "213    214\n",
      "Name: Id number, Length: 214, dtype: int64>\n",
      "<bound method IndexOpsMixin.value_counts of 0      1.52101\n",
      "1      1.51761\n",
      "2      1.51618\n",
      "3      1.51766\n",
      "4      1.51742\n",
      "        ...   \n",
      "209    1.51623\n",
      "210    1.51685\n",
      "211    1.52065\n",
      "212    1.51651\n",
      "213    1.51711\n",
      "Name: refractive index, Length: 214, dtype: float64>\n",
      "<bound method IndexOpsMixin.value_counts of 0      13.64\n",
      "1      13.89\n",
      "2      13.53\n",
      "3      13.21\n",
      "4      13.27\n",
      "       ...  \n",
      "209    14.14\n",
      "210    14.92\n",
      "211    14.36\n",
      "212    14.38\n",
      "213    14.23\n",
      "Name: Sodium, Length: 214, dtype: float64>\n",
      "<bound method IndexOpsMixin.value_counts of 0      4.49\n",
      "1      3.60\n",
      "2      3.55\n",
      "3      3.69\n",
      "4      3.62\n",
      "       ... \n",
      "209    0.00\n",
      "210    0.00\n",
      "211    0.00\n",
      "212    0.00\n",
      "213    0.00\n",
      "Name: Magnesium, Length: 214, dtype: float64>\n",
      "<bound method IndexOpsMixin.value_counts of 0      1.10\n",
      "1      1.36\n",
      "2      1.54\n",
      "3      1.29\n",
      "4      1.24\n",
      "       ... \n",
      "209    2.88\n",
      "210    1.99\n",
      "211    2.02\n",
      "212    1.94\n",
      "213    2.08\n",
      "Name: Aluminum, Length: 214, dtype: float64>\n",
      "<bound method IndexOpsMixin.value_counts of 0      71.78\n",
      "1      72.73\n",
      "2      72.99\n",
      "3      72.61\n",
      "4      73.08\n",
      "       ...  \n",
      "209    72.61\n",
      "210    73.06\n",
      "211    73.42\n",
      "212    73.61\n",
      "213    73.36\n",
      "Name: Silicon, Length: 214, dtype: float64>\n",
      "<bound method IndexOpsMixin.value_counts of 0      0.06\n",
      "1      0.48\n",
      "2      0.39\n",
      "3      0.57\n",
      "4      0.55\n",
      "       ... \n",
      "209    0.08\n",
      "210    0.00\n",
      "211    0.00\n",
      "212    0.00\n",
      "213    0.00\n",
      "Name: Potassium, Length: 214, dtype: float64>\n",
      "<bound method IndexOpsMixin.value_counts of 0      8.75\n",
      "1      7.83\n",
      "2      7.78\n",
      "3      8.22\n",
      "4      8.07\n",
      "       ... \n",
      "209    9.18\n",
      "210    8.40\n",
      "211    8.44\n",
      "212    8.48\n",
      "213    8.62\n",
      "Name: Calcium, Length: 214, dtype: float64>\n",
      "<bound method IndexOpsMixin.value_counts of 0      0.00\n",
      "1      0.00\n",
      "2      0.00\n",
      "3      0.00\n",
      "4      0.00\n",
      "       ... \n",
      "209    1.06\n",
      "210    1.59\n",
      "211    1.64\n",
      "212    1.57\n",
      "213    1.67\n",
      "Name: Barium, Length: 214, dtype: float64>\n",
      "<bound method IndexOpsMixin.value_counts of 0      0.0\n",
      "1      0.0\n",
      "2      0.0\n",
      "3      0.0\n",
      "4      0.0\n",
      "      ... \n",
      "209    0.0\n",
      "210    0.0\n",
      "211    0.0\n",
      "212    0.0\n",
      "213    0.0\n",
      "Name: Iron, Length: 214, dtype: float64>\n",
      "<bound method IndexOpsMixin.value_counts of 0      1\n",
      "1      1\n",
      "2      1\n",
      "3      1\n",
      "4      1\n",
      "      ..\n",
      "209    7\n",
      "210    7\n",
      "211    7\n",
      "212    7\n",
      "213    7\n",
      "Name: Type of glass, Length: 214, dtype: int64>\n"
     ]
    }
   ],
   "source": [
    "for i in df.columns:\n",
    "    print(df[i].value_counts)"
   ]
  },
  {
   "cell_type": "markdown",
   "id": "031cd16e",
   "metadata": {},
   "source": [
    "#  ID number column is just a serial number and this is not contribute to dataset so better we drop this column"
   ]
  },
  {
   "cell_type": "code",
   "execution_count": null,
   "id": "63f0c7be",
   "metadata": {},
   "outputs": [],
   "source": [
    "df.drop(columns='Id number',inplace=True)"
   ]
  },
  {
   "cell_type": "code",
   "execution_count": 11,
   "id": "e62f312f",
   "metadata": {},
   "outputs": [
    {
     "data": {
      "text/plain": [
       "array([1, 2, 3, 5, 6, 7], dtype=int64)"
      ]
     },
     "execution_count": 11,
     "metadata": {},
     "output_type": "execute_result"
    }
   ],
   "source": [
    "df['Type of glass'].unique()"
   ]
  },
  {
   "cell_type": "code",
   "execution_count": 12,
   "id": "30d38385",
   "metadata": {},
   "outputs": [
    {
     "data": {
      "text/html": [
       "<div>\n",
       "<style scoped>\n",
       "    .dataframe tbody tr th:only-of-type {\n",
       "        vertical-align: middle;\n",
       "    }\n",
       "\n",
       "    .dataframe tbody tr th {\n",
       "        vertical-align: top;\n",
       "    }\n",
       "\n",
       "    .dataframe thead th {\n",
       "        text-align: right;\n",
       "    }\n",
       "</style>\n",
       "<table border=\"1\" class=\"dataframe\">\n",
       "  <thead>\n",
       "    <tr style=\"text-align: right;\">\n",
       "      <th></th>\n",
       "      <th>refractive index</th>\n",
       "      <th>Sodium</th>\n",
       "      <th>Magnesium</th>\n",
       "      <th>Aluminum</th>\n",
       "      <th>Silicon</th>\n",
       "      <th>Potassium</th>\n",
       "      <th>Calcium</th>\n",
       "      <th>Barium</th>\n",
       "      <th>Iron</th>\n",
       "      <th>Type of glass</th>\n",
       "    </tr>\n",
       "  </thead>\n",
       "  <tbody>\n",
       "    <tr>\n",
       "      <th>count</th>\n",
       "      <td>214.000000</td>\n",
       "      <td>214.000000</td>\n",
       "      <td>214.000000</td>\n",
       "      <td>214.000000</td>\n",
       "      <td>214.000000</td>\n",
       "      <td>214.000000</td>\n",
       "      <td>214.000000</td>\n",
       "      <td>214.000000</td>\n",
       "      <td>214.000000</td>\n",
       "      <td>214.000000</td>\n",
       "    </tr>\n",
       "    <tr>\n",
       "      <th>mean</th>\n",
       "      <td>1.518365</td>\n",
       "      <td>13.407850</td>\n",
       "      <td>2.684533</td>\n",
       "      <td>1.444907</td>\n",
       "      <td>72.650935</td>\n",
       "      <td>0.497056</td>\n",
       "      <td>8.956963</td>\n",
       "      <td>0.175047</td>\n",
       "      <td>0.057009</td>\n",
       "      <td>2.780374</td>\n",
       "    </tr>\n",
       "    <tr>\n",
       "      <th>std</th>\n",
       "      <td>0.003037</td>\n",
       "      <td>0.816604</td>\n",
       "      <td>1.442408</td>\n",
       "      <td>0.499270</td>\n",
       "      <td>0.774546</td>\n",
       "      <td>0.652192</td>\n",
       "      <td>1.423153</td>\n",
       "      <td>0.497219</td>\n",
       "      <td>0.097439</td>\n",
       "      <td>2.103739</td>\n",
       "    </tr>\n",
       "    <tr>\n",
       "      <th>min</th>\n",
       "      <td>1.511150</td>\n",
       "      <td>10.730000</td>\n",
       "      <td>0.000000</td>\n",
       "      <td>0.290000</td>\n",
       "      <td>69.810000</td>\n",
       "      <td>0.000000</td>\n",
       "      <td>5.430000</td>\n",
       "      <td>0.000000</td>\n",
       "      <td>0.000000</td>\n",
       "      <td>1.000000</td>\n",
       "    </tr>\n",
       "    <tr>\n",
       "      <th>25%</th>\n",
       "      <td>1.516522</td>\n",
       "      <td>12.907500</td>\n",
       "      <td>2.115000</td>\n",
       "      <td>1.190000</td>\n",
       "      <td>72.280000</td>\n",
       "      <td>0.122500</td>\n",
       "      <td>8.240000</td>\n",
       "      <td>0.000000</td>\n",
       "      <td>0.000000</td>\n",
       "      <td>1.000000</td>\n",
       "    </tr>\n",
       "    <tr>\n",
       "      <th>50%</th>\n",
       "      <td>1.517680</td>\n",
       "      <td>13.300000</td>\n",
       "      <td>3.480000</td>\n",
       "      <td>1.360000</td>\n",
       "      <td>72.790000</td>\n",
       "      <td>0.555000</td>\n",
       "      <td>8.600000</td>\n",
       "      <td>0.000000</td>\n",
       "      <td>0.000000</td>\n",
       "      <td>2.000000</td>\n",
       "    </tr>\n",
       "    <tr>\n",
       "      <th>75%</th>\n",
       "      <td>1.519157</td>\n",
       "      <td>13.825000</td>\n",
       "      <td>3.600000</td>\n",
       "      <td>1.630000</td>\n",
       "      <td>73.087500</td>\n",
       "      <td>0.610000</td>\n",
       "      <td>9.172500</td>\n",
       "      <td>0.000000</td>\n",
       "      <td>0.100000</td>\n",
       "      <td>3.000000</td>\n",
       "    </tr>\n",
       "    <tr>\n",
       "      <th>max</th>\n",
       "      <td>1.533930</td>\n",
       "      <td>17.380000</td>\n",
       "      <td>4.490000</td>\n",
       "      <td>3.500000</td>\n",
       "      <td>75.410000</td>\n",
       "      <td>6.210000</td>\n",
       "      <td>16.190000</td>\n",
       "      <td>3.150000</td>\n",
       "      <td>0.510000</td>\n",
       "      <td>7.000000</td>\n",
       "    </tr>\n",
       "  </tbody>\n",
       "</table>\n",
       "</div>"
      ],
      "text/plain": [
       "       refractive index      Sodium   Magnesium    Aluminum     Silicon  \\\n",
       "count        214.000000  214.000000  214.000000  214.000000  214.000000   \n",
       "mean           1.518365   13.407850    2.684533    1.444907   72.650935   \n",
       "std            0.003037    0.816604    1.442408    0.499270    0.774546   \n",
       "min            1.511150   10.730000    0.000000    0.290000   69.810000   \n",
       "25%            1.516522   12.907500    2.115000    1.190000   72.280000   \n",
       "50%            1.517680   13.300000    3.480000    1.360000   72.790000   \n",
       "75%            1.519157   13.825000    3.600000    1.630000   73.087500   \n",
       "max            1.533930   17.380000    4.490000    3.500000   75.410000   \n",
       "\n",
       "        Potassium     Calcium      Barium        Iron  Type of glass  \n",
       "count  214.000000  214.000000  214.000000  214.000000     214.000000  \n",
       "mean     0.497056    8.956963    0.175047    0.057009       2.780374  \n",
       "std      0.652192    1.423153    0.497219    0.097439       2.103739  \n",
       "min      0.000000    5.430000    0.000000    0.000000       1.000000  \n",
       "25%      0.122500    8.240000    0.000000    0.000000       1.000000  \n",
       "50%      0.555000    8.600000    0.000000    0.000000       2.000000  \n",
       "75%      0.610000    9.172500    0.000000    0.100000       3.000000  \n",
       "max      6.210000   16.190000    3.150000    0.510000       7.000000  "
      ]
     },
     "execution_count": 12,
     "metadata": {},
     "output_type": "execute_result"
    }
   ],
   "source": [
    "df.describe()"
   ]
  },
  {
   "cell_type": "markdown",
   "id": "10997957",
   "metadata": {},
   "source": [
    "# The given statistical information of the numerical column\n",
    "The summary of the dataset looks almost perfect since there is no negative value present in  dataset\n",
    "from the above desccription we observed the following :\n",
    "the counts of the all columns are same which means there is no missing value in the dataset\n",
    "there is all float datatype except target variable\n",
    "the mean value and 50 percetile value is almost near"
   ]
  },
  {
   "cell_type": "markdown",
   "id": "d1a6d292",
   "metadata": {},
   "source": [
    "#  write statistics info"
   ]
  },
  {
   "cell_type": "markdown",
   "id": "93e5c49b",
   "metadata": {},
   "source": [
    "#  EDA"
   ]
  },
  {
   "cell_type": "markdown",
   "id": "e8ab99c7",
   "metadata": {},
   "source": [
    "#  Univariate analysis"
   ]
  },
  {
   "cell_type": "code",
   "execution_count": 13,
   "id": "2c43f3ff",
   "metadata": {
    "scrolled": false
   },
   "outputs": [
    {
     "name": "stdout",
     "output_type": "stream",
     "text": [
      "6     9\n",
      "5    13\n",
      "3    17\n",
      "7    29\n",
      "1    70\n",
      "2    76\n",
      "Name: Type of glass, dtype: int64\n"
     ]
    },
    {
     "data": {
      "image/png": "[encoded data removed]",
      "text/plain": [
       "<Figure size 432x288 with 1 Axes>"
      ]
     },
     "metadata": {},
     "output_type": "display_data"
    }
   ],
   "source": [
    "count_Type_of_glass=(df['Type of glass'].value_counts().sort_values())\n",
    "print(count_Type_of_glass)\n",
    "\n",
    "plt.pie(x=count_Type_of_glass,autopct='%.2f',pctdistance=0.6, labeldistance=2)\n",
    "plt.show()"
   ]
  },
  {
   "cell_type": "markdown",
   "id": "0d629a55",
   "metadata": {},
   "source": [
    "# \n",
    "this  dataset can be divided into window glass (classes 1-4) and non-window glass (classes 5-7) \n",
    "\n",
    "then let's divided in two results window glass and non-window glass.\n",
    "\n",
    "and convert to multiclassification promble to binary classification promblem\n",
    "\n"
   ]
  },
  {
   "cell_type": "code",
   "execution_count": 14,
   "id": "1ed31e33",
   "metadata": {},
   "outputs": [],
   "source": [
    "df['Type of glass'] = df['Type of glass'].replace({1: 'Window', 2: 'Window', 3: 'Window', 4: 'Window', 5: 'Non-Window', 6: 'Non-Window', 7: 'Non-Window'})"
   ]
  },
  {
   "cell_type": "code",
   "execution_count": 15,
   "id": "93e2c6ae",
   "metadata": {
    "scrolled": true
   },
   "outputs": [
    {
     "name": "stdout",
     "output_type": "stream",
     "text": [
      "Non-Window     51\n",
      "Window        163\n",
      "Name: Type of glass, dtype: int64\n"
     ]
    },
    {
     "data": {
      "image/png": "[encoded data removed]",
      "text/plain": [
       "<Figure size 432x288 with 1 Axes>"
      ]
     },
     "metadata": {},
     "output_type": "display_data"
    }
   ],
   "source": [
    "count_Type_of_glass=(df['Type of glass'].value_counts().sort_values())\n",
    "print(count_Type_of_glass)\n",
    "\n",
    "plt.pie(x=count_Type_of_glass,autopct='%.2f',pctdistance=0.6, labeldistance=2)\n",
    "plt.show()"
   ]
  },
  {
   "cell_type": "markdown",
   "id": "10fdfd60",
   "metadata": {},
   "source": [
    "#  There is data imbalanced but we will solve this promble after build a model"
   ]
  },
  {
   "cell_type": "code",
   "execution_count": 16,
   "id": "03cd8fbc",
   "metadata": {
    "scrolled": false
   },
   "outputs": [
    {
     "data": {
      "image/png": "[encoded data removed]",
      "text/plain": [
       "<Figure size 432x288 with 1 Axes>"
      ]
     },
     "metadata": {
      "needs_background": "light"
     },
     "output_type": "display_data"
    }
   ],
   "source": [
    "sns.histplot(data=df['refractive index'],bins=10)\n",
    "plt.show()"
   ]
  },
  {
   "cell_type": "markdown",
   "id": "0687c93d",
   "metadata": {},
   "source": [
    "# There is a range of  refractive index distrubuted in the dataset"
   ]
  },
  {
   "cell_type": "code",
   "execution_count": 17,
   "id": "c1be8aee",
   "metadata": {
    "scrolled": false
   },
   "outputs": [
    {
     "data": {
      "image/png": "[encoded data removed]",
      "text/plain": [
       "<Figure size 432x288 with 1 Axes>"
      ]
     },
     "metadata": {
      "needs_background": "light"
     },
     "output_type": "display_data"
    }
   ],
   "source": [
    "sns.histplot(data=df['Sodium'],bins=10)\n",
    "plt.show()"
   ]
  },
  {
   "cell_type": "markdown",
   "id": "9d1eff77",
   "metadata": {},
   "source": [
    "# There is a range of  Sodium distrubuted in the dataset"
   ]
  },
  {
   "cell_type": "code",
   "execution_count": 18,
   "id": "e9f09fae",
   "metadata": {
    "scrolled": true
   },
   "outputs": [
    {
     "data": {
      "image/png": "[encoded data removed]",
      "text/plain": [
       "<Figure size 432x288 with 1 Axes>"
      ]
     },
     "metadata": {
      "needs_background": "light"
     },
     "output_type": "display_data"
    }
   ],
   "source": [
    "sns.histplot(data=df['Magnesium'],bins=10)\n",
    "plt.show()"
   ]
  },
  {
   "cell_type": "markdown",
   "id": "3ce078c3",
   "metadata": {},
   "source": [
    "# There is a range of  Magnesium distrubuted in the dataset"
   ]
  },
  {
   "cell_type": "code",
   "execution_count": 19,
   "id": "4b70fad2",
   "metadata": {
    "scrolled": true
   },
   "outputs": [
    {
     "data": {
      "image/png": "[encoded data removed]",
      "text/plain": [
       "<Figure size 432x288 with 1 Axes>"
      ]
     },
     "metadata": {
      "needs_background": "light"
     },
     "output_type": "display_data"
    }
   ],
   "source": [
    "sns.histplot(data=df['Aluminum'],bins=10)\n",
    "plt.show()"
   ]
  },
  {
   "cell_type": "markdown",
   "id": "5eefc37f",
   "metadata": {},
   "source": [
    "# There is a range of  Aluminum distrubuted in the dataset"
   ]
  },
  {
   "cell_type": "code",
   "execution_count": 20,
   "id": "65d65b5d",
   "metadata": {
    "scrolled": true
   },
   "outputs": [
    {
     "data": {
      "image/png": "[encoded data removed]",
      "text/plain": [
       "<Figure size 432x288 with 1 Axes>"
      ]
     },
     "metadata": {
      "needs_background": "light"
     },
     "output_type": "display_data"
    }
   ],
   "source": [
    "sns.histplot(data=df['Silicon'],bins=10)\n",
    "plt.show()"
   ]
  },
  {
   "cell_type": "markdown",
   "id": "16cdf702",
   "metadata": {},
   "source": [
    "# There is a range of  Silicon distrubuted in the dataset"
   ]
  },
  {
   "cell_type": "code",
   "execution_count": 21,
   "id": "b2213163",
   "metadata": {
    "scrolled": true
   },
   "outputs": [
    {
     "data": {
      "image/png": "[encoded data removed]",
      "text/plain": [
       "<Figure size 432x288 with 1 Axes>"
      ]
     },
     "metadata": {
      "needs_background": "light"
     },
     "output_type": "display_data"
    }
   ],
   "source": [
    "sns.histplot(data=df['Calcium'],bins=10)\n",
    "plt.show()"
   ]
  },
  {
   "cell_type": "markdown",
   "id": "c9098a1d",
   "metadata": {},
   "source": [
    "# There is a range of  Calcium distrubuted in the dataset"
   ]
  },
  {
   "cell_type": "code",
   "execution_count": 22,
   "id": "b702d3bf",
   "metadata": {
    "scrolled": true
   },
   "outputs": [
    {
     "data": {
      "image/png": "[encoded data removed]",
      "text/plain": [
       "<Figure size 432x288 with 1 Axes>"
      ]
     },
     "metadata": {
      "needs_background": "light"
     },
     "output_type": "display_data"
    }
   ],
   "source": [
    "sns.histplot(data=df['Barium'],bins=10)\n",
    "plt.show()"
   ]
  },
  {
   "cell_type": "markdown",
   "id": "2b577397",
   "metadata": {},
   "source": [
    "# There is a range of  Barium distrubuted in the dataset"
   ]
  },
  {
   "cell_type": "code",
   "execution_count": 23,
   "id": "07c3e20a",
   "metadata": {
    "scrolled": true
   },
   "outputs": [
    {
     "data": {
      "image/png": "[encoded data removed]",
      "text/plain": [
       "<Figure size 432x288 with 1 Axes>"
      ]
     },
     "metadata": {
      "needs_background": "light"
     },
     "output_type": "display_data"
    }
   ],
   "source": [
    "sns.histplot(data=df['Iron'],bins=10)\n",
    "plt.show()"
   ]
  },
  {
   "cell_type": "markdown",
   "id": "8fe02dd8",
   "metadata": {},
   "source": [
    "# There is a range of  Iron distrubuted in the dataset"
   ]
  },
  {
   "cell_type": "code",
   "execution_count": 24,
   "id": "4e569a9c",
   "metadata": {
    "scrolled": false
   },
   "outputs": [
    {
     "data": {
      "text/plain": [
       "<AxesSubplot:>"
      ]
     },
     "execution_count": 24,
     "metadata": {},
     "output_type": "execute_result"
    },
    {
     "data": {
      "image/png": "[encoded data removed]",
      "text/plain": [
       "<Figure size 648x432 with 2 Axes>"
      ]
     },
     "metadata": {
      "needs_background": "light"
     },
     "output_type": "display_data"
    }
   ],
   "source": [
    "f, ax = plt.subplots(figsize=(9, 6))\n",
    "sns.heatmap(df.corr(),annot=True,fmt='.2g',linewidths=1,ax=ax)"
   ]
  },
  {
   "cell_type": "markdown",
   "id": "736c131b",
   "metadata": {},
   "source": [
    "#  As i observed there are refractive index and Calcium has strong corelation \n",
    "but we need more proof"
   ]
  },
  {
   "cell_type": "code",
   "execution_count": 25,
   "id": "f76498fa",
   "metadata": {
    "scrolled": false
   },
   "outputs": [
    {
     "data": {
      "text/plain": [
       "<AxesSubplot:xlabel='refractive index', ylabel='Calcium'>"
      ]
     },
     "execution_count": 25,
     "metadata": {},
     "output_type": "execute_result"
    },
    {
     "data": {
      "image/png": "[encoded data removed]",
      "text/plain": [
       "<Figure size 432x288 with 1 Axes>"
      ]
     },
     "metadata": {
      "needs_background": "light"
     },
     "output_type": "display_data"
    }
   ],
   "source": [
    "sns.scatterplot(x='refractive index',y='Calcium',data=df)"
   ]
  },
  {
   "cell_type": "markdown",
   "id": "9b7971be",
   "metadata": {},
   "source": [
    "#  As we see Calcium and refractive index has strong corelation so we drop one column \n",
    "# and we drop refractive index cause there is minus co-relation of target variables"
   ]
  },
  {
   "cell_type": "code",
   "execution_count": 26,
   "id": "d6635986",
   "metadata": {},
   "outputs": [],
   "source": [
    "df.drop(columns='refractive index',inplace=True)"
   ]
  },
  {
   "cell_type": "code",
   "execution_count": 27,
   "id": "3133aac9",
   "metadata": {},
   "outputs": [],
   "source": [
    "catgorical_col=[]\n",
    "for i in df.dtypes.index:\n",
    "    if df.dtypes[i]=='object':\n",
    "        catgorical_col.append(i)\n",
    "        \n",
    "numerical_col=[]\n",
    "for i in df.dtypes.index:\n",
    "    if df.dtypes[i] !='object':\n",
    "        numerical_col.append(i)"
   ]
  },
  {
   "cell_type": "code",
   "execution_count": 28,
   "id": "d5cae3f6",
   "metadata": {
    "scrolled": false
   },
   "outputs": [
    {
     "data": {
      "image/png": "[encoded data removed]",
      "text/plain": [
       "<Figure size 1080x1080 with 8 Axes>"
      ]
     },
     "metadata": {
      "needs_background": "light"
     },
     "output_type": "display_data"
    }
   ],
   "source": [
    " plt.figure(figsize=(15,15))\n",
    "plotnumber =1\n",
    "for column in numerical_col:\n",
    "    if plotnumber<=12:\n",
    "        ax=plt.subplot(4,4,plotnumber)\n",
    "        sns.distplot(df[column])\n",
    "        plt.xlabel(column,fontsize=20)\n",
    "        \n",
    "    plotnumber+=1\n",
    "    \n",
    "plt.show()"
   ]
  },
  {
   "cell_type": "markdown",
   "id": "df16ef7e",
   "metadata": {},
   "source": [
    "# \n",
    "As we observed Sodium and Aluminum, is closed to normaly distrubuted\n",
    "\n",
    "Magnesium and Silicon is left skew\n",
    "\n",
    " Potassium,Calcium, Barium and Iron is right skew"
   ]
  },
  {
   "cell_type": "markdown",
   "id": "0c81e1e4",
   "metadata": {},
   "source": [
    "#  outliers checking"
   ]
  },
  {
   "cell_type": "code",
   "execution_count": 29,
   "id": "0182b035",
   "metadata": {
    "scrolled": false
   },
   "outputs": [
    {
     "data": {
      "image/png": "[encoded data removed]",
      "text/plain": [
       "<Figure size 1080x1080 with 8 Axes>"
      ]
     },
     "metadata": {
      "needs_background": "light"
     },
     "output_type": "display_data"
    }
   ],
   "source": [
    "plt.figure(figsize=(15,15))\n",
    "i=1\n",
    "for column in numerical_col:\n",
    "    if i<=12:\n",
    "        \n",
    "        \n",
    "    \n",
    "        plt.subplot(4,4,i)\n",
    "    \n",
    "        ax=sns.boxplot(data=df[column])\n",
    "    \n",
    "        plt.xlabel (column,fontsize=15)\n",
    "        \n",
    "    i+=1\n",
    "    \n",
    "plt.show()\n",
    "    \n",
    "                \n",
    "                \n"
   ]
  },
  {
   "cell_type": "markdown",
   "id": "2b630795",
   "metadata": {},
   "source": [
    "#  \n",
    "From the above outcome we can see that Magnesium has no outliers\n",
    "sodium ,potassium has very less outliers\n",
    "\n",
    "\n"
   ]
  },
  {
   "cell_type": "code",
   "execution_count": 30,
   "id": "6b8382f2",
   "metadata": {
    "scrolled": true
   },
   "outputs": [
    {
     "data": {
      "text/plain": [
       "Sodium       0.454181\n",
       "Magnesium   -1.152559\n",
       "Aluminum     0.907290\n",
       "Silicon     -0.730447\n",
       "Potassium    6.551648\n",
       "Calcium      2.047054\n",
       "Barium       3.416425\n",
       "Iron         1.754327\n",
       "dtype: float64"
      ]
     },
     "execution_count": 30,
     "metadata": {},
     "output_type": "execute_result"
    }
   ],
   "source": [
    "df.skew()"
   ]
  },
  {
   "cell_type": "markdown",
   "id": "76260e5f",
   "metadata": {},
   "source": [
    "#  potassium has very high skewness so we drop this column"
   ]
  },
  {
   "cell_type": "code",
   "execution_count": null,
   "id": "b9a11415",
   "metadata": {},
   "outputs": [],
   "source": [
    "df=df.drop(columns='Potassium',axis=1)"
   ]
  },
  {
   "cell_type": "code",
   "execution_count": 39,
   "id": "577407c3",
   "metadata": {},
   "outputs": [],
   "source": [
    "from sklearn.preprocessing import LabelEncoder"
   ]
  },
  {
   "cell_type": "code",
   "execution_count": 40,
   "id": "d10b5e84",
   "metadata": {},
   "outputs": [],
   "source": [
    "lm=LabelEncoder()\n",
    "df['Type of glass']=lm.fit_transform(df['Type of glass'])"
   ]
  },
  {
   "cell_type": "code",
   "execution_count": 41,
   "id": "7b91d2e4",
   "metadata": {},
   "outputs": [
    {
     "data": {
      "text/plain": [
       "1    163\n",
       "0     51\n",
       "Name: Type of glass, dtype: int64"
      ]
     },
     "execution_count": 41,
     "metadata": {},
     "output_type": "execute_result"
    }
   ],
   "source": [
    "df['Type of glass'].value_counts()"
   ]
  },
  {
   "cell_type": "code",
   "execution_count": 42,
   "id": "2702b312",
   "metadata": {},
   "outputs": [],
   "source": [
    "x=df.drop(columns='Type of glass')\n",
    "y=df['Type of glass']"
   ]
  },
  {
   "cell_type": "code",
   "execution_count": 43,
   "id": "aa956910",
   "metadata": {},
   "outputs": [
    {
     "data": {
      "text/plain": [
       "(214, 7)"
      ]
     },
     "execution_count": 43,
     "metadata": {},
     "output_type": "execute_result"
    }
   ],
   "source": [
    "from scipy.stats import zscore\n",
    "z=np.abs(zscore(x))\n",
    "z.shape"
   ]
  },
  {
   "cell_type": "code",
   "execution_count": 44,
   "id": "7eae6065",
   "metadata": {},
   "outputs": [
    {
     "name": "stdout",
     "output_type": "stream",
     "text": [
      "(array([105, 106, 106, 106, 106, 107, 107, 110, 111, 112, 131, 145, 162,\n",
      "       163, 163, 163, 171, 172, 174, 184, 184, 188, 189, 201, 203, 207,\n",
      "       213], dtype=int64), array([4, 0, 3, 4, 5, 3, 4, 4, 4, 4, 4, 6, 6, 2, 3, 5, 2, 2, 6, 0, 3, 3,\n",
      "       5, 3, 5, 5, 5], dtype=int64))\n"
     ]
    }
   ],
   "source": [
    "threshold=3\n",
    "print(np.where(z>3))"
   ]
  },
  {
   "cell_type": "code",
   "execution_count": 45,
   "id": "087ed92c",
   "metadata": {},
   "outputs": [
    {
     "name": "stdout",
     "output_type": "stream",
     "text": [
      "(214, 8)\n",
      "(194, 8)\n"
     ]
    }
   ],
   "source": [
    "df1=df[(z<3).all(axis=1)]\n",
    "print(df.shape)\n",
    "print(df1.shape)"
   ]
  },
  {
   "cell_type": "code",
   "execution_count": 46,
   "id": "9c888475",
   "metadata": {},
   "outputs": [
    {
     "name": "stdout",
     "output_type": "stream",
     "text": [
      "(214,)\n"
     ]
    }
   ],
   "source": [
    "y[(z<3).all(axis=1)]\n",
    "print(y.shape)"
   ]
  },
  {
   "cell_type": "markdown",
   "id": "253725a5",
   "metadata": {},
   "source": [
    "#  percentage of data loss:"
   ]
  },
  {
   "cell_type": "code",
   "execution_count": 47,
   "id": "51c38088",
   "metadata": {
    "scrolled": true
   },
   "outputs": [
    {
     "data": {
      "text/plain": [
       "9.345794392523365"
      ]
     },
     "execution_count": 47,
     "metadata": {},
     "output_type": "execute_result"
    }
   ],
   "source": [
    "loss_percent = (214-194)/214*100\n",
    "loss_percent"
   ]
  },
  {
   "cell_type": "code",
   "execution_count": 48,
   "id": "32cea92e",
   "metadata": {},
   "outputs": [],
   "source": [
    "from sklearn.preprocessing import power_transform"
   ]
  },
  {
   "cell_type": "markdown",
   "id": "ad6a75ae",
   "metadata": {},
   "source": [
    "#  we use yeo-johnson techniques"
   ]
  },
  {
   "cell_type": "code",
   "execution_count": 49,
   "id": "9daafcdc",
   "metadata": {
    "scrolled": false
   },
   "outputs": [
    {
     "data": {
      "text/plain": [
       "array([[ 0.3170608 ,  1.87627311, -0.66262997, ..., -0.01065411,\n",
       "        -0.45488952, -0.68001492],\n",
       "       [ 0.6165768 ,  0.66816318, -0.07749848, ..., -0.88453191,\n",
       "        -0.45488952, -0.68001492],\n",
       "       [ 0.18334446,  0.60804604,  0.2910754 , ..., -0.93825077,\n",
       "        -0.45488952, -0.68001492],\n",
       "       ...,\n",
       "       [ 1.16383548, -1.73928948,  1.15937696, ..., -0.28273303,\n",
       "         2.37684792, -0.68001492],\n",
       "       [ 1.18668078, -1.73928948,  1.02466947, ..., -0.24644583,\n",
       "         2.37663774, -0.68001492],\n",
       "       [ 1.01447527, -1.73928948,  1.25809334, ..., -0.12223616,\n",
       "         2.3769231 , -0.68001492]])"
      ]
     },
     "execution_count": 49,
     "metadata": {},
     "output_type": "execute_result"
    }
   ],
   "source": [
    "# yeo-johnson by default method\n",
    "x= (power_transform(x))\n",
    "x"
   ]
  },
  {
   "cell_type": "code",
   "execution_count": 50,
   "id": "d3f1acec",
   "metadata": {
    "scrolled": true
   },
   "outputs": [
    {
     "data": {
      "text/plain": [
       "array([[ 0.3170608 ,  1.87627311, -0.66262997, ..., -0.01065411,\n",
       "        -0.45488952, -0.68001492],\n",
       "       [ 0.6165768 ,  0.66816318, -0.07749848, ..., -0.88453191,\n",
       "        -0.45488952, -0.68001492],\n",
       "       [ 0.18334446,  0.60804604,  0.2910754 , ..., -0.93825077,\n",
       "        -0.45488952, -0.68001492],\n",
       "       ...,\n",
       "       [ 1.16383548, -1.73928948,  1.15937696, ..., -0.28273303,\n",
       "         2.37684792, -0.68001492],\n",
       "       [ 1.18668078, -1.73928948,  1.02466947, ..., -0.24644583,\n",
       "         2.37663774, -0.68001492],\n",
       "       [ 1.01447527, -1.73928948,  1.25809334, ..., -0.12223616,\n",
       "         2.3769231 , -0.68001492]])"
      ]
     },
     "execution_count": 50,
     "metadata": {},
     "output_type": "execute_result"
    }
   ],
   "source": [
    "from sklearn.preprocessing import StandardScaler\n",
    "scaler=StandardScaler()\n",
    "x=(scaler.fit_transform(x))\n",
    "x"
   ]
  },
  {
   "cell_type": "code",
   "execution_count": 51,
   "id": "2f4dcd93",
   "metadata": {},
   "outputs": [],
   "source": [
    "from imblearn.over_sampling import SMOTE\n",
    "SM=SMOTE()\n",
    "x,y=SM.fit_resample(x,y)"
   ]
  },
  {
   "cell_type": "code",
   "execution_count": 52,
   "id": "f5f5ad95",
   "metadata": {},
   "outputs": [
    {
     "data": {
      "text/plain": [
       "1    163\n",
       "0    163\n",
       "Name: Type of glass, dtype: int64"
      ]
     },
     "execution_count": 52,
     "metadata": {},
     "output_type": "execute_result"
    }
   ],
   "source": [
    "y.value_counts()"
   ]
  },
  {
   "cell_type": "code",
   "execution_count": 53,
   "id": "47abe154",
   "metadata": {},
   "outputs": [],
   "source": [
    "# import library\n",
    "from sklearn.model_selection import train_test_split\n",
    "from sklearn.metrics import mean_absolute_error\n",
    "from sklearn.metrics import mean_squared_error\n",
    "from sklearn.metrics import r2_score \n",
    "from sklearn.ensemble import GradientBoostingRegressor\n",
    "from sklearn.linear_model import LinearRegression\n",
    "from sklearn.ensemble import RandomForestRegressor\n",
    "from sklearn.tree import DecisionTreeRegressor\n",
    "from sklearn.neighbors import KNeighborsRegressor as KNN\n",
    "from sklearn.linear_model import Lasso, Ridge"
   ]
  },
  {
   "cell_type": "code",
   "execution_count": 54,
   "id": "8c79f40a",
   "metadata": {},
   "outputs": [
    {
     "name": "stdout",
     "output_type": "stream",
     "text": [
      "Best accuracy is 1.0 at random_state 94\n"
     ]
    }
   ],
   "source": [
    "from sklearn.model_selection import train_test_split\n",
    "from sklearn.ensemble import RandomForestClassifier\n",
    "from sklearn.metrics import accuracy_score\n",
    "\n",
    "maxAccu = 0\n",
    "maxRs = 0\n",
    "\n",
    "for i in range(1, 200):\n",
    "    x_train, x_test, y_train, y_test = train_test_split(x, y, test_size=0.30, random_state=i)\n",
    "    rnd = RandomForestClassifier()\n",
    "    rnd.fit(x_train, y_train)\n",
    "    y_pred = rnd.predict(x_test)\n",
    "    acc = accuracy_score(y_test, y_pred)\n",
    "    if acc > maxAccu:\n",
    "        maxAccu = acc\n",
    "        maxRs = i\n",
    "\n",
    "print('Best accuracy is', maxAccu, 'at random_state', maxRs)\n"
   ]
  },
  {
   "cell_type": "code",
   "execution_count": 55,
   "id": "84b606b7",
   "metadata": {},
   "outputs": [],
   "source": [
    "x_train, x_test, y_train, y_test = train_test_split(x,y, test_size = 0.30, random_state = maxRs)"
   ]
  },
  {
   "cell_type": "code",
   "execution_count": 56,
   "id": "b2b9d1a0",
   "metadata": {},
   "outputs": [],
   "source": [
    "from sklearn.ensemble import RandomForestClassifier, ExtraTreesClassifier\n",
    "from sklearn.linear_model import LogisticRegression\n",
    "from sklearn.svm import SVC\n",
    "from sklearn.ensemble import GradientBoostingClassifier, AdaBoostClassifier, BaggingClassifier\n",
    "from sklearn.metrics import classification_report ,confusion_matrix, roc_curve, accuracy_score\n",
    "from sklearn.model_selection import cross_val_score"
   ]
  },
  {
   "cell_type": "code",
   "execution_count": 57,
   "id": "3e0b7738",
   "metadata": {},
   "outputs": [
    {
     "name": "stdout",
     "output_type": "stream",
     "text": [
      "Accuracy score 0.9897959183673469\n",
      "\n",
      "\n",
      "[[43  0]\n",
      " [ 1 54]]\n"
     ]
    }
   ],
   "source": [
    "LR= LogisticRegression()\n",
    "LR.fit(x_train, y_train)\n",
    "predLR= LR.predict (x_test)\n",
    "print('Accuracy score',(accuracy_score(y_test, predLR)))\n",
    "print('\\n')\n",
    "print(confusion_matrix(y_test, predLR))"
   ]
  },
  {
   "cell_type": "code",
   "execution_count": 58,
   "id": "5e98c774",
   "metadata": {},
   "outputs": [
    {
     "name": "stdout",
     "output_type": "stream",
     "text": [
      "Accuracy score 0.9897959183673469\n",
      "\n",
      "\n",
      "[[42  1]\n",
      " [ 0 55]]\n"
     ]
    }
   ],
   "source": [
    "Rnd= RandomForestClassifier()\n",
    "Rnd.fit(x_train, y_train)\n",
    "predRnd= Rnd.predict (x_test)\n",
    "print('Accuracy score',(accuracy_score(y_test, predRnd)))\n",
    "print('\\n')\n",
    "print(confusion_matrix(y_test, predRnd))"
   ]
  },
  {
   "cell_type": "code",
   "execution_count": 59,
   "id": "f14aefb9",
   "metadata": {},
   "outputs": [
    {
     "name": "stdout",
     "output_type": "stream",
     "text": [
      "Accuracy score 0.9795918367346939\n",
      "\n",
      "\n",
      "[[43  0]\n",
      " [ 2 53]]\n"
     ]
    }
   ],
   "source": [
    "Etr= ExtraTreesClassifier()\n",
    "Etr.fit(x_train, y_train)\n",
    "predEtr= Etr.predict (x_test)\n",
    "print('Accuracy score',(accuracy_score(y_test, predEtr)))\n",
    "print('\\n')\n",
    "print(confusion_matrix(y_test, predEtr))"
   ]
  },
  {
   "cell_type": "code",
   "execution_count": 60,
   "id": "f588c240",
   "metadata": {},
   "outputs": [
    {
     "name": "stdout",
     "output_type": "stream",
     "text": [
      "Accuracy score 0.9897959183673469\n",
      "\n",
      "\n",
      "[[43  0]\n",
      " [ 1 54]]\n"
     ]
    }
   ],
   "source": [
    "svc=SVC()\n",
    "svc.fit(x_train, y_train)\n",
    "predsvc=svc.predict (x_test)\n",
    "print('Accuracy score',(accuracy_score(y_test, predsvc)))\n",
    "print('\\n')\n",
    "\n",
    "print(confusion_matrix(y_test, predsvc))"
   ]
  },
  {
   "cell_type": "code",
   "execution_count": 61,
   "id": "4578d3a6",
   "metadata": {},
   "outputs": [
    {
     "name": "stdout",
     "output_type": "stream",
     "text": [
      "Accuracy score 0.9897959183673469\n",
      "\n",
      "\n",
      "[[42  1]\n",
      " [ 0 55]]\n"
     ]
    }
   ],
   "source": [
    "gbc=GradientBoostingClassifier()\n",
    "gbc.fit(x_train, y_train)\n",
    "predgbc =gbc.predict (x_test)\n",
    "print('Accuracy score',(accuracy_score(y_test, predgbc)))\n",
    "print('\\n')\n",
    "\n",
    "print(confusion_matrix(y_test, predgbc))"
   ]
  },
  {
   "cell_type": "code",
   "execution_count": 62,
   "id": "22356bff",
   "metadata": {},
   "outputs": [
    {
     "name": "stdout",
     "output_type": "stream",
     "text": [
      "Accuracy score 0.9795918367346939\n",
      "\n",
      "\n",
      "[[43  0]\n",
      " [ 2 53]]\n"
     ]
    }
   ],
   "source": [
    "adaboost= AdaBoostClassifier()\n",
    "adaboost.fit(x_train, y_train)\n",
    "predadaboost =adaboost.predict (x_test)\n",
    "print('Accuracy score',(accuracy_score(y_test, predadaboost)))\n",
    "print('\\n')\n",
    "\n",
    "print(confusion_matrix(y_test, predadaboost))"
   ]
  },
  {
   "cell_type": "code",
   "execution_count": 63,
   "id": "ce1b416f",
   "metadata": {},
   "outputs": [
    {
     "name": "stdout",
     "output_type": "stream",
     "text": [
      "Accuracy score 0.9591836734693877\n",
      "\n",
      "\n",
      "[[42  1]\n",
      " [ 3 52]]\n"
     ]
    }
   ],
   "source": [
    "bagging=BaggingClassifier()\n",
    "bagging.fit(x_train, y_train)\n",
    "predbagging =bagging.predict (x_test)\n",
    "print('Accuracy score',(accuracy_score(y_test, predbagging)))\n",
    "print('\\n')\n",
    "\n",
    "print(confusion_matrix(y_test, predbagging))"
   ]
  },
  {
   "cell_type": "markdown",
   "id": "0a7e37f9",
   "metadata": {},
   "source": [
    "#  Cross Validation Score"
   ]
  },
  {
   "cell_type": "code",
   "execution_count": 64,
   "id": "b409055f",
   "metadata": {},
   "outputs": [
    {
     "name": "stdout",
     "output_type": "stream",
     "text": [
      "LogisticRegression \n",
      "\n",
      "\n",
      "[0.92424242 0.96923077 0.95384615 0.83076923 1.        ]\n",
      "0.9356177156177157\n",
      "Difference between Accuracy score  and cross validation score is -  0.054178202749631255\n"
     ]
    }
   ],
   "source": [
    "print('LogisticRegression ')\n",
    "print('\\n')\n",
    "score=cross_val_score(LR, x, y)\n",
    "print(score)\n",
    "print(score.mean())\n",
    "print('Difference between Accuracy score  and cross validation score is - ', accuracy_score(y_test,predLR)- score.mean())"
   ]
  },
  {
   "cell_type": "code",
   "execution_count": 65,
   "id": "6b10fb5f",
   "metadata": {},
   "outputs": [
    {
     "name": "stdout",
     "output_type": "stream",
     "text": [
      "ExtraTreesClassifier \n",
      "\n",
      "\n",
      "[0.92424242 1.         0.96923077 0.81538462 1.        ]\n",
      "0.9417715617715618\n",
      "Difference between Accuracy score  and cross validation score is -  0.04802435659578508\n"
     ]
    }
   ],
   "source": [
    "print('ExtraTreesClassifier ')\n",
    "print('\\n')\n",
    "score=cross_val_score(Rnd, x, y)\n",
    "print(score)\n",
    "print(score.mean())\n",
    "print('Difference between Accuracy score  and cross validation score is - ', accuracy_score(y_test,predRnd)- score.mean())"
   ]
  },
  {
   "cell_type": "code",
   "execution_count": 66,
   "id": "8eb2c0d4",
   "metadata": {},
   "outputs": [
    {
     "name": "stdout",
     "output_type": "stream",
     "text": [
      "SVC \n",
      "\n",
      "\n",
      "[0.92424242 1.         0.98461538 0.81538462 1.        ]\n",
      "0.9448484848484849\n",
      "Difference between Accuracy score  and cross validation score is -  0.04494743351886199\n"
     ]
    }
   ],
   "source": [
    "print('SVC ')\n",
    "print('\\n')\n",
    "score=cross_val_score(svc, x, y)\n",
    "print(score)\n",
    "print(score.mean())\n",
    "print('Difference between Accuracy score  and cross validation score is - ', accuracy_score(y_test,predsvc)- score.mean())"
   ]
  },
  {
   "cell_type": "code",
   "execution_count": 67,
   "id": "deff3c45",
   "metadata": {},
   "outputs": [
    {
     "name": "stdout",
     "output_type": "stream",
     "text": [
      "GradientBoostingClassifier \n",
      "\n",
      "\n",
      "[0.92424242 0.98461538 0.96923077 0.90769231 1.        ]\n",
      "0.9571561771561772\n",
      "Difference between Accuracy score  and cross validation score is -  0.03263974121116975\n"
     ]
    }
   ],
   "source": [
    "print('GradientBoostingClassifier ')\n",
    "print('\\n')\n",
    "score=cross_val_score(gbc, x, y)\n",
    "print(score)\n",
    "print(score.mean())\n",
    "print('Difference between Accuracy score  and cross validation score is - ', accuracy_score(y_test,predgbc)- score.mean())"
   ]
  },
  {
   "cell_type": "code",
   "execution_count": 68,
   "id": "b41f72bf",
   "metadata": {},
   "outputs": [
    {
     "name": "stdout",
     "output_type": "stream",
     "text": [
      "AdaBoostClassifier \n",
      "\n",
      "\n",
      "[0.93939394 0.98461538 0.95384615 0.86153846 1.        ]\n",
      "0.947878787878788\n",
      "Difference between Accuracy score  and cross validation score is -  0.03171304885590587\n"
     ]
    }
   ],
   "source": [
    "print('AdaBoostClassifier ')\n",
    "print('\\n')\n",
    "score=cross_val_score(adaboost, x, y)\n",
    "print(score)\n",
    "print(score.mean())\n",
    "print('Difference between Accuracy score  and cross validation score is - ', accuracy_score(y_test,predadaboost)- score.mean())"
   ]
  },
  {
   "cell_type": "code",
   "execution_count": 69,
   "id": "d32ca4e9",
   "metadata": {
    "scrolled": false
   },
   "outputs": [
    {
     "name": "stdout",
     "output_type": "stream",
     "text": [
      "BaggingClassifier \n",
      "\n",
      "\n",
      "[0.89393939 0.95384615 0.96923077 0.87692308 1.        ]\n",
      "0.9387878787878787\n",
      "Difference between Accuracy score  and cross validation score is -  0.020395794681508983\n"
     ]
    }
   ],
   "source": [
    "print('BaggingClassifier ')\n",
    "print('\\n')\n",
    "score=cross_val_score(bagging, x, y)\n",
    "print(score)\n",
    "print(score.mean())\n",
    "print('Difference between Accuracy score  and cross validation score is - ', accuracy_score(y_test,predbagging)- score.mean())"
   ]
  },
  {
   "cell_type": "code",
   "execution_count": 70,
   "id": "b957605e",
   "metadata": {},
   "outputs": [
    {
     "name": "stdout",
     "output_type": "stream",
     "text": [
      "Accuracy score 0.9795918367346939\n",
      "\n",
      "\n",
      "[[43  0]\n",
      " [ 2 53]]\n",
      "ExtraTreesClassifier \n",
      "\n",
      "\n",
      "[0.92424242 1.         0.96923077 0.8        1.        ]\n",
      "0.9386946386946388\n",
      "Difference between Accuracy score  and cross validation score is -  0.051101279672708166\n"
     ]
    }
   ],
   "source": [
    "Etr= ExtraTreesClassifier()\n",
    "Etr.fit(x_train, y_train)\n",
    "predEtr= Etr.predict (x_test)\n",
    "print('Accuracy score',(accuracy_score(y_test, predEtr)))\n",
    "print('\\n')\n",
    "print(confusion_matrix(y_test, predEtr))\n",
    "print('ExtraTreesClassifier ')\n",
    "print('\\n')\n",
    "score=cross_val_score(Rnd, x, y)\n",
    "print(score)\n",
    "print(score.mean())\n",
    "print('Difference between Accuracy score  and cross validation score is - ', accuracy_score(y_test,predRnd)- score.mean())"
   ]
  },
  {
   "cell_type": "markdown",
   "id": "555990ae",
   "metadata": {},
   "source": [
    "#  The dataset can be divided into window glass (classes 1-4) and non-window glass (classes 5-7) and this result gives  best  ExtraTreesClassifier algorithm"
   ]
  },
  {
   "cell_type": "markdown",
   "id": "a427a3c9",
   "metadata": {},
   "source": [
    "# ExtraTreesClassifier gives  97 accuracy and gridsearchcv difference is 5 per"
   ]
  },
  {
   "cell_type": "markdown",
   "id": "fa84b22a",
   "metadata": {},
   "source": [
    "#  Let's try to improve more accuracy"
   ]
  },
  {
   "cell_type": "code",
   "execution_count": 71,
   "id": "c4976547",
   "metadata": {},
   "outputs": [],
   "source": [
    "from sklearn.model_selection import GridSearchCV"
   ]
  },
  {
   "cell_type": "code",
   "execution_count": 72,
   "id": "2e01a300",
   "metadata": {},
   "outputs": [],
   "source": [
    "parameters ={'criterion': ['gini','entropy'],\n",
    "            'random_state': [10,100,850],\n",
    "            'max_depth':[0,15,30],\n",
    "            'n_jobs': [-2,-1,1],\n",
    "            'n_estimators':[50,100,200,300]}\n",
    "\n"
   ]
  },
  {
   "cell_type": "code",
   "execution_count": 73,
   "id": "66846888",
   "metadata": {},
   "outputs": [
    {
     "data": {
      "text/plain": [
       "GridSearchCV(cv=5, estimator=ExtraTreesClassifier(),\n",
       "             param_grid={'criterion': ['gini', 'entropy'],\n",
       "                         'max_depth': [0, 15, 30],\n",
       "                         'n_estimators': [50, 100, 200, 300],\n",
       "                         'n_jobs': [-2, -1, 1],\n",
       "                         'random_state': [10, 100, 850]})"
      ]
     },
     "execution_count": 73,
     "metadata": {},
     "output_type": "execute_result"
    }
   ],
   "source": [
    "gdsv= GridSearchCV(ExtraTreesClassifier(),parameters,cv=5)\n",
    "gdsv.fit(x_train,y_train)"
   ]
  },
  {
   "cell_type": "code",
   "execution_count": 74,
   "id": "d99264a5",
   "metadata": {},
   "outputs": [
    {
     "data": {
      "text/plain": [
       "{'criterion': 'gini',\n",
       " 'max_depth': 30,\n",
       " 'n_estimators': 200,\n",
       " 'n_jobs': -2,\n",
       " 'random_state': 850}"
      ]
     },
     "execution_count": 74,
     "metadata": {},
     "output_type": "execute_result"
    }
   ],
   "source": [
    "gdsv.best_params_"
   ]
  },
  {
   "cell_type": "code",
   "execution_count": null,
   "id": "f9ffc5e2",
   "metadata": {},
   "outputs": [],
   "source": []
  },
  {
   "cell_type": "code",
   "execution_count": 75,
   "id": "cc1821e0",
   "metadata": {},
   "outputs": [
    {
     "name": "stdout",
     "output_type": "stream",
     "text": [
      "97.95918367346938\n"
     ]
    }
   ],
   "source": [
    "Final_model= ExtraTreesClassifier(criterion= 'gini',max_depth= 30,n_estimators = 200  , n_jobs= -2 ,random_state =850)\n",
    "Final_model.fit(x_train, y_train)\n",
    "pred = Final_model.predict(x_test)\n",
    "acc= accuracy_score(y_test, pred)\n",
    "print(acc*100)"
   ]
  },
  {
   "cell_type": "markdown",
   "id": "d89f1acc",
   "metadata": {},
   "source": [
    "#  There is no improvement to use hyperpyrameter tunning"
   ]
  },
  {
   "cell_type": "code",
   "execution_count": 76,
   "id": "3fda7ba2",
   "metadata": {},
   "outputs": [],
   "source": [
    "from sklearn.metrics import classification_report"
   ]
  },
  {
   "cell_type": "code",
   "execution_count": 77,
   "id": "94c171e8",
   "metadata": {},
   "outputs": [
    {
     "name": "stdout",
     "output_type": "stream",
     "text": [
      "              precision    recall  f1-score   support\n",
      "\n",
      "           0       0.42      0.51      0.46        43\n",
      "           1       0.54      0.45      0.50        55\n",
      "\n",
      "    accuracy                           0.48        98\n",
      "   macro avg       0.48      0.48      0.48        98\n",
      "weighted avg       0.49      0.48      0.48        98\n",
      "\n"
     ]
    }
   ],
   "source": [
    "print(classification_report(y_test,y_pred))   # support means sample to x_test "
   ]
  },
  {
   "cell_type": "code",
   "execution_count": 78,
   "id": "b5ccadd9",
   "metadata": {},
   "outputs": [],
   "source": [
    "fpr,tpr,threshold=roc_curve(y_test,y_pred)"
   ]
  },
  {
   "cell_type": "code",
   "execution_count": 79,
   "id": "05cc66ec",
   "metadata": {},
   "outputs": [
    {
     "name": "stdout",
     "output_type": "stream",
     "text": [
      "threshold [2 1 0]\n",
      "False possitive rate [0.         0.48837209 1.        ]\n",
      "True possitive rate [0.         0.45454545 1.        ]\n"
     ]
    }
   ],
   "source": [
    "print('threshold',threshold)\n",
    "print('False possitive rate',fpr)\n",
    "print('True possitive rate',tpr)"
   ]
  },
  {
   "cell_type": "code",
   "execution_count": 80,
   "id": "a6e4d307",
   "metadata": {},
   "outputs": [
    {
     "data": {
      "image/png": "[encoded data removed]",
      "text/plain": [
       "<Figure size 432x288 with 1 Axes>"
      ]
     },
     "metadata": {
      "needs_background": "light"
     },
     "output_type": "display_data"
    }
   ],
   "source": [
    "plt.plot(fpr,tpr, color='red', label='Roc')\n",
    "plt.plot([0,1],[0,1], color='blue', linestyle='--')\n",
    "plt.xlabel('False possitive rate')\n",
    "plt.ylabel('true possitive rate')\n",
    "plt.title('receiver operating characteristic (roc) curve')\n",
    "plt.legend()\n",
    "plt.show()"
   ]
  },
  {
   "cell_type": "code",
   "execution_count": 82,
   "id": "62065efc",
   "metadata": {},
   "outputs": [],
   "source": [
    "from sklearn.metrics import accuracy_score,confusion_matrix,roc_curve,roc_auc_score\n"
   ]
  },
  {
   "cell_type": "code",
   "execution_count": 83,
   "id": "873d230b",
   "metadata": {},
   "outputs": [
    {
     "data": {
      "text/plain": [
       "0.4830866807610994"
      ]
     },
     "execution_count": 83,
     "metadata": {},
     "output_type": "execute_result"
    }
   ],
   "source": [
    "# how  much area auc curve covered\n",
    "auc_score=roc_auc_score(y_test,y_pred)\n",
    "auc_score"
   ]
  },
  {
   "cell_type": "code",
   "execution_count": null,
   "id": "5aea5449",
   "metadata": {},
   "outputs": [],
   "source": []
  }
 ],
 "metadata": {
  "kernelspec": {
   "display_name": "Python 3 (ipykernel)",
   "language": "python",
   "name": "python3"
  },
  "language_info": {
   "codemirror_mode": {
    "name": "ipython",
    "version": 3
   },
   "file_extension": ".py",
   "mimetype": "text/x-python",
   "name": "python",
   "nbconvert_exporter": "python",
   "pygments_lexer": "ipython3",
   "version": "3.9.12"
  }
 },
 "nbformat": 4,
 "nbformat_minor": 5
}
