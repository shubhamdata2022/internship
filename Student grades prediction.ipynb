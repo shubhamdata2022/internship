{
 "cells": [
  {
   "cell_type": "markdown",
   "id": "f39a5a91",
   "metadata": {},
   "source": [
    "#  Project Description\n",
    "The dataset contains grades scored by students throughout their university tenure in various courses and their CGPA calculated based on their grades\n",
    "Columns Description-  total 43 columns\n",
    "-Seat No : The enrolled number of candidate that took the exams\n",
    "\n",
    "CGPA : The cumulative GPA based on the four year total grade progress of each candidate . CGPA is a Final Marks -- provided to student.\n",
    " \n",
    "· All other columns are course codes in the format AB-XXX where AB are alphabets representing candidates' departments and XXX are numbers where first X represents the year the canditate took exam\n",
    "\n",
    " \n",
    "# Predict - CGPA of a student based on different grades in four years.\n"
   ]
  },
  {
   "cell_type": "code",
   "execution_count": 1,
   "id": "432755d8",
   "metadata": {},
   "outputs": [],
   "source": [
    "# import basic library\n",
    "import pandas as pd\n",
    "import numpy as np\n",
    "import matplotlib.pyplot as plt\n",
    "import seaborn as sns\n",
    "import warnings\n",
    "warnings.filterwarnings('ignore')"
   ]
  },
  {
   "cell_type": "code",
   "execution_count": 2,
   "id": "0d14bb17",
   "metadata": {},
   "outputs": [
    {
     "data": {
      "text/html": [
       "<div>\n",
       "<style scoped>\n",
       "    .dataframe tbody tr th:only-of-type {\n",
       "        vertical-align: middle;\n",
       "    }\n",
       "\n",
       "    .dataframe tbody tr th {\n",
       "        vertical-align: top;\n",
       "    }\n",
       "\n",
       "    .dataframe thead th {\n",
       "        text-align: right;\n",
       "    }\n",
       "</style>\n",
       "<table border=\"1\" class=\"dataframe\">\n",
       "  <thead>\n",
       "    <tr style=\"text-align: right;\">\n",
       "      <th></th>\n",
       "      <th>Seat No.</th>\n",
       "      <th>PH-121</th>\n",
       "      <th>HS-101</th>\n",
       "      <th>CY-105</th>\n",
       "      <th>HS-105/12</th>\n",
       "      <th>MT-111</th>\n",
       "      <th>CS-105</th>\n",
       "      <th>CS-106</th>\n",
       "      <th>EL-102</th>\n",
       "      <th>EE-119</th>\n",
       "      <th>...</th>\n",
       "      <th>CS-312</th>\n",
       "      <th>CS-317</th>\n",
       "      <th>CS-403</th>\n",
       "      <th>CS-421</th>\n",
       "      <th>CS-406</th>\n",
       "      <th>CS-414</th>\n",
       "      <th>CS-419</th>\n",
       "      <th>CS-423</th>\n",
       "      <th>CS-412</th>\n",
       "      <th>CGPA</th>\n",
       "    </tr>\n",
       "  </thead>\n",
       "  <tbody>\n",
       "    <tr>\n",
       "      <th>0</th>\n",
       "      <td>CS-97001</td>\n",
       "      <td>B-</td>\n",
       "      <td>D+</td>\n",
       "      <td>C-</td>\n",
       "      <td>C</td>\n",
       "      <td>C-</td>\n",
       "      <td>D+</td>\n",
       "      <td>D</td>\n",
       "      <td>C-</td>\n",
       "      <td>B-</td>\n",
       "      <td>...</td>\n",
       "      <td>C-</td>\n",
       "      <td>C-</td>\n",
       "      <td>C-</td>\n",
       "      <td>C-</td>\n",
       "      <td>A-</td>\n",
       "      <td>A</td>\n",
       "      <td>C-</td>\n",
       "      <td>B</td>\n",
       "      <td>A-</td>\n",
       "      <td>2.205</td>\n",
       "    </tr>\n",
       "    <tr>\n",
       "      <th>1</th>\n",
       "      <td>CS-97002</td>\n",
       "      <td>A</td>\n",
       "      <td>D</td>\n",
       "      <td>D+</td>\n",
       "      <td>D</td>\n",
       "      <td>B-</td>\n",
       "      <td>C</td>\n",
       "      <td>D</td>\n",
       "      <td>A</td>\n",
       "      <td>D+</td>\n",
       "      <td>...</td>\n",
       "      <td>D+</td>\n",
       "      <td>D</td>\n",
       "      <td>C</td>\n",
       "      <td>D</td>\n",
       "      <td>A-</td>\n",
       "      <td>B-</td>\n",
       "      <td>C</td>\n",
       "      <td>C</td>\n",
       "      <td>B</td>\n",
       "      <td>2.008</td>\n",
       "    </tr>\n",
       "    <tr>\n",
       "      <th>2</th>\n",
       "      <td>CS-97003</td>\n",
       "      <td>A</td>\n",
       "      <td>B</td>\n",
       "      <td>A</td>\n",
       "      <td>B-</td>\n",
       "      <td>B+</td>\n",
       "      <td>A</td>\n",
       "      <td>B-</td>\n",
       "      <td>B+</td>\n",
       "      <td>A-</td>\n",
       "      <td>...</td>\n",
       "      <td>B</td>\n",
       "      <td>B</td>\n",
       "      <td>A</td>\n",
       "      <td>C</td>\n",
       "      <td>A</td>\n",
       "      <td>A</td>\n",
       "      <td>A</td>\n",
       "      <td>A-</td>\n",
       "      <td>A</td>\n",
       "      <td>3.608</td>\n",
       "    </tr>\n",
       "    <tr>\n",
       "      <th>3</th>\n",
       "      <td>CS-97004</td>\n",
       "      <td>D</td>\n",
       "      <td>C+</td>\n",
       "      <td>D+</td>\n",
       "      <td>D</td>\n",
       "      <td>D</td>\n",
       "      <td>A-</td>\n",
       "      <td>D+</td>\n",
       "      <td>C-</td>\n",
       "      <td>D</td>\n",
       "      <td>...</td>\n",
       "      <td>D+</td>\n",
       "      <td>C</td>\n",
       "      <td>D+</td>\n",
       "      <td>C-</td>\n",
       "      <td>B-</td>\n",
       "      <td>B</td>\n",
       "      <td>C+</td>\n",
       "      <td>C+</td>\n",
       "      <td>C+</td>\n",
       "      <td>1.906</td>\n",
       "    </tr>\n",
       "    <tr>\n",
       "      <th>4</th>\n",
       "      <td>CS-97005</td>\n",
       "      <td>A-</td>\n",
       "      <td>A-</td>\n",
       "      <td>A-</td>\n",
       "      <td>B+</td>\n",
       "      <td>A</td>\n",
       "      <td>A</td>\n",
       "      <td>A-</td>\n",
       "      <td>B+</td>\n",
       "      <td>A</td>\n",
       "      <td>...</td>\n",
       "      <td>B-</td>\n",
       "      <td>B+</td>\n",
       "      <td>B+</td>\n",
       "      <td>B-</td>\n",
       "      <td>A-</td>\n",
       "      <td>A</td>\n",
       "      <td>A-</td>\n",
       "      <td>A-</td>\n",
       "      <td>A</td>\n",
       "      <td>3.448</td>\n",
       "    </tr>\n",
       "  </tbody>\n",
       "</table>\n",
       "<p>5 rows × 43 columns</p>\n",
       "</div>"
      ],
      "text/plain": [
       "   Seat No. PH-121 HS-101 CY-105 HS-105/12 MT-111 CS-105 CS-106 EL-102 EE-119  \\\n",
       "0  CS-97001     B-     D+     C-         C     C-     D+      D     C-     B-   \n",
       "1  CS-97002      A      D     D+         D     B-      C      D      A     D+   \n",
       "2  CS-97003      A      B      A        B-     B+      A     B-     B+     A-   \n",
       "3  CS-97004      D     C+     D+         D      D     A-     D+     C-      D   \n",
       "4  CS-97005     A-     A-     A-        B+      A      A     A-     B+      A   \n",
       "\n",
       "   ... CS-312 CS-317 CS-403 CS-421 CS-406 CS-414 CS-419 CS-423 CS-412   CGPA  \n",
       "0  ...     C-     C-     C-     C-     A-      A     C-      B     A-  2.205  \n",
       "1  ...     D+      D      C      D     A-     B-      C      C      B  2.008  \n",
       "2  ...      B      B      A      C      A      A      A     A-      A  3.608  \n",
       "3  ...     D+      C     D+     C-     B-      B     C+     C+     C+  1.906  \n",
       "4  ...     B-     B+     B+     B-     A-      A     A-     A-      A  3.448  \n",
       "\n",
       "[5 rows x 43 columns]"
      ]
     },
     "execution_count": 2,
     "metadata": {},
     "output_type": "execute_result"
    }
   ],
   "source": [
    "grades =pd.read_csv('https://raw.githubusercontent.com/dsrscientist/dataset4/main/Grades.csv')\n",
    "grades.head()"
   ]
  },
  {
   "cell_type": "markdown",
   "id": "4e36cb19",
   "metadata": {},
   "source": [
    "#  Use sample technique to check random details to get idea what type of data"
   ]
  },
  {
   "cell_type": "code",
   "execution_count": 3,
   "id": "1569bc6a",
   "metadata": {},
   "outputs": [
    {
     "data": {
      "text/html": [
       "<div>\n",
       "<style scoped>\n",
       "    .dataframe tbody tr th:only-of-type {\n",
       "        vertical-align: middle;\n",
       "    }\n",
       "\n",
       "    .dataframe tbody tr th {\n",
       "        vertical-align: top;\n",
       "    }\n",
       "\n",
       "    .dataframe thead th {\n",
       "        text-align: right;\n",
       "    }\n",
       "</style>\n",
       "<table border=\"1\" class=\"dataframe\">\n",
       "  <thead>\n",
       "    <tr style=\"text-align: right;\">\n",
       "      <th></th>\n",
       "      <th>Seat No.</th>\n",
       "      <th>PH-121</th>\n",
       "      <th>HS-101</th>\n",
       "      <th>CY-105</th>\n",
       "      <th>HS-105/12</th>\n",
       "      <th>MT-111</th>\n",
       "      <th>CS-105</th>\n",
       "      <th>CS-106</th>\n",
       "      <th>EL-102</th>\n",
       "      <th>EE-119</th>\n",
       "      <th>...</th>\n",
       "      <th>CS-312</th>\n",
       "      <th>CS-317</th>\n",
       "      <th>CS-403</th>\n",
       "      <th>CS-421</th>\n",
       "      <th>CS-406</th>\n",
       "      <th>CS-414</th>\n",
       "      <th>CS-419</th>\n",
       "      <th>CS-423</th>\n",
       "      <th>CS-412</th>\n",
       "      <th>CGPA</th>\n",
       "    </tr>\n",
       "  </thead>\n",
       "  <tbody>\n",
       "    <tr>\n",
       "      <th>342</th>\n",
       "      <td>CS-97343</td>\n",
       "      <td>B-</td>\n",
       "      <td>A-</td>\n",
       "      <td>A+</td>\n",
       "      <td>B+</td>\n",
       "      <td>A-</td>\n",
       "      <td>B</td>\n",
       "      <td>B+</td>\n",
       "      <td>A</td>\n",
       "      <td>A-</td>\n",
       "      <td>...</td>\n",
       "      <td>A+</td>\n",
       "      <td>B</td>\n",
       "      <td>A</td>\n",
       "      <td>B</td>\n",
       "      <td>A</td>\n",
       "      <td>A-</td>\n",
       "      <td>B</td>\n",
       "      <td>B</td>\n",
       "      <td>NaN</td>\n",
       "      <td>3.184</td>\n",
       "    </tr>\n",
       "    <tr>\n",
       "      <th>198</th>\n",
       "      <td>CS-97199</td>\n",
       "      <td>C</td>\n",
       "      <td>B</td>\n",
       "      <td>A-</td>\n",
       "      <td>D+</td>\n",
       "      <td>C+</td>\n",
       "      <td>A-</td>\n",
       "      <td>C-</td>\n",
       "      <td>D</td>\n",
       "      <td>C-</td>\n",
       "      <td>...</td>\n",
       "      <td>C</td>\n",
       "      <td>D+</td>\n",
       "      <td>D+</td>\n",
       "      <td>D</td>\n",
       "      <td>B-</td>\n",
       "      <td>A-</td>\n",
       "      <td>D+</td>\n",
       "      <td>D</td>\n",
       "      <td>B-</td>\n",
       "      <td>1.992</td>\n",
       "    </tr>\n",
       "    <tr>\n",
       "      <th>442</th>\n",
       "      <td>CS-97443</td>\n",
       "      <td>B+</td>\n",
       "      <td>C</td>\n",
       "      <td>A</td>\n",
       "      <td>C+</td>\n",
       "      <td>A-</td>\n",
       "      <td>B+</td>\n",
       "      <td>A</td>\n",
       "      <td>B+</td>\n",
       "      <td>A</td>\n",
       "      <td>...</td>\n",
       "      <td>A</td>\n",
       "      <td>B+</td>\n",
       "      <td>A</td>\n",
       "      <td>C-</td>\n",
       "      <td>C+</td>\n",
       "      <td>B</td>\n",
       "      <td>A</td>\n",
       "      <td>A-</td>\n",
       "      <td>B</td>\n",
       "      <td>3.179</td>\n",
       "    </tr>\n",
       "    <tr>\n",
       "      <th>338</th>\n",
       "      <td>CS-97339</td>\n",
       "      <td>A-</td>\n",
       "      <td>A</td>\n",
       "      <td>B</td>\n",
       "      <td>B+</td>\n",
       "      <td>A</td>\n",
       "      <td>B-</td>\n",
       "      <td>B</td>\n",
       "      <td>A</td>\n",
       "      <td>B</td>\n",
       "      <td>...</td>\n",
       "      <td>A+</td>\n",
       "      <td>B+</td>\n",
       "      <td>A-</td>\n",
       "      <td>B+</td>\n",
       "      <td>NaN</td>\n",
       "      <td>A-</td>\n",
       "      <td>A-</td>\n",
       "      <td>B+</td>\n",
       "      <td>B+</td>\n",
       "      <td>3.408</td>\n",
       "    </tr>\n",
       "    <tr>\n",
       "      <th>548</th>\n",
       "      <td>CS-97549</td>\n",
       "      <td>A</td>\n",
       "      <td>A</td>\n",
       "      <td>A</td>\n",
       "      <td>A</td>\n",
       "      <td>C+</td>\n",
       "      <td>A</td>\n",
       "      <td>B+</td>\n",
       "      <td>C</td>\n",
       "      <td>B+</td>\n",
       "      <td>...</td>\n",
       "      <td>B</td>\n",
       "      <td>B</td>\n",
       "      <td>B</td>\n",
       "      <td>B</td>\n",
       "      <td>B-</td>\n",
       "      <td>A-</td>\n",
       "      <td>A</td>\n",
       "      <td>C+</td>\n",
       "      <td>B</td>\n",
       "      <td>3.182</td>\n",
       "    </tr>\n",
       "    <tr>\n",
       "      <th>53</th>\n",
       "      <td>CS-97054</td>\n",
       "      <td>B-</td>\n",
       "      <td>B-</td>\n",
       "      <td>C</td>\n",
       "      <td>B-</td>\n",
       "      <td>C-</td>\n",
       "      <td>A-</td>\n",
       "      <td>C+</td>\n",
       "      <td>B-</td>\n",
       "      <td>A-</td>\n",
       "      <td>...</td>\n",
       "      <td>D+</td>\n",
       "      <td>C-</td>\n",
       "      <td>D+</td>\n",
       "      <td>C</td>\n",
       "      <td>A-</td>\n",
       "      <td>A</td>\n",
       "      <td>B-</td>\n",
       "      <td>B</td>\n",
       "      <td>A-</td>\n",
       "      <td>2.793</td>\n",
       "    </tr>\n",
       "    <tr>\n",
       "      <th>427</th>\n",
       "      <td>CS-97428</td>\n",
       "      <td>A+</td>\n",
       "      <td>A</td>\n",
       "      <td>A+</td>\n",
       "      <td>A</td>\n",
       "      <td>A+</td>\n",
       "      <td>A</td>\n",
       "      <td>A</td>\n",
       "      <td>A</td>\n",
       "      <td>A</td>\n",
       "      <td>...</td>\n",
       "      <td>A+</td>\n",
       "      <td>A+</td>\n",
       "      <td>A</td>\n",
       "      <td>A+</td>\n",
       "      <td>A+</td>\n",
       "      <td>A-</td>\n",
       "      <td>A</td>\n",
       "      <td>A+</td>\n",
       "      <td>A</td>\n",
       "      <td>3.985</td>\n",
       "    </tr>\n",
       "    <tr>\n",
       "      <th>258</th>\n",
       "      <td>CS-97259</td>\n",
       "      <td>A-</td>\n",
       "      <td>C+</td>\n",
       "      <td>A-</td>\n",
       "      <td>A</td>\n",
       "      <td>B+</td>\n",
       "      <td>A+</td>\n",
       "      <td>A-</td>\n",
       "      <td>A-</td>\n",
       "      <td>A-</td>\n",
       "      <td>...</td>\n",
       "      <td>A-</td>\n",
       "      <td>A</td>\n",
       "      <td>A-</td>\n",
       "      <td>B-</td>\n",
       "      <td>A-</td>\n",
       "      <td>A</td>\n",
       "      <td>B</td>\n",
       "      <td>A-</td>\n",
       "      <td>A-</td>\n",
       "      <td>3.479</td>\n",
       "    </tr>\n",
       "    <tr>\n",
       "      <th>212</th>\n",
       "      <td>CS-97213</td>\n",
       "      <td>B+</td>\n",
       "      <td>A-</td>\n",
       "      <td>B+</td>\n",
       "      <td>A-</td>\n",
       "      <td>B+</td>\n",
       "      <td>A-</td>\n",
       "      <td>C+</td>\n",
       "      <td>B</td>\n",
       "      <td>C</td>\n",
       "      <td>...</td>\n",
       "      <td>C-</td>\n",
       "      <td>C+</td>\n",
       "      <td>A-</td>\n",
       "      <td>C+</td>\n",
       "      <td>A-</td>\n",
       "      <td>A-</td>\n",
       "      <td>B-</td>\n",
       "      <td>B-</td>\n",
       "      <td>A-</td>\n",
       "      <td>2.717</td>\n",
       "    </tr>\n",
       "    <tr>\n",
       "      <th>469</th>\n",
       "      <td>CS-97470</td>\n",
       "      <td>A</td>\n",
       "      <td>A-</td>\n",
       "      <td>A+</td>\n",
       "      <td>A</td>\n",
       "      <td>A</td>\n",
       "      <td>A+</td>\n",
       "      <td>B</td>\n",
       "      <td>A-</td>\n",
       "      <td>B+</td>\n",
       "      <td>...</td>\n",
       "      <td>A+</td>\n",
       "      <td>A-</td>\n",
       "      <td>A</td>\n",
       "      <td>B+</td>\n",
       "      <td>A</td>\n",
       "      <td>B+</td>\n",
       "      <td>A</td>\n",
       "      <td>A</td>\n",
       "      <td>A-</td>\n",
       "      <td>3.714</td>\n",
       "    </tr>\n",
       "  </tbody>\n",
       "</table>\n",
       "<p>10 rows × 43 columns</p>\n",
       "</div>"
      ],
      "text/plain": [
       "     Seat No. PH-121 HS-101 CY-105 HS-105/12 MT-111 CS-105 CS-106 EL-102  \\\n",
       "342  CS-97343     B-     A-     A+        B+     A-      B     B+      A   \n",
       "198  CS-97199      C      B     A-        D+     C+     A-     C-      D   \n",
       "442  CS-97443     B+      C      A        C+     A-     B+      A     B+   \n",
       "338  CS-97339     A-      A      B        B+      A     B-      B      A   \n",
       "548  CS-97549      A      A      A         A     C+      A     B+      C   \n",
       "53   CS-97054     B-     B-      C        B-     C-     A-     C+     B-   \n",
       "427  CS-97428     A+      A     A+         A     A+      A      A      A   \n",
       "258  CS-97259     A-     C+     A-         A     B+     A+     A-     A-   \n",
       "212  CS-97213     B+     A-     B+        A-     B+     A-     C+      B   \n",
       "469  CS-97470      A     A-     A+         A      A     A+      B     A-   \n",
       "\n",
       "    EE-119  ... CS-312 CS-317 CS-403 CS-421 CS-406 CS-414 CS-419 CS-423  \\\n",
       "342     A-  ...     A+      B      A      B      A     A-      B      B   \n",
       "198     C-  ...      C     D+     D+      D     B-     A-     D+      D   \n",
       "442      A  ...      A     B+      A     C-     C+      B      A     A-   \n",
       "338      B  ...     A+     B+     A-     B+    NaN     A-     A-     B+   \n",
       "548     B+  ...      B      B      B      B     B-     A-      A     C+   \n",
       "53      A-  ...     D+     C-     D+      C     A-      A     B-      B   \n",
       "427      A  ...     A+     A+      A     A+     A+     A-      A     A+   \n",
       "258     A-  ...     A-      A     A-     B-     A-      A      B     A-   \n",
       "212      C  ...     C-     C+     A-     C+     A-     A-     B-     B-   \n",
       "469     B+  ...     A+     A-      A     B+      A     B+      A      A   \n",
       "\n",
       "    CS-412   CGPA  \n",
       "342    NaN  3.184  \n",
       "198     B-  1.992  \n",
       "442      B  3.179  \n",
       "338     B+  3.408  \n",
       "548      B  3.182  \n",
       "53      A-  2.793  \n",
       "427      A  3.985  \n",
       "258     A-  3.479  \n",
       "212     A-  2.717  \n",
       "469     A-  3.714  \n",
       "\n",
       "[10 rows x 43 columns]"
      ]
     },
     "execution_count": 3,
     "metadata": {},
     "output_type": "execute_result"
    }
   ],
   "source": [
    "grades.sample(10)"
   ]
  },
  {
   "cell_type": "markdown",
   "id": "7608e6d8",
   "metadata": {},
   "source": [
    "# \n",
    "use sample techniques to know there is null values present in the dataset"
   ]
  },
  {
   "cell_type": "code",
   "execution_count": 4,
   "id": "3bab028c",
   "metadata": {},
   "outputs": [
    {
     "data": {
      "text/plain": [
       "0"
      ]
     },
     "execution_count": 4,
     "metadata": {},
     "output_type": "execute_result"
    }
   ],
   "source": [
    "grades.duplicated().sum()"
   ]
  },
  {
   "cell_type": "markdown",
   "id": "0ae82a2e",
   "metadata": {},
   "source": [
    "#  There is no dupliacate values present in the dataset"
   ]
  },
  {
   "cell_type": "code",
   "execution_count": 5,
   "id": "ff10eafb",
   "metadata": {
    "scrolled": false
   },
   "outputs": [
    {
     "data": {
      "text/plain": [
       "(571, 43)"
      ]
     },
     "execution_count": 5,
     "metadata": {},
     "output_type": "execute_result"
    }
   ],
   "source": [
    "grades.shape"
   ]
  },
  {
   "cell_type": "markdown",
   "id": "84fd4985",
   "metadata": {},
   "source": [
    "#  There is 571 Rows and 43 colums present in the dataset"
   ]
  },
  {
   "cell_type": "code",
   "execution_count": 6,
   "id": "ecf3ab61",
   "metadata": {
    "scrolled": false
   },
   "outputs": [
    {
     "name": "stdout",
     "output_type": "stream",
     "text": [
      "<class 'pandas.core.frame.DataFrame'>\n",
      "RangeIndex: 571 entries, 0 to 570\n",
      "Data columns (total 43 columns):\n",
      " #   Column     Non-Null Count  Dtype  \n",
      "---  ------     --------------  -----  \n",
      " 0   Seat No.   571 non-null    object \n",
      " 1   PH-121     571 non-null    object \n",
      " 2   HS-101     571 non-null    object \n",
      " 3   CY-105     570 non-null    object \n",
      " 4   HS-105/12  570 non-null    object \n",
      " 5   MT-111     569 non-null    object \n",
      " 6   CS-105     571 non-null    object \n",
      " 7   CS-106     569 non-null    object \n",
      " 8   EL-102     569 non-null    object \n",
      " 9   EE-119     569 non-null    object \n",
      " 10  ME-107     569 non-null    object \n",
      " 11  CS-107     569 non-null    object \n",
      " 12  HS-205/20  566 non-null    object \n",
      " 13  MT-222     566 non-null    object \n",
      " 14  EE-222     564 non-null    object \n",
      " 15  MT-224     564 non-null    object \n",
      " 16  CS-210     564 non-null    object \n",
      " 17  CS-211     566 non-null    object \n",
      " 18  CS-203     566 non-null    object \n",
      " 19  CS-214     565 non-null    object \n",
      " 20  EE-217     565 non-null    object \n",
      " 21  CS-212     565 non-null    object \n",
      " 22  CS-215     565 non-null    object \n",
      " 23  MT-331     562 non-null    object \n",
      " 24  EF-303     561 non-null    object \n",
      " 25  HS-304     561 non-null    object \n",
      " 26  CS-301     561 non-null    object \n",
      " 27  CS-302     561 non-null    object \n",
      " 28  TC-383     561 non-null    object \n",
      " 29  MT-442     561 non-null    object \n",
      " 30  EL-332     562 non-null    object \n",
      " 31  CS-318     562 non-null    object \n",
      " 32  CS-306     562 non-null    object \n",
      " 33  CS-312     561 non-null    object \n",
      " 34  CS-317     559 non-null    object \n",
      " 35  CS-403     559 non-null    object \n",
      " 36  CS-421     559 non-null    object \n",
      " 37  CS-406     486 non-null    object \n",
      " 38  CS-414     558 non-null    object \n",
      " 39  CS-419     558 non-null    object \n",
      " 40  CS-423     557 non-null    object \n",
      " 41  CS-412     492 non-null    object \n",
      " 42  CGPA       571 non-null    float64\n",
      "dtypes: float64(1), object(42)\n",
      "memory usage: 191.9+ KB\n"
     ]
    }
   ],
   "source": [
    "grades.info()"
   ]
  },
  {
   "cell_type": "markdown",
   "id": "6cd08cce",
   "metadata": {},
   "source": [
    "#  \n",
    "The target variable cgpa is float datatype so there is linear regression promble\n",
    "\n",
    "Remaining column is object datatype"
   ]
  },
  {
   "cell_type": "code",
   "execution_count": 7,
   "id": "64f3813c",
   "metadata": {
    "scrolled": true
   },
   "outputs": [
    {
     "name": "stdout",
     "output_type": "stream",
     "text": [
      "<bound method IndexOpsMixin.value_counts of 0      CS-97001\n",
      "1      CS-97002\n",
      "2      CS-97003\n",
      "3      CS-97004\n",
      "4      CS-97005\n",
      "         ...   \n",
      "566    CS-97567\n",
      "567    CS-97568\n",
      "568    CS-97569\n",
      "569    CS-97570\n",
      "570    CS-97571\n",
      "Name: Seat No., Length: 571, dtype: object>\n",
      "<bound method IndexOpsMixin.value_counts of 0      B-\n",
      "1       A\n",
      "2       A\n",
      "3       D\n",
      "4      A-\n",
      "       ..\n",
      "566     B\n",
      "567    A+\n",
      "568     B\n",
      "569     A\n",
      "570     C\n",
      "Name: PH-121, Length: 571, dtype: object>\n",
      "<bound method IndexOpsMixin.value_counts of 0      D+\n",
      "1       D\n",
      "2       B\n",
      "3      C+\n",
      "4      A-\n",
      "       ..\n",
      "566     A\n",
      "567     A\n",
      "568     A\n",
      "569    B+\n",
      "570     D\n",
      "Name: HS-101, Length: 571, dtype: object>\n",
      "<bound method IndexOpsMixin.value_counts of 0      C-\n",
      "1      D+\n",
      "2       A\n",
      "3      D+\n",
      "4      A-\n",
      "       ..\n",
      "566     A\n",
      "567     A\n",
      "568    A-\n",
      "569     D\n",
      "570     D\n",
      "Name: CY-105, Length: 571, dtype: object>\n",
      "<bound method IndexOpsMixin.value_counts of 0       C\n",
      "1       D\n",
      "2      B-\n",
      "3       D\n",
      "4      B+\n",
      "       ..\n",
      "566    A-\n",
      "567     A\n",
      "568    B+\n",
      "569     A\n",
      "570     C\n",
      "Name: HS-105/12, Length: 571, dtype: object>\n",
      "<bound method IndexOpsMixin.value_counts of 0      C-\n",
      "1      B-\n",
      "2      B+\n",
      "3       D\n",
      "4       A\n",
      "       ..\n",
      "566    A+\n",
      "567     A\n",
      "568     A\n",
      "569     D\n",
      "570     C\n",
      "Name: MT-111, Length: 571, dtype: object>\n",
      "<bound method IndexOpsMixin.value_counts of 0      D+\n",
      "1       C\n",
      "2       A\n",
      "3      A-\n",
      "4       A\n",
      "       ..\n",
      "566     A\n",
      "567     A\n",
      "568     A\n",
      "569    D+\n",
      "570    D+\n",
      "Name: CS-105, Length: 571, dtype: object>\n",
      "<bound method IndexOpsMixin.value_counts of 0       D\n",
      "1       D\n",
      "2      B-\n",
      "3      D+\n",
      "4      A-\n",
      "       ..\n",
      "566    A-\n",
      "567     A\n",
      "568     A\n",
      "569    B-\n",
      "570     B\n",
      "Name: CS-106, Length: 571, dtype: object>\n",
      "<bound method IndexOpsMixin.value_counts of 0      C-\n",
      "1       A\n",
      "2      B+\n",
      "3      C-\n",
      "4      B+\n",
      "       ..\n",
      "566    A-\n",
      "567    A-\n",
      "568     A\n",
      "569    C-\n",
      "570    C+\n",
      "Name: EL-102, Length: 571, dtype: object>\n",
      "<bound method IndexOpsMixin.value_counts of 0      B-\n",
      "1      D+\n",
      "2      A-\n",
      "3       D\n",
      "4       A\n",
      "       ..\n",
      "566    A+\n",
      "567     A\n",
      "568     A\n",
      "569    B-\n",
      "570     C\n",
      "Name: EE-119, Length: 571, dtype: object>\n",
      "<bound method IndexOpsMixin.value_counts of 0      C-\n",
      "1       D\n",
      "2      A-\n",
      "3      C+\n",
      "4      A-\n",
      "       ..\n",
      "566    B+\n",
      "567     A\n",
      "568     B\n",
      "569    C-\n",
      "570    D+\n",
      "Name: ME-107, Length: 571, dtype: object>\n",
      "<bound method IndexOpsMixin.value_counts of 0      C-\n",
      "1      B+\n",
      "2      B-\n",
      "3       D\n",
      "4       C\n",
      "       ..\n",
      "566    A+\n",
      "567    A+\n",
      "568    A+\n",
      "569    A+\n",
      "570    B-\n",
      "Name: CS-107, Length: 571, dtype: object>\n",
      "<bound method IndexOpsMixin.value_counts of 0      B+\n",
      "1      C+\n",
      "2      A-\n",
      "3       B\n",
      "4       A\n",
      "       ..\n",
      "566     A\n",
      "567    B+\n",
      "568    B-\n",
      "569    C+\n",
      "570    C+\n",
      "Name: HS-205/20, Length: 571, dtype: object>\n",
      "<bound method IndexOpsMixin.value_counts of 0       D\n",
      "1      B-\n",
      "2       A\n",
      "3      D+\n",
      "4       A\n",
      "       ..\n",
      "566    A+\n",
      "567    C+\n",
      "568     B\n",
      "569     D\n",
      "570    C-\n",
      "Name: MT-222, Length: 571, dtype: object>\n",
      "<bound method IndexOpsMixin.value_counts of 0      A-\n",
      "1      C-\n",
      "2       A\n",
      "3      B-\n",
      "4      A-\n",
      "       ..\n",
      "566     A\n",
      "567    A-\n",
      "568    B+\n",
      "569     D\n",
      "570    B+\n",
      "Name: EE-222, Length: 571, dtype: object>\n",
      "<bound method IndexOpsMixin.value_counts of 0      B-\n",
      "1      D+\n",
      "2       A\n",
      "3       D\n",
      "4      A-\n",
      "       ..\n",
      "566     A\n",
      "567     B\n",
      "568     B\n",
      "569     B\n",
      "570    D+\n",
      "Name: MT-224, Length: 571, dtype: object>\n",
      "<bound method IndexOpsMixin.value_counts of 0      C+\n",
      "1      D+\n",
      "2       A\n",
      "3       C\n",
      "4      A-\n",
      "       ..\n",
      "566     A\n",
      "567     A\n",
      "568    A-\n",
      "569    B-\n",
      "570    B+\n",
      "Name: CS-210, Length: 571, dtype: object>\n",
      "<bound method IndexOpsMixin.value_counts of 0      D+\n",
      "1       D\n",
      "2      A+\n",
      "3      B+\n",
      "4      B-\n",
      "       ..\n",
      "566     A\n",
      "567     A\n",
      "568     A\n",
      "569     B\n",
      "570    C-\n",
      "Name: CS-211, Length: 571, dtype: object>\n",
      "<bound method IndexOpsMixin.value_counts of 0      D+\n",
      "1       C\n",
      "2       A\n",
      "3      C+\n",
      "4       A\n",
      "       ..\n",
      "566    A+\n",
      "567    A+\n",
      "568    B+\n",
      "569    B-\n",
      "570     B\n",
      "Name: CS-203, Length: 571, dtype: object>\n",
      "<bound method IndexOpsMixin.value_counts of 0       D\n",
      "1       D\n",
      "2      A-\n",
      "3       D\n",
      "4      A-\n",
      "       ..\n",
      "566     A\n",
      "567    A+\n",
      "568     B\n",
      "569     C\n",
      "570    D+\n",
      "Name: CS-214, Length: 571, dtype: object>\n",
      "<bound method IndexOpsMixin.value_counts of 0       A\n",
      "1      B-\n",
      "2       A\n",
      "3      D+\n",
      "4       A\n",
      "       ..\n",
      "566     A\n",
      "567     A\n",
      "568     A\n",
      "569    B-\n",
      "570    C-\n",
      "Name: EE-217, Length: 571, dtype: object>\n",
      "<bound method IndexOpsMixin.value_counts of 0       D\n",
      "1       C\n",
      "2      A-\n",
      "3       D\n",
      "4      A-\n",
      "       ..\n",
      "566     B\n",
      "567     A\n",
      "568    B+\n",
      "569    D+\n",
      "570     C\n",
      "Name: CS-212, Length: 571, dtype: object>\n",
      "<bound method IndexOpsMixin.value_counts of 0      C-\n",
      "1       D\n",
      "2       A\n",
      "3       D\n",
      "4      A-\n",
      "       ..\n",
      "566    A-\n",
      "567     B\n",
      "568     B\n",
      "569    D+\n",
      "570    D+\n",
      "Name: CS-215, Length: 571, dtype: object>\n",
      "<bound method IndexOpsMixin.value_counts of 0       C\n",
      "1      D+\n",
      "2       A\n",
      "3      D+\n",
      "4      C+\n",
      "       ..\n",
      "566     A\n",
      "567     A\n",
      "568     A\n",
      "569    C+\n",
      "570     C\n",
      "Name: MT-331, Length: 571, dtype: object>\n",
      "<bound method IndexOpsMixin.value_counts of 0      C-\n",
      "1       D\n",
      "2      C+\n",
      "3       D\n",
      "4      C-\n",
      "       ..\n",
      "566     B\n",
      "567     A\n",
      "568     B\n",
      "569     D\n",
      "570     D\n",
      "Name: EF-303, Length: 571, dtype: object>\n",
      "<bound method IndexOpsMixin.value_counts of 0      C+\n",
      "1      C-\n",
      "2       A\n",
      "3      B-\n",
      "4      A-\n",
      "       ..\n",
      "566    A-\n",
      "567     A\n",
      "568    B-\n",
      "569     C\n",
      "570     F\n",
      "Name: HS-304, Length: 571, dtype: object>\n",
      "<bound method IndexOpsMixin.value_counts of 0       B\n",
      "1      A-\n",
      "2      B+\n",
      "3       D\n",
      "4      B-\n",
      "       ..\n",
      "566    A-\n",
      "567     A\n",
      "568    B+\n",
      "569     C\n",
      "570     D\n",
      "Name: CS-301, Length: 571, dtype: object>\n",
      "<bound method IndexOpsMixin.value_counts of 0       C\n",
      "1      D+\n",
      "2      A-\n",
      "3      B-\n",
      "4      A-\n",
      "       ..\n",
      "566     A\n",
      "567     A\n",
      "568    B+\n",
      "569    C+\n",
      "570     D\n",
      "Name: CS-302, Length: 571, dtype: object>\n",
      "<bound method IndexOpsMixin.value_counts of 0      C+\n",
      "1      C-\n",
      "2       B\n",
      "3      D+\n",
      "4      C+\n",
      "       ..\n",
      "566    A+\n",
      "567     A\n",
      "568     A\n",
      "569    C-\n",
      "570     C\n",
      "Name: TC-383, Length: 571, dtype: object>\n",
      "<bound method IndexOpsMixin.value_counts of 0      B+\n",
      "1      C-\n",
      "2       A\n",
      "3      C-\n",
      "4      A-\n",
      "       ..\n",
      "566    A+\n",
      "567    A+\n",
      "568    B+\n",
      "569    C-\n",
      "570    A-\n",
      "Name: MT-442, Length: 571, dtype: object>\n",
      "<bound method IndexOpsMixin.value_counts of 0       C\n",
      "1       C\n",
      "2      B+\n",
      "3      D+\n",
      "4      A-\n",
      "       ..\n",
      "566     A\n",
      "567     A\n",
      "568     B\n",
      "569     D\n",
      "570     F\n",
      "Name: EL-332, Length: 571, dtype: object>\n",
      "<bound method IndexOpsMixin.value_counts of 0      C-\n",
      "1      A-\n",
      "2      A-\n",
      "3      B+\n",
      "4      B-\n",
      "       ..\n",
      "566     A\n",
      "567    A+\n",
      "568    C+\n",
      "569    B-\n",
      "570    C-\n",
      "Name: CS-318, Length: 571, dtype: object>\n",
      "<bound method IndexOpsMixin.value_counts of 0       C\n",
      "1       D\n",
      "2      A-\n",
      "3      C-\n",
      "4      A-\n",
      "       ..\n",
      "566    B+\n",
      "567    A-\n",
      "568    B+\n",
      "569    B+\n",
      "570    D+\n",
      "Name: CS-306, Length: 571, dtype: object>\n",
      "<bound method IndexOpsMixin.value_counts of 0      C-\n",
      "1      D+\n",
      "2       B\n",
      "3      D+\n",
      "4      B-\n",
      "       ..\n",
      "566    A-\n",
      "567    B+\n",
      "568    A-\n",
      "569     D\n",
      "570    C+\n",
      "Name: CS-312, Length: 571, dtype: object>\n",
      "<bound method IndexOpsMixin.value_counts of 0      C-\n",
      "1       D\n",
      "2       B\n",
      "3       C\n",
      "4      B+\n",
      "       ..\n",
      "566    A-\n",
      "567    B+\n",
      "568     B\n",
      "569     B\n",
      "570     C\n",
      "Name: CS-317, Length: 571, dtype: object>\n",
      "<bound method IndexOpsMixin.value_counts of 0      C-\n",
      "1       C\n",
      "2       A\n",
      "3      D+\n",
      "4      B+\n",
      "       ..\n",
      "566     A\n",
      "567     A\n",
      "568     A\n",
      "569     B\n",
      "570    B-\n",
      "Name: CS-403, Length: 571, dtype: object>\n",
      "<bound method IndexOpsMixin.value_counts of 0      C-\n",
      "1       D\n",
      "2       C\n",
      "3      C-\n",
      "4      B-\n",
      "       ..\n",
      "566     A\n",
      "567     A\n",
      "568    B+\n",
      "569    C-\n",
      "570     D\n",
      "Name: CS-421, Length: 571, dtype: object>\n",
      "<bound method IndexOpsMixin.value_counts of 0      A-\n",
      "1      A-\n",
      "2       A\n",
      "3      B-\n",
      "4      A-\n",
      "       ..\n",
      "566     A\n",
      "567    A-\n",
      "568     A\n",
      "569     D\n",
      "570     F\n",
      "Name: CS-406, Length: 571, dtype: object>\n",
      "<bound method IndexOpsMixin.value_counts of 0       A\n",
      "1      B-\n",
      "2       A\n",
      "3       B\n",
      "4       A\n",
      "       ..\n",
      "566    B+\n",
      "567     B\n",
      "568     C\n",
      "569     C\n",
      "570    C-\n",
      "Name: CS-414, Length: 571, dtype: object>\n",
      "<bound method IndexOpsMixin.value_counts of 0      C-\n",
      "1       C\n",
      "2       A\n",
      "3      C+\n",
      "4      A-\n",
      "       ..\n",
      "566    B+\n",
      "567    A-\n",
      "568    B+\n",
      "569     B\n",
      "570    B+\n",
      "Name: CS-419, Length: 571, dtype: object>\n",
      "<bound method IndexOpsMixin.value_counts of 0       B\n",
      "1       C\n",
      "2      A-\n",
      "3      C+\n",
      "4      A-\n",
      "       ..\n",
      "566     B\n",
      "567     C\n",
      "568    A-\n",
      "569    B-\n",
      "570     D\n",
      "Name: CS-423, Length: 571, dtype: object>\n",
      "<bound method IndexOpsMixin.value_counts of 0      A-\n",
      "1       B\n",
      "2       A\n",
      "3      C+\n",
      "4       A\n",
      "       ..\n",
      "566     A\n",
      "567    A-\n",
      "568    A-\n",
      "569     C\n",
      "570    C-\n",
      "Name: CS-412, Length: 571, dtype: object>\n",
      "<bound method IndexOpsMixin.value_counts of 0      2.205\n",
      "1      2.008\n",
      "2      3.608\n",
      "3      1.906\n",
      "4      3.448\n",
      "       ...  \n",
      "566    3.798\n",
      "567    3.772\n",
      "568    3.470\n",
      "569    2.193\n",
      "570    1.753\n",
      "Name: CGPA, Length: 571, dtype: float64>\n"
     ]
    }
   ],
   "source": [
    "for i in grades.columns:\n",
    "    print (grades[i].value_counts)"
   ]
  },
  {
   "cell_type": "code",
   "execution_count": 8,
   "id": "a0e9a598",
   "metadata": {},
   "outputs": [
    {
     "data": {
      "text/plain": [
       "571"
      ]
     },
     "execution_count": 8,
     "metadata": {},
     "output_type": "execute_result"
    }
   ],
   "source": [
    "grades['Seat No.'].nunique()"
   ]
  },
  {
   "cell_type": "markdown",
   "id": "500e2126",
   "metadata": {},
   "source": [
    "#  seat no is unique value is 571 rows and its just a number to every student so we drop this column"
   ]
  },
  {
   "cell_type": "code",
   "execution_count": 9,
   "id": "86836ed7",
   "metadata": {},
   "outputs": [],
   "source": [
    "grades.drop(columns='Seat No.',axis=1,inplace=True)"
   ]
  },
  {
   "cell_type": "code",
   "execution_count": 10,
   "id": "5e83c64e",
   "metadata": {
    "scrolled": true
   },
   "outputs": [
    {
     "data": {
      "text/plain": [
       "PH-121        0\n",
       "HS-101        0\n",
       "CY-105        1\n",
       "HS-105/12     1\n",
       "MT-111        2\n",
       "CS-105        0\n",
       "CS-106        2\n",
       "EL-102        2\n",
       "EE-119        2\n",
       "ME-107        2\n",
       "CS-107        2\n",
       "HS-205/20     5\n",
       "MT-222        5\n",
       "EE-222        7\n",
       "MT-224        7\n",
       "CS-210        7\n",
       "CS-211        5\n",
       "CS-203        5\n",
       "CS-214        6\n",
       "EE-217        6\n",
       "CS-212        6\n",
       "CS-215        6\n",
       "MT-331        9\n",
       "EF-303       10\n",
       "HS-304       10\n",
       "CS-301       10\n",
       "CS-302       10\n",
       "TC-383       10\n",
       "MT-442       10\n",
       "EL-332        9\n",
       "CS-318        9\n",
       "CS-306        9\n",
       "CS-312       10\n",
       "CS-317       12\n",
       "CS-403       12\n",
       "CS-421       12\n",
       "CS-406       85\n",
       "CS-414       13\n",
       "CS-419       13\n",
       "CS-423       14\n",
       "CS-412       79\n",
       "CGPA          0\n",
       "dtype: int64"
      ]
     },
     "execution_count": 10,
     "metadata": {},
     "output_type": "execute_result"
    }
   ],
   "source": [
    "grades.isna().sum()"
   ]
  },
  {
   "cell_type": "markdown",
   "id": "04c3cdeb",
   "metadata": {},
   "source": [
    "#  Encoding and Imputing process"
   ]
  },
  {
   "cell_type": "code",
   "execution_count": 11,
   "id": "45f572cf",
   "metadata": {},
   "outputs": [],
   "source": [
    "categorial_data=[]\n",
    "for i in grades.dtypes.index:\n",
    "    if grades.dtypes[i]=='object':\n",
    "        categorial_data.append(i)\n",
    "numerical_data=[]\n",
    "for i in grades.dtypes.index:\n",
    "    if grades.dtypes[i] !='object':\n",
    "        numerical_data.append(i)"
   ]
  },
  {
   "cell_type": "code",
   "execution_count": 12,
   "id": "090e1652",
   "metadata": {},
   "outputs": [
    {
     "data": {
      "text/plain": [
       "['PH-121',\n",
       " 'HS-101',\n",
       " 'CY-105',\n",
       " 'HS-105/12',\n",
       " 'MT-111',\n",
       " 'CS-105',\n",
       " 'CS-106',\n",
       " 'EL-102',\n",
       " 'EE-119',\n",
       " 'ME-107',\n",
       " 'CS-107',\n",
       " 'HS-205/20',\n",
       " 'MT-222',\n",
       " 'EE-222',\n",
       " 'MT-224',\n",
       " 'CS-210',\n",
       " 'CS-211',\n",
       " 'CS-203',\n",
       " 'CS-214',\n",
       " 'EE-217',\n",
       " 'CS-212',\n",
       " 'CS-215',\n",
       " 'MT-331',\n",
       " 'EF-303',\n",
       " 'HS-304',\n",
       " 'CS-301',\n",
       " 'CS-302',\n",
       " 'TC-383',\n",
       " 'MT-442',\n",
       " 'EL-332',\n",
       " 'CS-318',\n",
       " 'CS-306',\n",
       " 'CS-312',\n",
       " 'CS-317',\n",
       " 'CS-403',\n",
       " 'CS-421',\n",
       " 'CS-406',\n",
       " 'CS-414',\n",
       " 'CS-419',\n",
       " 'CS-423',\n",
       " 'CS-412']"
      ]
     },
     "execution_count": 12,
     "metadata": {},
     "output_type": "execute_result"
    }
   ],
   "source": [
    "categorial_data"
   ]
  },
  {
   "cell_type": "code",
   "execution_count": 13,
   "id": "b11f81d7",
   "metadata": {},
   "outputs": [
    {
     "data": {
      "text/plain": [
       "['CGPA']"
      ]
     },
     "execution_count": 13,
     "metadata": {},
     "output_type": "execute_result"
    }
   ],
   "source": [
    "numerical_data"
   ]
  },
  {
   "cell_type": "code",
   "execution_count": 14,
   "id": "bc553165",
   "metadata": {},
   "outputs": [],
   "source": [
    "from sklearn.impute import SimpleImputer\n",
    "\n",
    "imputer = SimpleImputer(strategy='most_frequent')\n",
    "grades = pd.DataFrame(imputer.fit_transform(grades), columns=grades.columns)"
   ]
  },
  {
   "cell_type": "markdown",
   "id": "c482c755",
   "metadata": {},
   "source": [
    "#  we use imputing mode method technique to fill null values \n",
    "# and for encoding we use LabelEncoder techniques"
   ]
  },
  {
   "cell_type": "code",
   "execution_count": 15,
   "id": "58e90627",
   "metadata": {
    "scrolled": true
   },
   "outputs": [
    {
     "data": {
      "text/html": [
       "<div>\n",
       "<style scoped>\n",
       "    .dataframe tbody tr th:only-of-type {\n",
       "        vertical-align: middle;\n",
       "    }\n",
       "\n",
       "    .dataframe tbody tr th {\n",
       "        vertical-align: top;\n",
       "    }\n",
       "\n",
       "    .dataframe thead th {\n",
       "        text-align: right;\n",
       "    }\n",
       "</style>\n",
       "<table border=\"1\" class=\"dataframe\">\n",
       "  <thead>\n",
       "    <tr style=\"text-align: right;\">\n",
       "      <th></th>\n",
       "      <th>PH-121</th>\n",
       "      <th>HS-101</th>\n",
       "      <th>CY-105</th>\n",
       "      <th>HS-105/12</th>\n",
       "      <th>MT-111</th>\n",
       "      <th>CS-105</th>\n",
       "      <th>CS-106</th>\n",
       "      <th>EL-102</th>\n",
       "      <th>EE-119</th>\n",
       "      <th>ME-107</th>\n",
       "      <th>...</th>\n",
       "      <th>CS-312</th>\n",
       "      <th>CS-317</th>\n",
       "      <th>CS-403</th>\n",
       "      <th>CS-421</th>\n",
       "      <th>CS-406</th>\n",
       "      <th>CS-414</th>\n",
       "      <th>CS-419</th>\n",
       "      <th>CS-423</th>\n",
       "      <th>CS-412</th>\n",
       "      <th>CGPA</th>\n",
       "    </tr>\n",
       "  </thead>\n",
       "  <tbody>\n",
       "    <tr>\n",
       "      <th>0</th>\n",
       "      <td>B-</td>\n",
       "      <td>D+</td>\n",
       "      <td>C-</td>\n",
       "      <td>C</td>\n",
       "      <td>C-</td>\n",
       "      <td>D+</td>\n",
       "      <td>D</td>\n",
       "      <td>C-</td>\n",
       "      <td>B-</td>\n",
       "      <td>C-</td>\n",
       "      <td>...</td>\n",
       "      <td>C-</td>\n",
       "      <td>C-</td>\n",
       "      <td>C-</td>\n",
       "      <td>C-</td>\n",
       "      <td>A-</td>\n",
       "      <td>A</td>\n",
       "      <td>C-</td>\n",
       "      <td>B</td>\n",
       "      <td>A-</td>\n",
       "      <td>2.205</td>\n",
       "    </tr>\n",
       "    <tr>\n",
       "      <th>1</th>\n",
       "      <td>A</td>\n",
       "      <td>D</td>\n",
       "      <td>D+</td>\n",
       "      <td>D</td>\n",
       "      <td>B-</td>\n",
       "      <td>C</td>\n",
       "      <td>D</td>\n",
       "      <td>A</td>\n",
       "      <td>D+</td>\n",
       "      <td>D</td>\n",
       "      <td>...</td>\n",
       "      <td>D+</td>\n",
       "      <td>D</td>\n",
       "      <td>C</td>\n",
       "      <td>D</td>\n",
       "      <td>A-</td>\n",
       "      <td>B-</td>\n",
       "      <td>C</td>\n",
       "      <td>C</td>\n",
       "      <td>B</td>\n",
       "      <td>2.008</td>\n",
       "    </tr>\n",
       "    <tr>\n",
       "      <th>2</th>\n",
       "      <td>A</td>\n",
       "      <td>B</td>\n",
       "      <td>A</td>\n",
       "      <td>B-</td>\n",
       "      <td>B+</td>\n",
       "      <td>A</td>\n",
       "      <td>B-</td>\n",
       "      <td>B+</td>\n",
       "      <td>A-</td>\n",
       "      <td>A-</td>\n",
       "      <td>...</td>\n",
       "      <td>B</td>\n",
       "      <td>B</td>\n",
       "      <td>A</td>\n",
       "      <td>C</td>\n",
       "      <td>A</td>\n",
       "      <td>A</td>\n",
       "      <td>A</td>\n",
       "      <td>A-</td>\n",
       "      <td>A</td>\n",
       "      <td>3.608</td>\n",
       "    </tr>\n",
       "    <tr>\n",
       "      <th>3</th>\n",
       "      <td>D</td>\n",
       "      <td>C+</td>\n",
       "      <td>D+</td>\n",
       "      <td>D</td>\n",
       "      <td>D</td>\n",
       "      <td>A-</td>\n",
       "      <td>D+</td>\n",
       "      <td>C-</td>\n",
       "      <td>D</td>\n",
       "      <td>C+</td>\n",
       "      <td>...</td>\n",
       "      <td>D+</td>\n",
       "      <td>C</td>\n",
       "      <td>D+</td>\n",
       "      <td>C-</td>\n",
       "      <td>B-</td>\n",
       "      <td>B</td>\n",
       "      <td>C+</td>\n",
       "      <td>C+</td>\n",
       "      <td>C+</td>\n",
       "      <td>1.906</td>\n",
       "    </tr>\n",
       "    <tr>\n",
       "      <th>4</th>\n",
       "      <td>A-</td>\n",
       "      <td>A-</td>\n",
       "      <td>A-</td>\n",
       "      <td>B+</td>\n",
       "      <td>A</td>\n",
       "      <td>A</td>\n",
       "      <td>A-</td>\n",
       "      <td>B+</td>\n",
       "      <td>A</td>\n",
       "      <td>A-</td>\n",
       "      <td>...</td>\n",
       "      <td>B-</td>\n",
       "      <td>B+</td>\n",
       "      <td>B+</td>\n",
       "      <td>B-</td>\n",
       "      <td>A-</td>\n",
       "      <td>A</td>\n",
       "      <td>A-</td>\n",
       "      <td>A-</td>\n",
       "      <td>A</td>\n",
       "      <td>3.448</td>\n",
       "    </tr>\n",
       "  </tbody>\n",
       "</table>\n",
       "<p>5 rows × 42 columns</p>\n",
       "</div>"
      ],
      "text/plain": [
       "  PH-121 HS-101 CY-105 HS-105/12 MT-111 CS-105 CS-106 EL-102 EE-119 ME-107  \\\n",
       "0     B-     D+     C-         C     C-     D+      D     C-     B-     C-   \n",
       "1      A      D     D+         D     B-      C      D      A     D+      D   \n",
       "2      A      B      A        B-     B+      A     B-     B+     A-     A-   \n",
       "3      D     C+     D+         D      D     A-     D+     C-      D     C+   \n",
       "4     A-     A-     A-        B+      A      A     A-     B+      A     A-   \n",
       "\n",
       "   ... CS-312 CS-317 CS-403 CS-421 CS-406 CS-414 CS-419 CS-423 CS-412   CGPA  \n",
       "0  ...     C-     C-     C-     C-     A-      A     C-      B     A-  2.205  \n",
       "1  ...     D+      D      C      D     A-     B-      C      C      B  2.008  \n",
       "2  ...      B      B      A      C      A      A      A     A-      A  3.608  \n",
       "3  ...     D+      C     D+     C-     B-      B     C+     C+     C+  1.906  \n",
       "4  ...     B-     B+     B+     B-     A-      A     A-     A-      A  3.448  \n",
       "\n",
       "[5 rows x 42 columns]"
      ]
     },
     "execution_count": 15,
     "metadata": {},
     "output_type": "execute_result"
    }
   ],
   "source": [
    "grades.head()"
   ]
  },
  {
   "cell_type": "code",
   "execution_count": 16,
   "id": "66c36d8f",
   "metadata": {
    "scrolled": false
   },
   "outputs": [
    {
     "data": {
      "text/plain": [
       "PH-121       0\n",
       "HS-101       0\n",
       "CY-105       0\n",
       "HS-105/12    0\n",
       "MT-111       0\n",
       "CS-105       0\n",
       "CS-106       0\n",
       "EL-102       0\n",
       "EE-119       0\n",
       "ME-107       0\n",
       "CS-107       0\n",
       "HS-205/20    0\n",
       "MT-222       0\n",
       "EE-222       0\n",
       "MT-224       0\n",
       "CS-210       0\n",
       "CS-211       0\n",
       "CS-203       0\n",
       "CS-214       0\n",
       "EE-217       0\n",
       "CS-212       0\n",
       "CS-215       0\n",
       "MT-331       0\n",
       "EF-303       0\n",
       "HS-304       0\n",
       "CS-301       0\n",
       "CS-302       0\n",
       "TC-383       0\n",
       "MT-442       0\n",
       "EL-332       0\n",
       "CS-318       0\n",
       "CS-306       0\n",
       "CS-312       0\n",
       "CS-317       0\n",
       "CS-403       0\n",
       "CS-421       0\n",
       "CS-406       0\n",
       "CS-414       0\n",
       "CS-419       0\n",
       "CS-423       0\n",
       "CS-412       0\n",
       "CGPA         0\n",
       "dtype: int64"
      ]
     },
     "execution_count": 16,
     "metadata": {},
     "output_type": "execute_result"
    }
   ],
   "source": [
    "grades.isna().sum()"
   ]
  },
  {
   "cell_type": "markdown",
   "id": "64a64b2f",
   "metadata": {},
   "source": [
    "#  There is no null values present in data"
   ]
  },
  {
   "cell_type": "code",
   "execution_count": 17,
   "id": "62f75a5d",
   "metadata": {
    "scrolled": false
   },
   "outputs": [
    {
     "name": "stdout",
     "output_type": "stream",
     "text": [
      "<class 'pandas.core.frame.DataFrame'>\n",
      "RangeIndex: 571 entries, 0 to 570\n",
      "Data columns (total 42 columns):\n",
      " #   Column     Non-Null Count  Dtype \n",
      "---  ------     --------------  ----- \n",
      " 0   PH-121     571 non-null    object\n",
      " 1   HS-101     571 non-null    object\n",
      " 2   CY-105     571 non-null    object\n",
      " 3   HS-105/12  571 non-null    object\n",
      " 4   MT-111     571 non-null    object\n",
      " 5   CS-105     571 non-null    object\n",
      " 6   CS-106     571 non-null    object\n",
      " 7   EL-102     571 non-null    object\n",
      " 8   EE-119     571 non-null    object\n",
      " 9   ME-107     571 non-null    object\n",
      " 10  CS-107     571 non-null    object\n",
      " 11  HS-205/20  571 non-null    object\n",
      " 12  MT-222     571 non-null    object\n",
      " 13  EE-222     571 non-null    object\n",
      " 14  MT-224     571 non-null    object\n",
      " 15  CS-210     571 non-null    object\n",
      " 16  CS-211     571 non-null    object\n",
      " 17  CS-203     571 non-null    object\n",
      " 18  CS-214     571 non-null    object\n",
      " 19  EE-217     571 non-null    object\n",
      " 20  CS-212     571 non-null    object\n",
      " 21  CS-215     571 non-null    object\n",
      " 22  MT-331     571 non-null    object\n",
      " 23  EF-303     571 non-null    object\n",
      " 24  HS-304     571 non-null    object\n",
      " 25  CS-301     571 non-null    object\n",
      " 26  CS-302     571 non-null    object\n",
      " 27  TC-383     571 non-null    object\n",
      " 28  MT-442     571 non-null    object\n",
      " 29  EL-332     571 non-null    object\n",
      " 30  CS-318     571 non-null    object\n",
      " 31  CS-306     571 non-null    object\n",
      " 32  CS-312     571 non-null    object\n",
      " 33  CS-317     571 non-null    object\n",
      " 34  CS-403     571 non-null    object\n",
      " 35  CS-421     571 non-null    object\n",
      " 36  CS-406     571 non-null    object\n",
      " 37  CS-414     571 non-null    object\n",
      " 38  CS-419     571 non-null    object\n",
      " 39  CS-423     571 non-null    object\n",
      " 40  CS-412     571 non-null    object\n",
      " 41  CGPA       571 non-null    object\n",
      "dtypes: object(42)\n",
      "memory usage: 187.5+ KB\n"
     ]
    }
   ],
   "source": [
    "grades.info()"
   ]
  },
  {
   "cell_type": "markdown",
   "id": "57c3f172",
   "metadata": {},
   "source": [
    "#  To use encoding techniques all column is int dtype but the cgpa dtype is changed to object we have to convert float dtype"
   ]
  },
  {
   "cell_type": "code",
   "execution_count": 18,
   "id": "ec4be824",
   "metadata": {},
   "outputs": [
    {
     "name": "stdout",
     "output_type": "stream",
     "text": [
      "float64\n"
     ]
    }
   ],
   "source": [
    "grades['CGPA']=grades['CGPA'].astype(float)\n",
    "print(grades['CGPA'].dtype)"
   ]
  },
  {
   "cell_type": "code",
   "execution_count": 19,
   "id": "5fd46d76",
   "metadata": {},
   "outputs": [
    {
     "data": {
      "text/html": [
       "<div>\n",
       "<style scoped>\n",
       "    .dataframe tbody tr th:only-of-type {\n",
       "        vertical-align: middle;\n",
       "    }\n",
       "\n",
       "    .dataframe tbody tr th {\n",
       "        vertical-align: top;\n",
       "    }\n",
       "\n",
       "    .dataframe thead th {\n",
       "        text-align: right;\n",
       "    }\n",
       "</style>\n",
       "<table border=\"1\" class=\"dataframe\">\n",
       "  <thead>\n",
       "    <tr style=\"text-align: right;\">\n",
       "      <th></th>\n",
       "      <th>CGPA</th>\n",
       "    </tr>\n",
       "  </thead>\n",
       "  <tbody>\n",
       "    <tr>\n",
       "      <th>count</th>\n",
       "      <td>571.000000</td>\n",
       "    </tr>\n",
       "    <tr>\n",
       "      <th>mean</th>\n",
       "      <td>2.954888</td>\n",
       "    </tr>\n",
       "    <tr>\n",
       "      <th>std</th>\n",
       "      <td>0.620552</td>\n",
       "    </tr>\n",
       "    <tr>\n",
       "      <th>min</th>\n",
       "      <td>0.800000</td>\n",
       "    </tr>\n",
       "    <tr>\n",
       "      <th>25%</th>\n",
       "      <td>2.538000</td>\n",
       "    </tr>\n",
       "    <tr>\n",
       "      <th>50%</th>\n",
       "      <td>3.029000</td>\n",
       "    </tr>\n",
       "    <tr>\n",
       "      <th>75%</th>\n",
       "      <td>3.451000</td>\n",
       "    </tr>\n",
       "    <tr>\n",
       "      <th>max</th>\n",
       "      <td>3.985000</td>\n",
       "    </tr>\n",
       "  </tbody>\n",
       "</table>\n",
       "</div>"
      ],
      "text/plain": [
       "             CGPA\n",
       "count  571.000000\n",
       "mean     2.954888\n",
       "std      0.620552\n",
       "min      0.800000\n",
       "25%      2.538000\n",
       "50%      3.029000\n",
       "75%      3.451000\n",
       "max      3.985000"
      ]
     },
     "execution_count": 19,
     "metadata": {},
     "output_type": "execute_result"
    }
   ],
   "source": [
    "grades.describe()"
   ]
  },
  {
   "cell_type": "markdown",
   "id": "a627d855",
   "metadata": {},
   "source": [
    "#  As per statistics information we cannot observed cause all columns is categorical data"
   ]
  },
  {
   "cell_type": "markdown",
   "id": "7bac8060",
   "metadata": {},
   "source": [
    "#  All are the object datatype so only showing target variable statistics"
   ]
  },
  {
   "cell_type": "markdown",
   "id": "70f35bdc",
   "metadata": {},
   "source": [
    "#  EDA"
   ]
  },
  {
   "cell_type": "code",
   "execution_count": 20,
   "id": "dc03675d",
   "metadata": {
    "scrolled": true
   },
   "outputs": [
    {
     "data": {
      "image/png": "[encoded data removed]",
      "text/plain": [
       "<Figure size 432x288 with 1 Axes>"
      ]
     },
     "metadata": {
      "needs_background": "light"
     },
     "output_type": "display_data"
    }
   ],
   "source": [
    "sns.scatterplot(data=grades,x='PH-121',y='CGPA')\n",
    "plt.show()"
   ]
  },
  {
   "cell_type": "markdown",
   "id": "9c7a96e2",
   "metadata": {},
   "source": [
    "#   \n",
    "PH-121 SUBJECT HAS GOT  D RATING HAS LOW CGPA AND A+  RATING HAS HIGH CHANCES TO HIGH CGPA"
   ]
  },
  {
   "cell_type": "code",
   "execution_count": 21,
   "id": "10dd7f9c",
   "metadata": {
    "scrolled": true
   },
   "outputs": [
    {
     "data": {
      "image/png": "[encoded data removed]",
      "text/plain": [
       "<Figure size 432x288 with 1 Axes>"
      ]
     },
     "metadata": {
      "needs_background": "light"
     },
     "output_type": "display_data"
    }
   ],
   "source": [
    "sns.scatterplot(data=grades,x='HS-101',y='CGPA')\n",
    "plt.show()"
   ]
  },
  {
   "cell_type": "markdown",
   "id": "f620e175",
   "metadata": {},
   "source": [
    "# \n",
    "HS-101 SUBJECT HAS GOT D AND C- RATING HAS LOW CGPA AND A+ HAS HIGH CGPA"
   ]
  },
  {
   "cell_type": "code",
   "execution_count": 22,
   "id": "74c60655",
   "metadata": {
    "scrolled": true
   },
   "outputs": [
    {
     "data": {
      "image/png": "[encoded data removed]",
      "text/plain": [
       "<Figure size 432x288 with 1 Axes>"
      ]
     },
     "metadata": {
      "needs_background": "light"
     },
     "output_type": "display_data"
    }
   ],
   "source": [
    "sns.scatterplot(data=grades,x='CY-105',y='CGPA')\n",
    "plt.show()"
   ]
  },
  {
   "cell_type": "markdown",
   "id": "e696645c",
   "metadata": {},
   "source": [
    "# \n",
    "CY-105 SUBJECT HAS GOT D AND F RATING HAS LOW CGPA AND A+ HAS HIGH CGPA"
   ]
  },
  {
   "cell_type": "code",
   "execution_count": 23,
   "id": "5638af65",
   "metadata": {
    "scrolled": true
   },
   "outputs": [
    {
     "data": {
      "image/png": "[encoded data removed]",
      "text/plain": [
       "<Figure size 432x288 with 1 Axes>"
      ]
     },
     "metadata": {
      "needs_background": "light"
     },
     "output_type": "display_data"
    }
   ],
   "source": [
    "sns.scatterplot(data=grades,x='HS-105/12',y='CGPA')\n",
    "plt.show()"
   ]
  },
  {
   "cell_type": "markdown",
   "id": "dd30fd43",
   "metadata": {},
   "source": [
    "# \n",
    "HS-105/12 SUBJECT HAS GOT D AND F RATING HAS LOW CGPA AND A+ HAS HIGH CGPA"
   ]
  },
  {
   "cell_type": "code",
   "execution_count": 24,
   "id": "0bda1951",
   "metadata": {
    "scrolled": true
   },
   "outputs": [
    {
     "data": {
      "image/png": "[encoded data removed]",
      "text/plain": [
       "<Figure size 432x288 with 1 Axes>"
      ]
     },
     "metadata": {
      "needs_background": "light"
     },
     "output_type": "display_data"
    }
   ],
   "source": [
    "sns.scatterplot(data=grades,x='MT-111',y='CGPA')\n",
    "plt.show()"
   ]
  },
  {
   "cell_type": "markdown",
   "id": "fa62d652",
   "metadata": {},
   "source": [
    "#  \n",
    "MT-111  SUBJECT HAS GOT D , F,WU RATING HAS LOW CGPA AND A HAS HIGH CGPA"
   ]
  },
  {
   "cell_type": "code",
   "execution_count": 25,
   "id": "35bb0beb",
   "metadata": {
    "scrolled": true
   },
   "outputs": [
    {
     "data": {
      "image/png": "[encoded data removed]",
      "text/plain": [
       "<Figure size 432x288 with 1 Axes>"
      ]
     },
     "metadata": {
      "needs_background": "light"
     },
     "output_type": "display_data"
    }
   ],
   "source": [
    "sns.scatterplot(data=grades,x='CS-105',y='CGPA')\n",
    "plt.show()"
   ]
  },
  {
   "cell_type": "markdown",
   "id": "4845ed3c",
   "metadata": {},
   "source": [
    "#  \n",
    "MT-111 SUBJECT HAS GOT D  RATING HAS LOW CGPA AND A ,A+ AND A-HAS HIGH CGPA"
   ]
  },
  {
   "cell_type": "code",
   "execution_count": 26,
   "id": "f28eda7a",
   "metadata": {
    "scrolled": true
   },
   "outputs": [
    {
     "data": {
      "image/png": "[encoded data removed]",
      "text/plain": [
       "<Figure size 432x288 with 1 Axes>"
      ]
     },
     "metadata": {
      "needs_background": "light"
     },
     "output_type": "display_data"
    }
   ],
   "source": [
    "sns.scatterplot(data=grades,x='CS-106',y='CGPA')\n",
    "plt.show()"
   ]
  },
  {
   "cell_type": "markdown",
   "id": "821fecba",
   "metadata": {},
   "source": [
    "#  \n",
    "MT-111 SUBJECT HAS GOT WU RATING HAS LOW CGPA AND A ,A+ AND A-HAS HIGH CGPA"
   ]
  },
  {
   "cell_type": "code",
   "execution_count": 27,
   "id": "4ee228e7",
   "metadata": {},
   "outputs": [
    {
     "data": {
      "image/png": "[encoded data removed]",
      "text/plain": [
       "<Figure size 432x288 with 1 Axes>"
      ]
     },
     "metadata": {
      "needs_background": "light"
     },
     "output_type": "display_data"
    }
   ],
   "source": [
    "sns.scatterplot(data=grades,x='EL-102',y='CGPA')\n",
    "plt.show()"
   ]
  },
  {
   "cell_type": "code",
   "execution_count": 28,
   "id": "dcbe0412",
   "metadata": {},
   "outputs": [
    {
     "data": {
      "image/png": "[encoded data removed]",
      "text/plain": [
       "<Figure size 432x288 with 1 Axes>"
      ]
     },
     "metadata": {
      "needs_background": "light"
     },
     "output_type": "display_data"
    }
   ],
   "source": [
    "sns.scatterplot(data=grades,x='EE-119',y='CGPA')\n",
    "plt.show()"
   ]
  },
  {
   "cell_type": "code",
   "execution_count": 29,
   "id": "e95b5efb",
   "metadata": {},
   "outputs": [
    {
     "data": {
      "image/png": "[encoded data removed]",
      "text/plain": [
       "<Figure size 432x288 with 1 Axes>"
      ]
     },
     "metadata": {
      "needs_background": "light"
     },
     "output_type": "display_data"
    }
   ],
   "source": [
    "sns.scatterplot(data=grades,x='ME-107',y='CGPA')\n",
    "plt.show()"
   ]
  },
  {
   "cell_type": "code",
   "execution_count": 30,
   "id": "4ae0be7f",
   "metadata": {},
   "outputs": [
    {
     "data": {
      "image/png": "[encoded data removed]",
      "text/plain": [
       "<Figure size 432x288 with 1 Axes>"
      ]
     },
     "metadata": {
      "needs_background": "light"
     },
     "output_type": "display_data"
    }
   ],
   "source": [
    "sns.scatterplot(data=grades,x='CS-312',y='CGPA')\n",
    "plt.show()"
   ]
  },
  {
   "cell_type": "code",
   "execution_count": 31,
   "id": "b141872f",
   "metadata": {},
   "outputs": [
    {
     "data": {
      "image/png": "[encoded data removed]",
      "text/plain": [
       "<Figure size 432x288 with 1 Axes>"
      ]
     },
     "metadata": {
      "needs_background": "light"
     },
     "output_type": "display_data"
    }
   ],
   "source": [
    "sns.scatterplot(data=grades,x='CS-317',y='CGPA')\n",
    "plt.show()"
   ]
  },
  {
   "cell_type": "code",
   "execution_count": 32,
   "id": "e9adfc13",
   "metadata": {},
   "outputs": [
    {
     "data": {
      "image/png": "[encoded data removed]",
      "text/plain": [
       "<Figure size 432x288 with 1 Axes>"
      ]
     },
     "metadata": {
      "needs_background": "light"
     },
     "output_type": "display_data"
    }
   ],
   "source": [
    "sns.scatterplot(data=grades,x='CS-403',y='CGPA')\n",
    "plt.show()"
   ]
  },
  {
   "cell_type": "code",
   "execution_count": 33,
   "id": "d49af0aa",
   "metadata": {},
   "outputs": [
    {
     "data": {
      "image/png": "[encoded data removed]",
      "text/plain": [
       "<Figure size 432x288 with 1 Axes>"
      ]
     },
     "metadata": {
      "needs_background": "light"
     },
     "output_type": "display_data"
    }
   ],
   "source": [
    "sns.scatterplot(data=grades,x='CS-421',y='CGPA')\n",
    "plt.show()"
   ]
  },
  {
   "cell_type": "code",
   "execution_count": 34,
   "id": "9017cef7",
   "metadata": {},
   "outputs": [
    {
     "data": {
      "image/png": "[encoded data removed]",
      "text/plain": [
       "<Figure size 432x288 with 1 Axes>"
      ]
     },
     "metadata": {
      "needs_background": "light"
     },
     "output_type": "display_data"
    }
   ],
   "source": [
    "sns.scatterplot(data=grades,x='CS-406',y='CGPA')\n",
    "plt.show()"
   ]
  },
  {
   "cell_type": "code",
   "execution_count": 35,
   "id": "095c564d",
   "metadata": {},
   "outputs": [
    {
     "data": {
      "image/png": "[encoded data removed]",
      "text/plain": [
       "<Figure size 432x288 with 1 Axes>"
      ]
     },
     "metadata": {
      "needs_background": "light"
     },
     "output_type": "display_data"
    }
   ],
   "source": [
    "sns.scatterplot(data=grades,x='CS-414',y='CGPA')\n",
    "plt.show()"
   ]
  },
  {
   "cell_type": "code",
   "execution_count": 36,
   "id": "a7b1adf2",
   "metadata": {},
   "outputs": [
    {
     "data": {
      "image/png": "[encoded data removed]",
      "text/plain": [
       "<Figure size 432x288 with 1 Axes>"
      ]
     },
     "metadata": {
      "needs_background": "light"
     },
     "output_type": "display_data"
    }
   ],
   "source": [
    "sns.scatterplot(data=grades,x='CS-419',y='CGPA')\n",
    "plt.show()"
   ]
  },
  {
   "cell_type": "code",
   "execution_count": 37,
   "id": "22c048d9",
   "metadata": {},
   "outputs": [
    {
     "data": {
      "image/png": "[encoded data removed]",
      "text/plain": [
       "<Figure size 432x288 with 1 Axes>"
      ]
     },
     "metadata": {
      "needs_background": "light"
     },
     "output_type": "display_data"
    }
   ],
   "source": [
    "sns.scatterplot(data=grades,x='CS-423',y='CGPA')\n",
    "plt.show()"
   ]
  },
  {
   "cell_type": "code",
   "execution_count": 38,
   "id": "2ff27f2b",
   "metadata": {
    "scrolled": true
   },
   "outputs": [
    {
     "data": {
      "image/png": "[encoded data removed]",
      "text/plain": [
       "<Figure size 432x288 with 1 Axes>"
      ]
     },
     "metadata": {
      "needs_background": "light"
     },
     "output_type": "display_data"
    }
   ],
   "source": [
    "sns.scatterplot(data=grades,x='CS-412',y='CGPA')\n",
    "plt.show()"
   ]
  },
  {
   "cell_type": "markdown",
   "id": "d68c1462",
   "metadata": {},
   "source": [
    "#   ACCORDING TO ALL COLUMN OBSERVATION D , WA AND  HAS LOW CGPA AND A, A+ HAS HIGH CGPA"
   ]
  },
  {
   "cell_type": "code",
   "execution_count": 39,
   "id": "9b2305f8",
   "metadata": {
    "scrolled": true
   },
   "outputs": [
    {
     "data": {
      "text/plain": [
       "<seaborn.axisgrid.PairGrid at 0x2d58eecedf0>"
      ]
     },
     "execution_count": 39,
     "metadata": {},
     "output_type": "execute_result"
    },
    {
     "data": {
      "image/png": "[encoded data removed]",
      "text/plain": [
       "<Figure size 180x180 with 2 Axes>"
      ]
     },
     "metadata": {
      "needs_background": "light"
     },
     "output_type": "display_data"
    }
   ],
   "source": [
    "sns.pairplot(grades)"
   ]
  },
  {
   "cell_type": "markdown",
   "id": "b9753f8f",
   "metadata": {},
   "source": [
    "#  CGPA is normally distrubted like this"
   ]
  },
  {
   "cell_type": "code",
   "execution_count": 40,
   "id": "8ca7ffbb",
   "metadata": {
    "scrolled": true
   },
   "outputs": [
    {
     "data": {
      "text/plain": [
       "<AxesSubplot:>"
      ]
     },
     "execution_count": 40,
     "metadata": {},
     "output_type": "execute_result"
    },
    {
     "data": {
      "image/png": "[encoded data removed]",
      "text/plain": [
       "<Figure size 432x288 with 2 Axes>"
      ]
     },
     "metadata": {
      "needs_background": "light"
     },
     "output_type": "display_data"
    }
   ],
   "source": [
    "sns.heatmap(grades.corr(),annot=True,)"
   ]
  },
  {
   "cell_type": "markdown",
   "id": "fcc0b5af",
   "metadata": {},
   "source": [
    "#  All columns is categorical so  we cannot find any relation  And vif value or any statistics information so we build this model"
   ]
  },
  {
   "cell_type": "markdown",
   "id": "307aa544",
   "metadata": {},
   "source": [
    "#  encoding process"
   ]
  },
  {
   "cell_type": "code",
   "execution_count": 41,
   "id": "ec2dc1be",
   "metadata": {},
   "outputs": [],
   "source": [
    "\n",
    "from sklearn.preprocessing import LabelEncoder\n",
    "\n",
    "label_encoder = LabelEncoder()\n",
    "\n",
    "for column in categorial_data:\n",
    "    \n",
    "     grades[column] = label_encoder.fit_transform(grades[column])"
   ]
  },
  {
   "cell_type": "code",
   "execution_count": 42,
   "id": "e229bbda",
   "metadata": {},
   "outputs": [
    {
     "data": {
      "text/html": [
       "<div>\n",
       "<style scoped>\n",
       "    .dataframe tbody tr th:only-of-type {\n",
       "        vertical-align: middle;\n",
       "    }\n",
       "\n",
       "    .dataframe tbody tr th {\n",
       "        vertical-align: top;\n",
       "    }\n",
       "\n",
       "    .dataframe thead th {\n",
       "        text-align: right;\n",
       "    }\n",
       "</style>\n",
       "<table border=\"1\" class=\"dataframe\">\n",
       "  <thead>\n",
       "    <tr style=\"text-align: right;\">\n",
       "      <th></th>\n",
       "      <th>PH-121</th>\n",
       "      <th>HS-101</th>\n",
       "      <th>CY-105</th>\n",
       "      <th>HS-105/12</th>\n",
       "      <th>MT-111</th>\n",
       "      <th>CS-105</th>\n",
       "      <th>CS-106</th>\n",
       "      <th>EL-102</th>\n",
       "      <th>EE-119</th>\n",
       "      <th>ME-107</th>\n",
       "      <th>...</th>\n",
       "      <th>CS-312</th>\n",
       "      <th>CS-317</th>\n",
       "      <th>CS-403</th>\n",
       "      <th>CS-421</th>\n",
       "      <th>CS-406</th>\n",
       "      <th>CS-414</th>\n",
       "      <th>CS-419</th>\n",
       "      <th>CS-423</th>\n",
       "      <th>CS-412</th>\n",
       "      <th>CGPA</th>\n",
       "    </tr>\n",
       "  </thead>\n",
       "  <tbody>\n",
       "    <tr>\n",
       "      <th>0</th>\n",
       "      <td>5</td>\n",
       "      <td>10</td>\n",
       "      <td>8</td>\n",
       "      <td>6</td>\n",
       "      <td>8</td>\n",
       "      <td>10</td>\n",
       "      <td>9</td>\n",
       "      <td>8</td>\n",
       "      <td>5</td>\n",
       "      <td>8</td>\n",
       "      <td>...</td>\n",
       "      <td>8</td>\n",
       "      <td>8</td>\n",
       "      <td>8</td>\n",
       "      <td>8</td>\n",
       "      <td>2</td>\n",
       "      <td>0</td>\n",
       "      <td>8</td>\n",
       "      <td>3</td>\n",
       "      <td>2</td>\n",
       "      <td>2.205</td>\n",
       "    </tr>\n",
       "    <tr>\n",
       "      <th>1</th>\n",
       "      <td>0</td>\n",
       "      <td>9</td>\n",
       "      <td>10</td>\n",
       "      <td>9</td>\n",
       "      <td>5</td>\n",
       "      <td>6</td>\n",
       "      <td>9</td>\n",
       "      <td>0</td>\n",
       "      <td>10</td>\n",
       "      <td>9</td>\n",
       "      <td>...</td>\n",
       "      <td>10</td>\n",
       "      <td>9</td>\n",
       "      <td>6</td>\n",
       "      <td>9</td>\n",
       "      <td>2</td>\n",
       "      <td>5</td>\n",
       "      <td>6</td>\n",
       "      <td>6</td>\n",
       "      <td>3</td>\n",
       "      <td>2.008</td>\n",
       "    </tr>\n",
       "    <tr>\n",
       "      <th>2</th>\n",
       "      <td>0</td>\n",
       "      <td>3</td>\n",
       "      <td>0</td>\n",
       "      <td>5</td>\n",
       "      <td>4</td>\n",
       "      <td>0</td>\n",
       "      <td>5</td>\n",
       "      <td>4</td>\n",
       "      <td>2</td>\n",
       "      <td>2</td>\n",
       "      <td>...</td>\n",
       "      <td>3</td>\n",
       "      <td>3</td>\n",
       "      <td>0</td>\n",
       "      <td>6</td>\n",
       "      <td>0</td>\n",
       "      <td>0</td>\n",
       "      <td>0</td>\n",
       "      <td>2</td>\n",
       "      <td>0</td>\n",
       "      <td>3.608</td>\n",
       "    </tr>\n",
       "    <tr>\n",
       "      <th>3</th>\n",
       "      <td>9</td>\n",
       "      <td>7</td>\n",
       "      <td>10</td>\n",
       "      <td>9</td>\n",
       "      <td>9</td>\n",
       "      <td>2</td>\n",
       "      <td>10</td>\n",
       "      <td>8</td>\n",
       "      <td>9</td>\n",
       "      <td>7</td>\n",
       "      <td>...</td>\n",
       "      <td>10</td>\n",
       "      <td>6</td>\n",
       "      <td>10</td>\n",
       "      <td>8</td>\n",
       "      <td>5</td>\n",
       "      <td>3</td>\n",
       "      <td>7</td>\n",
       "      <td>7</td>\n",
       "      <td>7</td>\n",
       "      <td>1.906</td>\n",
       "    </tr>\n",
       "    <tr>\n",
       "      <th>4</th>\n",
       "      <td>2</td>\n",
       "      <td>2</td>\n",
       "      <td>2</td>\n",
       "      <td>4</td>\n",
       "      <td>0</td>\n",
       "      <td>0</td>\n",
       "      <td>2</td>\n",
       "      <td>4</td>\n",
       "      <td>0</td>\n",
       "      <td>2</td>\n",
       "      <td>...</td>\n",
       "      <td>5</td>\n",
       "      <td>4</td>\n",
       "      <td>4</td>\n",
       "      <td>5</td>\n",
       "      <td>2</td>\n",
       "      <td>0</td>\n",
       "      <td>2</td>\n",
       "      <td>2</td>\n",
       "      <td>0</td>\n",
       "      <td>3.448</td>\n",
       "    </tr>\n",
       "  </tbody>\n",
       "</table>\n",
       "<p>5 rows × 42 columns</p>\n",
       "</div>"
      ],
      "text/plain": [
       "   PH-121  HS-101  CY-105  HS-105/12  MT-111  CS-105  CS-106  EL-102  EE-119  \\\n",
       "0       5      10       8          6       8      10       9       8       5   \n",
       "1       0       9      10          9       5       6       9       0      10   \n",
       "2       0       3       0          5       4       0       5       4       2   \n",
       "3       9       7      10          9       9       2      10       8       9   \n",
       "4       2       2       2          4       0       0       2       4       0   \n",
       "\n",
       "   ME-107  ...  CS-312  CS-317  CS-403  CS-421  CS-406  CS-414  CS-419  \\\n",
       "0       8  ...       8       8       8       8       2       0       8   \n",
       "1       9  ...      10       9       6       9       2       5       6   \n",
       "2       2  ...       3       3       0       6       0       0       0   \n",
       "3       7  ...      10       6      10       8       5       3       7   \n",
       "4       2  ...       5       4       4       5       2       0       2   \n",
       "\n",
       "   CS-423  CS-412   CGPA  \n",
       "0       3       2  2.205  \n",
       "1       6       3  2.008  \n",
       "2       2       0  3.608  \n",
       "3       7       7  1.906  \n",
       "4       2       0  3.448  \n",
       "\n",
       "[5 rows x 42 columns]"
      ]
     },
     "execution_count": 42,
     "metadata": {},
     "output_type": "execute_result"
    }
   ],
   "source": [
    "grades.head()"
   ]
  },
  {
   "cell_type": "code",
   "execution_count": 45,
   "id": "10fc5449",
   "metadata": {},
   "outputs": [],
   "source": [
    "x= grades.drop('CGPA',axis=1)\n",
    "y=grades['CGPA']"
   ]
  },
  {
   "cell_type": "code",
   "execution_count": 46,
   "id": "0ea175ae",
   "metadata": {},
   "outputs": [],
   "source": [
    "# import libraryies\n",
    "from sklearn.model_selection import train_test_split\n",
    "from sklearn.metrics import mean_absolute_error\n",
    "from sklearn.metrics import mean_squared_error\n",
    "from sklearn.metrics import r2_score \n",
    "from sklearn.ensemble import GradientBoostingRegressor\n",
    "from sklearn.linear_model import LinearRegression\n",
    "from sklearn.ensemble import RandomForestRegressor\n",
    "from sklearn.tree import DecisionTreeRegressor\n",
    "from sklearn.neighbors import KNeighborsRegressor as KNN\n",
    "from sklearn.linear_model import Lasso, Ridge"
   ]
  },
  {
   "cell_type": "code",
   "execution_count": 47,
   "id": "3894b8b2",
   "metadata": {},
   "outputs": [
    {
     "name": "stdout",
     "output_type": "stream",
     "text": [
      "Best accuracy is 0.9643494726169242 at random_state 72\n"
     ]
    }
   ],
   "source": [
    "maxAccu = 0\n",
    "maxRs = 0\n",
    "\n",
    "for i in range(1, 500):\n",
    "    x_train, x_test, y_train, y_test = train_test_split(x, y, test_size=0.30, random_state=i)\n",
    "    lr = LinearRegression()\n",
    "    lr.fit(x_train, y_train)\n",
    "    y_pred = lr.predict(x_test)\n",
    "    acc = r2_score(y_test, y_pred)\n",
    "    if acc > maxAccu:\n",
    "        maxAccu = acc\n",
    "        maxRs = i\n",
    "\n",
    "print('Best accuracy is', maxAccu, 'at random_state', maxRs)\n"
   ]
  },
  {
   "cell_type": "code",
   "execution_count": 48,
   "id": "c78a6861",
   "metadata": {},
   "outputs": [],
   "source": [
    "x_train, x_test, y_train, y_test = train_test_split(x,y, test_size = 0.30, random_state = maxRs)"
   ]
  },
  {
   "cell_type": "code",
   "execution_count": 49,
   "id": "6c265b3e",
   "metadata": {},
   "outputs": [],
   "source": [
    "from sklearn.ensemble import GradientBoostingRegressor\n",
    "from sklearn.linear_model import LinearRegression\n",
    "from sklearn.ensemble import RandomForestRegressor\n",
    "from sklearn.tree import DecisionTreeRegressor\n",
    "from sklearn.neighbors import KNeighborsRegressor as KNN\n",
    "from sklearn.linear_model import Lasso, Ridge"
   ]
  },
  {
   "cell_type": "code",
   "execution_count": 50,
   "id": "a8affc22",
   "metadata": {},
   "outputs": [
    {
     "name": "stdout",
     "output_type": "stream",
     "text": [
      "R2_score :  0.9643494726169242\n",
      "R2_score on training data:  91.39022616556755\n",
      "MEAN ABSOLUTE ERROR : 0.08938340774408551\n",
      "MEAN SQUARED ERROR : 0.013741931476875207\n",
      "ROOT MEAN SQUARED ERROR : 0.1172259846487766\n"
     ]
    }
   ],
   "source": [
    "LR= LinearRegression()\n",
    "LR.fit(x_train,y_train)\n",
    "pred_LR= LR.predict(x_test)\n",
    "pred_train= LR.predict(x_train)\n",
    "print('R2_score : ',r2_score(y_test,pred_LR) )\n",
    "print('R2_score on training data: ',r2_score(y_train,pred_train)*100)\n",
    "print('MEAN ABSOLUTE ERROR :', mean_absolute_error(y_test, pred_LR))\n",
    "print ('MEAN SQUARED ERROR :', mean_squared_error(y_test, pred_LR))\n",
    "print ('ROOT MEAN SQUARED ERROR :', np.sqrt (mean_squared_error(y_test, pred_LR)))"
   ]
  },
  {
   "cell_type": "code",
   "execution_count": 51,
   "id": "8a41649b",
   "metadata": {},
   "outputs": [
    {
     "name": "stdout",
     "output_type": "stream",
     "text": [
      "R2_score :  0.9663584308841972\n",
      "R2_score on training data:  99.53002375042729\n",
      "MEAN ABSOLUTE ERROR : 0.08347149897365076\n",
      "MEAN SQUARED ERROR : 0.01296755396060115\n",
      "ROOT MEAN SQUARED ERROR : 0.11387516832304201\n"
     ]
    }
   ],
   "source": [
    "GB= GradientBoostingRegressor()\n",
    "GB.fit(x_train,y_train)\n",
    "pred_GB= GB.predict(x_test)\n",
    "pred_train= GB.predict(x_train)\n",
    "print('R2_score : ',r2_score(y_test,pred_GB) )\n",
    "print('R2_score on training data: ',r2_score(y_train,pred_train)*100)\n",
    "print('MEAN ABSOLUTE ERROR :', mean_absolute_error(y_test, pred_GB))\n",
    "print ('MEAN SQUARED ERROR :', mean_squared_error(y_test, pred_GB))\n",
    "print ('ROOT MEAN SQUARED ERROR :', np.sqrt (mean_squared_error(y_test, pred_GB)))"
   ]
  },
  {
   "cell_type": "code",
   "execution_count": 52,
   "id": "a367d3de",
   "metadata": {},
   "outputs": [
    {
     "name": "stdout",
     "output_type": "stream",
     "text": [
      "R2_score :  0.9392509302911252\n",
      "R2_score on training data:  98.36887304200673\n",
      "MEAN ABSOLUTE ERROR : 0.11090017441860456\n",
      "MEAN SQUARED ERROR : 0.02341647135406975\n",
      "ROOT MEAN SQUARED ERROR : 0.1530244142418776\n"
     ]
    }
   ],
   "source": [
    "RFR= RandomForestRegressor()\n",
    "RFR.fit(x_train,y_train)\n",
    "pred_RFR= RFR.predict(x_test)\n",
    "pred_train= RFR.predict(x_train)\n",
    "print('R2_score : ',r2_score(y_test,pred_RFR) )\n",
    "print('R2_score on training data: ',r2_score(y_train,pred_train)*100)\n",
    "print('MEAN ABSOLUTE ERROR :', mean_absolute_error(y_test, pred_RFR))\n",
    "print ('MEAN SQUARED ERROR :', mean_squared_error(y_test, pred_RFR))\n",
    "print ('ROOT MEAN SQUARED ERROR :', np.sqrt (mean_squared_error(y_test, pred_RFR)))"
   ]
  },
  {
   "cell_type": "code",
   "execution_count": 53,
   "id": "55ff0bfc",
   "metadata": {},
   "outputs": [
    {
     "name": "stdout",
     "output_type": "stream",
     "text": [
      "R2_score :  0.9643494726169242\n",
      "R2_score on training data:  100.0\n",
      "MEAN ABSOLUTE ERROR : 0.08938340774408551\n",
      "MEAN SQUARED ERROR : 0.013741931476875207\n",
      "ROOT MEAN SQUARED ERROR : 0.1172259846487766\n"
     ]
    }
   ],
   "source": [
    "DTR= DecisionTreeRegressor()\n",
    "DTR.fit(x_train,y_train)\n",
    "pred_DTR= DTR.predict(x_test)\n",
    "pred_train= DTR.predict(x_train)\n",
    "print('R2_score : ',r2_score(y_test,pred_LR) )\n",
    "print('R2_score on training data: ',r2_score(y_train,pred_train)*100)\n",
    "print('MEAN ABSOLUTE ERROR :', mean_absolute_error(y_test, pred_LR))\n",
    "print ('MEAN SQUARED ERROR :', mean_squared_error(y_test, pred_LR))\n",
    "print ('ROOT MEAN SQUARED ERROR :', np.sqrt (mean_squared_error(y_test, pred_LR)))"
   ]
  },
  {
   "cell_type": "code",
   "execution_count": 54,
   "id": "80b46ed0",
   "metadata": {},
   "outputs": [
    {
     "name": "stdout",
     "output_type": "stream",
     "text": [
      "R2_score :  0.9678399340351564\n",
      "R2_score on training data:  91.42712169240713\n",
      "MEAN ABSOLUTE ERROR : 0.08414302325581392\n",
      "MEAN SQUARED ERROR : 0.012396490465116273\n",
      "ROOT MEAN SQUARED ERROR : 0.11133952786461901\n"
     ]
    }
   ],
   "source": [
    "knn= KNN()\n",
    "knn.fit(x_train,y_train)\n",
    "pred_knn= knn.predict(x_test)\n",
    "pred_train= knn.predict(x_train)\n",
    "print('R2_score : ',r2_score(y_test,pred_knn) )\n",
    "print('R2_score on training data: ',r2_score(y_train,pred_train)*100)\n",
    "print('MEAN ABSOLUTE ERROR :', mean_absolute_error(y_test, pred_knn))\n",
    "print ('MEAN SQUARED ERROR :', mean_squared_error(y_test, pred_knn))\n",
    "print ('ROOT MEAN SQUARED ERROR :', np.sqrt (mean_squared_error(y_test, pred_knn)))"
   ]
  },
  {
   "cell_type": "code",
   "execution_count": 55,
   "id": "3fe51d73",
   "metadata": {},
   "outputs": [
    {
     "name": "stdout",
     "output_type": "stream",
     "text": [
      "R2_score :  0.350609991970284\n",
      "R2_score on training data:  33.484914041131695\n",
      "MEAN ABSOLUTE ERROR : 0.4242155056363917\n",
      "MEAN SQUARED ERROR : 0.2503153150084445\n",
      "ROOT MEAN SQUARED ERROR : 0.50031521564754\n"
     ]
    }
   ],
   "source": [
    "LA= Lasso()\n",
    "LA.fit(x_train,y_train)\n",
    "pred_LA= LA.predict(x_test)\n",
    "pred_train= LA.predict(x_train)\n",
    "print('R2_score : ',r2_score(y_test,pred_LA) )\n",
    "print('R2_score on training data: ',r2_score(y_train,pred_train)*100)\n",
    "print('MEAN ABSOLUTE ERROR :', mean_absolute_error(y_test, pred_LA))\n",
    "print ('MEAN SQUARED ERROR :', mean_squared_error(y_test, pred_LA))\n",
    "print ('ROOT MEAN SQUARED ERROR :', np.sqrt (mean_squared_error(y_test, pred_LA)))"
   ]
  },
  {
   "cell_type": "code",
   "execution_count": 56,
   "id": "7121e239",
   "metadata": {},
   "outputs": [
    {
     "name": "stdout",
     "output_type": "stream",
     "text": [
      "R2_score :  0.9643771003828862\n",
      "R2_score on training data:  91.42712169240713\n",
      "MEAN ABSOLUTE ERROR : 0.08935085255469434\n",
      "MEAN SQUARED ERROR : 0.013731282016836958\n",
      "ROOT MEAN SQUARED ERROR : 0.11718055306592881\n"
     ]
    }
   ],
   "source": [
    "RI= Ridge()\n",
    "RI.fit(x_train,y_train)\n",
    "pred_RI= RI.predict(x_test)\n",
    "pred_train= knn.predict(x_train)\n",
    "print('R2_score : ',r2_score(y_test,pred_RI) )\n",
    "print('R2_score on training data: ',r2_score(y_train,pred_train)*100)\n",
    "print('MEAN ABSOLUTE ERROR :', mean_absolute_error(y_test, pred_RI))\n",
    "print ('MEAN SQUARED ERROR :', mean_squared_error(y_test, pred_RI))\n",
    "print ('ROOT MEAN SQUARED ERROR :', np.sqrt (mean_squared_error(y_test, pred_RI)))"
   ]
  },
  {
   "cell_type": "markdown",
   "id": "2fbdad90",
   "metadata": {},
   "source": [
    "#  CROSS VALIDATION SCORE"
   ]
  },
  {
   "cell_type": "code",
   "execution_count": 57,
   "id": "3877ab0f",
   "metadata": {},
   "outputs": [],
   "source": [
    "from sklearn.model_selection import cross_val_score"
   ]
  },
  {
   "cell_type": "code",
   "execution_count": 58,
   "id": "5a81ba60",
   "metadata": {},
   "outputs": [
    {
     "name": "stdout",
     "output_type": "stream",
     "text": [
      "LinearRegression \n",
      "\n",
      "\n",
      "[0.8927601  0.93427094 0.90082619 0.94061762 0.84878197]\n",
      "0.9034513625626616\n",
      "Difference between Accuracy score  and cross validation score is -  0.0608981100542626\n"
     ]
    }
   ],
   "source": [
    "print('LinearRegression ')\n",
    "print('\\n')\n",
    "score=cross_val_score(LR, x, y)\n",
    "print(score)\n",
    "print(score.mean())\n",
    "print('Difference between Accuracy score  and cross validation score is - ', (r2_score(y_test,pred_LR)- score.mean()))"
   ]
  },
  {
   "cell_type": "code",
   "execution_count": 60,
   "id": "7fedfd82",
   "metadata": {},
   "outputs": [
    {
     "name": "stdout",
     "output_type": "stream",
     "text": [
      "GradientBoostingRegressor \n",
      "\n",
      "\n",
      "[0.92060606 0.95755995 0.95596656 0.94564187 0.87428369]\n",
      "0.9308116262064432\n",
      "Difference between Accuracy score  and cross validation score is -  0.03554680467775395\n"
     ]
    }
   ],
   "source": [
    "print('GradientBoostingRegressor ')\n",
    "print('\\n')\n",
    "score=cross_val_score(GB, x, y)\n",
    "print(score)\n",
    "print(score.mean())\n",
    "print('Difference between Accuracy score  and cross validation score is - ', r2_score(y_test,pred_GB)- score.mean())"
   ]
  },
  {
   "cell_type": "code",
   "execution_count": 61,
   "id": "0b7326ee",
   "metadata": {},
   "outputs": [
    {
     "name": "stdout",
     "output_type": "stream",
     "text": [
      "RandomForestRegressor \n",
      "\n",
      "\n",
      "[0.91098471 0.92460874 0.93596554 0.91321975 0.84383909]\n",
      "0.905723565691018\n",
      "Difference between Accuracy score  and cross validation score is -  0.03352736460010719\n"
     ]
    }
   ],
   "source": [
    "print('RandomForestRegressor ')\n",
    "print('\\n')\n",
    "score=cross_val_score(RFR, x, y)\n",
    "print(score)\n",
    "print(score.mean())\n",
    "print('Difference between Accuracy score  and cross validation score is - ', r2_score(y_test,pred_RFR)- score.mean())"
   ]
  },
  {
   "cell_type": "code",
   "execution_count": 62,
   "id": "63954446",
   "metadata": {},
   "outputs": [
    {
     "name": "stdout",
     "output_type": "stream",
     "text": [
      "DecisionTreeRegressor \n",
      "\n",
      "\n",
      "[0.76422058 0.8017454  0.87087732 0.72205303 0.72467256]\n",
      "0.7767137784719912\n",
      "Difference between Accuracy score  and cross validation score is -  0.09194574794742727\n"
     ]
    }
   ],
   "source": [
    "print('DecisionTreeRegressor ')\n",
    "print('\\n')\n",
    "score=cross_val_score(DTR, x, y)\n",
    "print(score)\n",
    "print(score.mean())\n",
    "print('Difference between Accuracy score  and cross validation score is - ', r2_score(y_test,pred_DTR)- score.mean())"
   ]
  },
  {
   "cell_type": "code",
   "execution_count": 63,
   "id": "10fcf0f5",
   "metadata": {},
   "outputs": [
    {
     "name": "stdout",
     "output_type": "stream",
     "text": [
      "KNN \n",
      "\n",
      "\n",
      "[0.88704165 0.93105804 0.86498494 0.95195617 0.81245731]\n",
      "0.8894996210901137\n",
      "Difference between Accuracy score  and cross validation score is -  0.07834031294504273\n"
     ]
    }
   ],
   "source": [
    "print('KNN ')\n",
    "print('\\n')\n",
    "score=cross_val_score(knn, x, y)\n",
    "print(score)\n",
    "print(score.mean())\n",
    "print('Difference between Accuracy score  and cross validation score is - ', r2_score(y_test,pred_knn)- score.mean())"
   ]
  },
  {
   "cell_type": "code",
   "execution_count": 64,
   "id": "ad339e09",
   "metadata": {},
   "outputs": [
    {
     "name": "stdout",
     "output_type": "stream",
     "text": [
      "Lasso \n",
      "\n",
      "\n",
      "[0.34542541 0.3341994  0.3340023  0.37377257 0.28984562]\n",
      "0.33544905937176195\n",
      "Difference between Accuracy score  and cross validation score is -  0.015160932598522026\n"
     ]
    }
   ],
   "source": [
    "print('Lasso ')\n",
    "print('\\n')\n",
    "score=cross_val_score(LA, x, y)\n",
    "print(score)\n",
    "print(score.mean())\n",
    "print('Difference between Accuracy score  and cross validation score is - ', r2_score(y_test,pred_LA)- score.mean())"
   ]
  },
  {
   "cell_type": "code",
   "execution_count": 65,
   "id": "b26cfcfb",
   "metadata": {},
   "outputs": [
    {
     "name": "stdout",
     "output_type": "stream",
     "text": [
      "Ridge \n",
      "\n",
      "\n",
      "[0.89277522 0.93427636 0.90085156 0.94066429 0.84879596]\n",
      "0.9034726777742446\n",
      "Difference between Accuracy score  and cross validation score is -  0.060904422608641595\n"
     ]
    }
   ],
   "source": [
    "print('Ridge ')\n",
    "print('\\n')\n",
    "score=cross_val_score(RI, x, y)\n",
    "print(score)\n",
    "print(score.mean())\n",
    "print('Difference between Accuracy score  and cross validation score is - ', r2_score(y_test,pred_RI)- score.mean())"
   ]
  },
  {
   "cell_type": "markdown",
   "id": "17ad955a",
   "metadata": {},
   "source": [
    "#  CROSS VALIDATION SCORE"
   ]
  },
  {
   "cell_type": "code",
   "execution_count": 67,
   "id": "774ab8de",
   "metadata": {},
   "outputs": [],
   "source": [
    "from sklearn.model_selection import GridSearchCV"
   ]
  },
  {
   "cell_type": "code",
   "execution_count": null,
   "id": "3a8538d4",
   "metadata": {},
   "outputs": [],
   "source": [
    "params = {'loss': ['ls', 'lad', 'huber', 'quantile'],\n",
    "          'learning_rate': [0.1, 0.01, 0.001],\n",
    "          'n_estimators': [100, 200, 500],\n",
    "          'subsample': [0.8, 1.0],\n",
    "          'criterion': ['friedman_mse', 'mse', 'mae'],\n",
    "          'min_samples_split': [2, 4, 8],\n",
    "          'min_samples_leaf': [1, 2, 4],\n",
    "          'max_depth': [3, 5, 8],\n",
    "          'min_impurity_decrease': [0.0, 0.1, 0.2],\n",
    "          'max_features': ['auto', 'sqrt', 'log2'],\n",
    "          'alpha': [0.9, 0.5, 0.1],\n",
    "          'max_leaf_nodes': [None, 10, 50],\n",
    "          'ccp_alpha': [0.0, 0.1, 0.2]}\n",
    "\n",
    "gdsv = GridSearchCV(GradientBoostingRegressor(), params, cv=5)\n",
    "gdsv.fit(x_train, y_train)\n"
   ]
  },
  {
   "cell_type": "code",
   "execution_count": null,
   "id": "d9eb0ee3",
   "metadata": {},
   "outputs": [],
   "source": [
    "params = {'alpha': [1.0, 0.05, 0.4, 2],\n",
    "          'random_state': [1, 4, 10, 20]}\n",
    "\n",
    "gdsv = GridSearchCV(GradientBoostingRegressor(), params, cv=5)\n",
    "gdsv.fit(x_train, y_train)\n"
   ]
  },
  {
   "cell_type": "code",
   "execution_count": 77,
   "id": "b0a519cd",
   "metadata": {},
   "outputs": [
    {
     "data": {
      "text/plain": [
       "{'alpha': 0.05, 'random_state': 1}"
      ]
     },
     "execution_count": 77,
     "metadata": {},
     "output_type": "execute_result"
    }
   ],
   "source": [
    "gdsv.best_params_"
   ]
  },
  {
   "cell_type": "code",
   "execution_count": 78,
   "id": "20ab6e72",
   "metadata": {},
   "outputs": [
    {
     "name": "stdout",
     "output_type": "stream",
     "text": [
      "96.67154689052437\n"
     ]
    }
   ],
   "source": [
    "Final_model = GradientBoostingRegressor(alpha=0.05, random_state=1)\n",
    "Final_model.fit(x_train, y_train)\n",
    "pred = Final_model.predict(x_test)\n",
    "acc= r2_score(y_test, pred)\n",
    "print(acc*100)"
   ]
  },
  {
   "cell_type": "markdown",
   "id": "45220d35",
   "metadata": {},
   "source": [
    "#  After  cross validation techniques it increase 0.4 per"
   ]
  },
  {
   "cell_type": "code",
   "execution_count": null,
   "id": "802e09ec",
   "metadata": {},
   "outputs": [],
   "source": []
  }
 ],
 "metadata": {
  "kernelspec": {
   "display_name": "Python 3 (ipykernel)",
   "language": "python",
   "name": "python3"
  },
  "language_info": {
   "codemirror_mode": {
    "name": "ipython",
    "version": 3
   },
   "file_extension": ".py",
   "mimetype": "text/x-python",
   "name": "python",
   "nbconvert_exporter": "python",
   "pygments_lexer": "ipython3",
   "version": "3.9.12"
  }
 },
 "nbformat": 4,
 "nbformat_minor": 5
}
