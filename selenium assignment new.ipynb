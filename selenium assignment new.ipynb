{
 "cells": [
  {
   "cell_type": "code",
   "execution_count": 1,
   "id": "4ba1f96f",
   "metadata": {},
   "outputs": [
    {
     "name": "stdout",
     "output_type": "stream",
     "text": [
      "Requirement already satisfied: selenium in c:\\users\\subham\\anaconda3\\lib\\site-packages (4.15.2)\n",
      "Requirement already satisfied: certifi>=2021.10.8 in c:\\users\\subham\\anaconda3\\lib\\site-packages (from selenium) (2021.10.8)\n",
      "Requirement already satisfied: urllib3[socks]<3,>=1.26 in c:\\users\\subham\\anaconda3\\lib\\site-packages (from selenium) (1.26.9)\n",
      "Requirement already satisfied: trio-websocket~=0.9 in c:\\users\\subham\\anaconda3\\lib\\site-packages (from selenium) (0.11.1)\n",
      "Requirement already satisfied: trio~=0.17 in c:\\users\\subham\\anaconda3\\lib\\site-packages (from selenium) (0.23.1)\n",
      "Requirement already satisfied: sortedcontainers in c:\\users\\subham\\anaconda3\\lib\\site-packages (from trio~=0.17->selenium) (2.4.0)\n",
      "Requirement already satisfied: sniffio>=1.3.0 in c:\\users\\subham\\anaconda3\\lib\\site-packages (from trio~=0.17->selenium) (1.3.0)\n",
      "Requirement already satisfied: idna in c:\\users\\subham\\anaconda3\\lib\\site-packages (from trio~=0.17->selenium) (3.3)\n",
      "Requirement already satisfied: exceptiongroup>=1.0.0rc9 in c:\\users\\subham\\anaconda3\\lib\\site-packages (from trio~=0.17->selenium) (1.2.0)\n",
      "Requirement already satisfied: cffi>=1.14 in c:\\users\\subham\\anaconda3\\lib\\site-packages (from trio~=0.17->selenium) (1.15.0)\n",
      "Requirement already satisfied: outcome in c:\\users\\subham\\anaconda3\\lib\\site-packages (from trio~=0.17->selenium) (1.3.0.post0)\n",
      "Requirement already satisfied: attrs>=20.1.0 in c:\\users\\subham\\anaconda3\\lib\\site-packages (from trio~=0.17->selenium) (21.4.0)\n",
      "Requirement already satisfied: wsproto>=0.14 in c:\\users\\subham\\anaconda3\\lib\\site-packages (from trio-websocket~=0.9->selenium) (1.2.0)\n",
      "Requirement already satisfied: PySocks!=1.5.7,<2.0,>=1.5.6 in c:\\users\\subham\\anaconda3\\lib\\site-packages (from urllib3[socks]<3,>=1.26->selenium) (1.7.1)\n",
      "Requirement already satisfied: pycparser in c:\\users\\subham\\anaconda3\\lib\\site-packages (from cffi>=1.14->trio~=0.17->selenium) (2.21)\n",
      "Requirement already satisfied: h11<1,>=0.9.0 in c:\\users\\subham\\anaconda3\\lib\\site-packages (from wsproto>=0.14->trio-websocket~=0.9->selenium) (0.14.0)\n"
     ]
    },
    {
     "name": "stderr",
     "output_type": "stream",
     "text": [
      "\n",
      "[notice] A new release of pip available: 22.2.2 -> 23.3.1\n",
      "[notice] To update, run: python.exe -m pip install --upgrade pip\n"
     ]
    }
   ],
   "source": [
    "!pip install selenium"
   ]
  },
  {
   "cell_type": "code",
   "execution_count": 2,
   "id": "684d34dc",
   "metadata": {},
   "outputs": [],
   "source": [
    "import selenium\n",
    "import pandas as pa\n",
    "from selenium import webdriver\n",
    "import warnings\n",
    "warnings.filterwarnings ('ignore')\n",
    "from selenium.webdriver.common.by import By\n",
    "import time"
   ]
  },
  {
   "cell_type": "code",
   "execution_count": 3,
   "id": "a6caff51",
   "metadata": {},
   "outputs": [],
   "source": [
    "driver = webdriver.Chrome()"
   ]
  },
  {
   "cell_type": "code",
   "execution_count": 4,
   "id": "ed217f13",
   "metadata": {},
   "outputs": [],
   "source": [
    "#Opening the naukri page on automated chrome browser\n",
    "driver.get (\"https://www.naukri.com/\")"
   ]
  },
  {
   "cell_type": "code",
   "execution_count": 5,
   "id": "24fd6994",
   "metadata": {},
   "outputs": [],
   "source": [
    "# entering designation and location as required in the question-]\n",
    "designation=driver.find_element (By.CLASS_NAME,\"suggestor-input \")\n",
    "designation. send_keys('Data Scientist')"
   ]
  },
  {
   "cell_type": "code",
   "execution_count": 6,
   "id": "96f87b90",
   "metadata": {},
   "outputs": [],
   "source": [
    "location=driver.find_element (By.XPATH,\"/html/body/div[1]/div[7]/div/div/div[5]/div/div/div/div[1]/div/input\")\n",
    "location. send_keys ('Bangalore')"
   ]
  },
  {
   "cell_type": "code",
   "execution_count": 7,
   "id": "3b22babf",
   "metadata": {},
   "outputs": [],
   "source": [
    "search=driver.find_element(By.CLASS_NAME, \"qsbSubmit\")\n",
    "search.click()"
   ]
  },
  {
   "cell_type": "code",
   "execution_count": 17,
   "id": "9dd1911a",
   "metadata": {},
   "outputs": [],
   "source": [
    "job_title=[]\n",
    "job_location=[]\n",
    "company_name=[]\n",
    "experience_required=[]"
   ]
  },
  {
   "cell_type": "code",
   "execution_count": 18,
   "id": "8883b508",
   "metadata": {},
   "outputs": [],
   "source": [
    "title_tags=driver.find_elements(By.XPATH,'//div[@class=\"cust-job-tuple layout-wrapper lay-2 sjw__tuple \"]/div/a')\n",
    "for i in title_tags:\n",
    "    title=i. text\n",
    "    job_title.append (title)\n",
    "\n"
   ]
  },
  {
   "cell_type": "code",
   "execution_count": 19,
   "id": "8827bd5b",
   "metadata": {},
   "outputs": [],
   "source": [
    "# scraping Job Location from the given page\n",
    "location_tags=driver.find_elements (By.XPATH,' //span[@class=\"ni-job-tuple-icon ni-job-tuple-icon-srp-location loc\"]')\n",
    "for i in location_tags:\n",
    "    location=i. text\n",
    "    job_location. append (location)\n"
   ]
  },
  {
   "cell_type": "code",
   "execution_count": 20,
   "id": "47a226e6",
   "metadata": {},
   "outputs": [],
   "source": [
    "# scraping Company name from the given page\n",
    "company_tags=driver.find_elements(By.XPATH,'//span[@class=\" comp-dtls-wrap\"]/a[1]')\n",
    "for i in company_tags:\n",
    "    company=i. text\n",
    "    company_name. append (company)\n"
   ]
  },
  {
   "cell_type": "code",
   "execution_count": 21,
   "id": "7db862fe",
   "metadata": {},
   "outputs": [],
   "source": [
    "# scraping Job Experience from the given page\n",
    "experience_tags=driver.find_elements (By.XPATH,' // span[@class=\"expwdth\"]')\n",
    "for i in experience_tags:\n",
    "    exp=i. text\n",
    "    experience_required. append (exp)\n"
   ]
  },
  {
   "cell_type": "code",
   "execution_count": 22,
   "id": "1bdda4f0",
   "metadata": {},
   "outputs": [
    {
     "name": "stdout",
     "output_type": "stream",
     "text": [
      "20 20 20 20\n"
     ]
    }
   ],
   "source": [
    "print (len(job_title),len(job_location),len(company_name), len (experience_required))\n"
   ]
  },
  {
   "cell_type": "code",
   "execution_count": 33,
   "id": "52bcb9ac",
   "metadata": {},
   "outputs": [
    {
     "data": {
      "text/html": [
       "<div>\n",
       "<style scoped>\n",
       "    .dataframe tbody tr th:only-of-type {\n",
       "        vertical-align: middle;\n",
       "    }\n",
       "\n",
       "    .dataframe tbody tr th {\n",
       "        vertical-align: top;\n",
       "    }\n",
       "\n",
       "    .dataframe thead th {\n",
       "        text-align: right;\n",
       "    }\n",
       "</style>\n",
       "<table border=\"1\" class=\"dataframe\">\n",
       "  <thead>\n",
       "    <tr style=\"text-align: right;\">\n",
       "      <th></th>\n",
       "      <th>Title</th>\n",
       "      <th>Location</th>\n",
       "      <th>Company_name</th>\n",
       "      <th>Experience</th>\n",
       "    </tr>\n",
       "  </thead>\n",
       "  <tbody>\n",
       "    <tr>\n",
       "      <th>0</th>\n",
       "      <td>Data Scientist/ Senior Data Scientist</td>\n",
       "      <td>Bangalore/Bengaluru, Mumbai, Pune, Chennai, Gu...</td>\n",
       "      <td>Fractal Analytics</td>\n",
       "      <td>4-9 Yrs</td>\n",
       "    </tr>\n",
       "    <tr>\n",
       "      <th>1</th>\n",
       "      <td>Experienced Data Scientist</td>\n",
       "      <td>Bangalore/Bengaluru, Kolkata, Mumbai, New Delh...</td>\n",
       "      <td>Volvo Financial Services</td>\n",
       "      <td>3-8 Yrs</td>\n",
       "    </tr>\n",
       "    <tr>\n",
       "      <th>2</th>\n",
       "      <td>Data Scientist - Knowledge Graph</td>\n",
       "      <td>Bangalore/Bengaluru, Kolkata, Mumbai, New Delh...</td>\n",
       "      <td>Capco</td>\n",
       "      <td>8-13 Yrs</td>\n",
       "    </tr>\n",
       "    <tr>\n",
       "      <th>3</th>\n",
       "      <td>Data Scientist HTHD</td>\n",
       "      <td>Bangalore/Bengaluru, Kolkata, Mumbai, New Delh...</td>\n",
       "      <td>Ford</td>\n",
       "      <td>2-6 Yrs</td>\n",
       "    </tr>\n",
       "    <tr>\n",
       "      <th>4</th>\n",
       "      <td>Data Scientist - Assistant Manager/Manager</td>\n",
       "      <td>Bengaluru</td>\n",
       "      <td>Genpact</td>\n",
       "      <td>4-7 Yrs</td>\n",
       "    </tr>\n",
       "    <tr>\n",
       "      <th>5</th>\n",
       "      <td>VP- Data Scientist</td>\n",
       "      <td>Hybrid - Bangalore/Bengaluru, Pune</td>\n",
       "      <td>Citicorp Finance</td>\n",
       "      <td>12-16 Yrs</td>\n",
       "    </tr>\n",
       "    <tr>\n",
       "      <th>6</th>\n",
       "      <td>Data Scientist</td>\n",
       "      <td>Hybrid - Bangalore/ Bengaluru, Karnataka, Hyde...</td>\n",
       "      <td>Tech Mahindra</td>\n",
       "      <td>5-8 Yrs</td>\n",
       "    </tr>\n",
       "    <tr>\n",
       "      <th>7</th>\n",
       "      <td>Principal Data Scientist</td>\n",
       "      <td>Bangalore/Bengaluru</td>\n",
       "      <td>IBM</td>\n",
       "      <td>10-12 Yrs</td>\n",
       "    </tr>\n",
       "    <tr>\n",
       "      <th>8</th>\n",
       "      <td>Data Scientist</td>\n",
       "      <td>Bangalore/Bengaluru</td>\n",
       "      <td>Tech Mahindra</td>\n",
       "      <td>5-10 Yrs</td>\n",
       "    </tr>\n",
       "    <tr>\n",
       "      <th>9</th>\n",
       "      <td>Data Scientist</td>\n",
       "      <td>Hybrid - Bengaluru, Karnataka</td>\n",
       "      <td>Narayana Health (NH)</td>\n",
       "      <td>3-5 Yrs</td>\n",
       "    </tr>\n",
       "    <tr>\n",
       "      <th>10</th>\n",
       "      <td>Artificial Intelligence Senior Analyst- Insigh...</td>\n",
       "      <td>Bangalore/Bengaluru</td>\n",
       "      <td>Accenture</td>\n",
       "      <td>5-8 Yrs</td>\n",
       "    </tr>\n",
       "    <tr>\n",
       "      <th>11</th>\n",
       "      <td>Staff Data Scientist</td>\n",
       "      <td>Bangalore/Bengaluru</td>\n",
       "      <td>Visa Inc</td>\n",
       "      <td>0-3 Yrs</td>\n",
       "    </tr>\n",
       "    <tr>\n",
       "      <th>12</th>\n",
       "      <td>Senior Data Scientist (ML Engineer)</td>\n",
       "      <td>Bangalore/Bengaluru</td>\n",
       "      <td>Walmart</td>\n",
       "      <td>1-5 Yrs</td>\n",
       "    </tr>\n",
       "    <tr>\n",
       "      <th>13</th>\n",
       "      <td>SENIOR DATA SCIENTIST</td>\n",
       "      <td>Bangalore/Bengaluru</td>\n",
       "      <td>Walmart</td>\n",
       "      <td>7-9 Yrs</td>\n",
       "    </tr>\n",
       "    <tr>\n",
       "      <th>14</th>\n",
       "      <td>Senior Data Scientist</td>\n",
       "      <td>Bangalore/Bengaluru</td>\n",
       "      <td>Walmart</td>\n",
       "      <td>1-5 Yrs</td>\n",
       "    </tr>\n",
       "    <tr>\n",
       "      <th>15</th>\n",
       "      <td>Opportunity | Data Scientist | Tavant India</td>\n",
       "      <td>Hybrid - Bangalore/Bengaluru, Hyderabad/Secund...</td>\n",
       "      <td>Tavant Technologies</td>\n",
       "      <td>7-12 Yrs</td>\n",
       "    </tr>\n",
       "    <tr>\n",
       "      <th>16</th>\n",
       "      <td>Data Scientist</td>\n",
       "      <td>Hybrid - Pune, Maharashtra, Bengaluru, Karnata...</td>\n",
       "      <td>Blazeclan Technologies</td>\n",
       "      <td>6-10 Yrs</td>\n",
       "    </tr>\n",
       "    <tr>\n",
       "      <th>17</th>\n",
       "      <td>Lotus Interworks - Data Scientist</td>\n",
       "      <td>Bangalore/Bengaluru, Kolkata, Mumbai, Hyderaba...</td>\n",
       "      <td>Lotus Interworks Inc</td>\n",
       "      <td>1-5 Yrs</td>\n",
       "    </tr>\n",
       "    <tr>\n",
       "      <th>18</th>\n",
       "      <td>Lead, Data Scientist</td>\n",
       "      <td>Bangalore/Bengaluru, Kolkata, Mumbai, New Delh...</td>\n",
       "      <td>Kmart</td>\n",
       "      <td>8-11 Yrs</td>\n",
       "    </tr>\n",
       "    <tr>\n",
       "      <th>19</th>\n",
       "      <td>Lead, Data Scientist</td>\n",
       "      <td>Bangalore/Bengaluru, Kolkata, Mumbai, New Delh...</td>\n",
       "      <td>KAS Services India</td>\n",
       "      <td>8-11 Yrs</td>\n",
       "    </tr>\n",
       "  </tbody>\n",
       "</table>\n",
       "</div>"
      ],
      "text/plain": [
       "                                                Title  \\\n",
       "0               Data Scientist/ Senior Data Scientist   \n",
       "1                          Experienced Data Scientist   \n",
       "2                    Data Scientist - Knowledge Graph   \n",
       "3                                 Data Scientist HTHD   \n",
       "4          Data Scientist - Assistant Manager/Manager   \n",
       "5                                  VP- Data Scientist   \n",
       "6                                      Data Scientist   \n",
       "7                            Principal Data Scientist   \n",
       "8                                      Data Scientist   \n",
       "9                                      Data Scientist   \n",
       "10  Artificial Intelligence Senior Analyst- Insigh...   \n",
       "11                               Staff Data Scientist   \n",
       "12                Senior Data Scientist (ML Engineer)   \n",
       "13                              SENIOR DATA SCIENTIST   \n",
       "14                              Senior Data Scientist   \n",
       "15        Opportunity | Data Scientist | Tavant India   \n",
       "16                                     Data Scientist   \n",
       "17                  Lotus Interworks - Data Scientist   \n",
       "18                               Lead, Data Scientist   \n",
       "19                               Lead, Data Scientist   \n",
       "\n",
       "                                             Location  \\\n",
       "0   Bangalore/Bengaluru, Mumbai, Pune, Chennai, Gu...   \n",
       "1   Bangalore/Bengaluru, Kolkata, Mumbai, New Delh...   \n",
       "2   Bangalore/Bengaluru, Kolkata, Mumbai, New Delh...   \n",
       "3   Bangalore/Bengaluru, Kolkata, Mumbai, New Delh...   \n",
       "4                                           Bengaluru   \n",
       "5                  Hybrid - Bangalore/Bengaluru, Pune   \n",
       "6   Hybrid - Bangalore/ Bengaluru, Karnataka, Hyde...   \n",
       "7                                 Bangalore/Bengaluru   \n",
       "8                                 Bangalore/Bengaluru   \n",
       "9                       Hybrid - Bengaluru, Karnataka   \n",
       "10                                Bangalore/Bengaluru   \n",
       "11                                Bangalore/Bengaluru   \n",
       "12                                Bangalore/Bengaluru   \n",
       "13                                Bangalore/Bengaluru   \n",
       "14                                Bangalore/Bengaluru   \n",
       "15  Hybrid - Bangalore/Bengaluru, Hyderabad/Secund...   \n",
       "16  Hybrid - Pune, Maharashtra, Bengaluru, Karnata...   \n",
       "17  Bangalore/Bengaluru, Kolkata, Mumbai, Hyderaba...   \n",
       "18  Bangalore/Bengaluru, Kolkata, Mumbai, New Delh...   \n",
       "19  Bangalore/Bengaluru, Kolkata, Mumbai, New Delh...   \n",
       "\n",
       "                Company_name Experience  \n",
       "0          Fractal Analytics    4-9 Yrs  \n",
       "1   Volvo Financial Services    3-8 Yrs  \n",
       "2                      Capco   8-13 Yrs  \n",
       "3                       Ford    2-6 Yrs  \n",
       "4                    Genpact    4-7 Yrs  \n",
       "5           Citicorp Finance  12-16 Yrs  \n",
       "6              Tech Mahindra    5-8 Yrs  \n",
       "7                        IBM  10-12 Yrs  \n",
       "8              Tech Mahindra   5-10 Yrs  \n",
       "9       Narayana Health (NH)    3-5 Yrs  \n",
       "10                 Accenture    5-8 Yrs  \n",
       "11                  Visa Inc    0-3 Yrs  \n",
       "12                   Walmart    1-5 Yrs  \n",
       "13                   Walmart    7-9 Yrs  \n",
       "14                   Walmart    1-5 Yrs  \n",
       "15       Tavant Technologies   7-12 Yrs  \n",
       "16    Blazeclan Technologies   6-10 Yrs  \n",
       "17      Lotus Interworks Inc    1-5 Yrs  \n",
       "18                     Kmart   8-11 Yrs  \n",
       "19        KAS Services India   8-11 Yrs  "
      ]
     },
     "execution_count": 33,
     "metadata": {},
     "output_type": "execute_result"
    }
   ],
   "source": [
    "import pandas as pd\n",
    "df=pd.DataFrame({'Title':job_title,'Location':job_location,'Company_name':company_name,'Experience':experience_required})\n",
    "df"
   ]
  },
  {
   "cell_type": "code",
   "execution_count": 24,
   "id": "9b20b253",
   "metadata": {},
   "outputs": [
    {
     "data": {
      "text/plain": [
       "[<selenium.webdriver.remote.webelement.WebElement (session=\"628fd75367e3fccaa1f94e3194bf7631\", element=\"639DFA697C51D7E551E86C8CAC3D2596_element_84\")>,\n",
       " <selenium.webdriver.remote.webelement.WebElement (session=\"628fd75367e3fccaa1f94e3194bf7631\", element=\"639DFA697C51D7E551E86C8CAC3D2596_element_85\")>,\n",
       " <selenium.webdriver.remote.webelement.WebElement (session=\"628fd75367e3fccaa1f94e3194bf7631\", element=\"639DFA697C51D7E551E86C8CAC3D2596_element_86\")>,\n",
       " <selenium.webdriver.remote.webelement.WebElement (session=\"628fd75367e3fccaa1f94e3194bf7631\", element=\"639DFA697C51D7E551E86C8CAC3D2596_element_164\")>]"
      ]
     },
     "execution_count": 24,
     "metadata": {},
     "output_type": "execute_result"
    }
   ],
   "source": [
    "# to fetcg the url -\n",
    "url=driver.find_elements(By.XPATH,'//a[@class=\"title \"]')\n",
    "url[0:4]"
   ]
  },
  {
   "cell_type": "code",
   "execution_count": 26,
   "id": "72615e6f",
   "metadata": {},
   "outputs": [
    {
     "name": "stdout",
     "output_type": "stream",
     "text": [
      "https://www.naukri.com/job-listings-data-scientist-senior-data-scientist-fractal-protocol-mumbai-pune-chennai-gurgaon-gurugram-bangalore-bengaluru-4-to-9-years-221123502233\n",
      "https://www.naukri.com/job-listings-experienced-data-scientist-volvo-asset-finance-india-private-limited-kolkata-mumbai-new-delhi-hyderabad-secunderabad-pune-chennai-bangalore-bengaluru-3-to-8-years-151123500222\n",
      "https://www.naukri.com/job-listings-data-scientist-knowledge-graph-capco-technologies-pvt-ltd-kolkata-mumbai-new-delhi-hyderabad-secunderabad-pune-chennai-bangalore-bengaluru-8-to-13-years-031123501080\n",
      "None\n"
     ]
    }
   ],
   "source": [
    "for i in url[0:4]:\n",
    "    print(i.get_attribute('href'))\n",
    "    # Lets provide range to print only top 4 data\n"
   ]
  },
  {
   "cell_type": "code",
   "execution_count": 28,
   "id": "266470c5",
   "metadata": {},
   "outputs": [],
   "source": [
    "job_titles=[]"
   ]
  },
  {
   "cell_type": "code",
   "execution_count": 30,
   "id": "f780af23",
   "metadata": {},
   "outputs": [],
   "source": [
    "start=0\n",
    "end=3\n",
    "for page in range(start, end):\n",
    "    titles=driver.find_elements(By.XPATH,'//div[@class=\"cust-job-tuple layout-wrapper lay-2 sjw__tuple \"]/div/a')\n",
    "    for i in titles:\n",
    "        job_titles.append(i. text)\n",
    "    next_button=driver.find_element(By.XPATH,'/html/body/div[1]/div/main/div[1]/div[2]/div[3]/div/a[2]') # to scrap data from\n",
    "next_button. click()\n",
    "time.sleep(3)   \n",
    "\n",
    "\n",
    "\n"
   ]
  },
  {
   "cell_type": "code",
   "execution_count": 31,
   "id": "9bec4a1a",
   "metadata": {},
   "outputs": [
    {
     "data": {
      "text/plain": [
       "60"
      ]
     },
     "execution_count": 31,
     "metadata": {},
     "output_type": "execute_result"
    }
   ],
   "source": [
    "len(job_titles)"
   ]
  },
  {
   "cell_type": "code",
   "execution_count": 32,
   "id": "35ceba53",
   "metadata": {},
   "outputs": [
    {
     "data": {
      "text/plain": [
       "['Data Scientist/ Senior Data Scientist',\n",
       " 'Experienced Data Scientist',\n",
       " 'Data Scientist - Knowledge Graph',\n",
       " 'Data Scientist HTHD',\n",
       " 'Data Scientist - Assistant Manager/Manager',\n",
       " 'VP- Data Scientist',\n",
       " 'Data Scientist',\n",
       " 'Principal Data Scientist',\n",
       " 'Data Scientist',\n",
       " 'Data Scientist',\n",
       " 'Artificial Intelligence Senior Analyst- Insights and Intelligence',\n",
       " 'Staff Data Scientist',\n",
       " 'Senior Data Scientist (ML Engineer)',\n",
       " 'SENIOR DATA SCIENTIST',\n",
       " 'Senior Data Scientist',\n",
       " 'Opportunity | Data Scientist | Tavant India',\n",
       " 'Data Scientist',\n",
       " 'Lotus Interworks - Data Scientist',\n",
       " 'Lead, Data Scientist',\n",
       " 'Lead, Data Scientist',\n",
       " 'Data Scientist/ Senior Data Scientist',\n",
       " 'Experienced Data Scientist',\n",
       " 'Data Scientist - Knowledge Graph',\n",
       " 'Data Scientist HTHD',\n",
       " 'Data Scientist - Assistant Manager/Manager',\n",
       " 'VP- Data Scientist',\n",
       " 'Data Scientist',\n",
       " 'Principal Data Scientist',\n",
       " 'Data Scientist',\n",
       " 'Data Scientist',\n",
       " 'Artificial Intelligence Senior Analyst- Insights and Intelligence',\n",
       " 'Staff Data Scientist',\n",
       " 'Senior Data Scientist (ML Engineer)',\n",
       " 'SENIOR DATA SCIENTIST',\n",
       " 'Senior Data Scientist',\n",
       " 'Opportunity | Data Scientist | Tavant India',\n",
       " 'Data Scientist',\n",
       " 'Lotus Interworks - Data Scientist',\n",
       " 'Lead, Data Scientist',\n",
       " 'Lead, Data Scientist',\n",
       " 'Data Scientist/ Senior Data Scientist',\n",
       " 'Experienced Data Scientist',\n",
       " 'Data Scientist - Knowledge Graph',\n",
       " 'Data Scientist HTHD',\n",
       " 'Data Scientist - Assistant Manager/Manager',\n",
       " 'VP- Data Scientist',\n",
       " 'Data Scientist',\n",
       " 'Principal Data Scientist',\n",
       " 'Data Scientist',\n",
       " 'Data Scientist',\n",
       " 'Artificial Intelligence Senior Analyst- Insights and Intelligence',\n",
       " 'Staff Data Scientist',\n",
       " 'Senior Data Scientist (ML Engineer)',\n",
       " 'SENIOR DATA SCIENTIST',\n",
       " 'Senior Data Scientist',\n",
       " 'Opportunity | Data Scientist | Tavant India',\n",
       " 'Data Scientist',\n",
       " 'Lotus Interworks - Data Scientist',\n",
       " 'Lead, Data Scientist',\n",
       " 'Lead, Data Scientist']"
      ]
     },
     "execution_count": 32,
     "metadata": {},
     "output_type": "execute_result"
    }
   ],
   "source": [
    "job_titles"
   ]
  },
  {
   "cell_type": "code",
   "execution_count": null,
   "id": "bc63e232",
   "metadata": {},
   "outputs": [],
   "source": []
  },
  {
   "cell_type": "code",
   "execution_count": null,
   "id": "a8a6ef89",
   "metadata": {},
   "outputs": [],
   "source": [
    "\n",
    "start=0\n",
    "end=3\n",
    "for page in range(start, end):\n",
    "titles-driver.find_elements(By.XPATH,'//div[@class=\"cust-job-tuple layout-wrapper lay-2 sjw__tuple \"]/div/a')\n",
    "for i in titles:\n",
    "job_titles.append(i. text)]\n",
    "next_button-driver.find_element(By.XPATH,'/html/body/div[1]/div/main/div[1]/div[2]/div[3]/div/a[2]') # to scrap data from\n",
    "next_button. click()\n",
    "time clean/al"
   ]
  },
  {
   "cell_type": "code",
   "execution_count": null,
   "id": "0076f047",
   "metadata": {},
   "outputs": [],
   "source": []
  },
  {
   "cell_type": "code",
   "execution_count": null,
   "id": "b63c0890",
   "metadata": {},
   "outputs": [],
   "source": []
  },
  {
   "cell_type": "code",
   "execution_count": null,
   "id": "18caaccd",
   "metadata": {},
   "outputs": [],
   "source": []
  },
  {
   "cell_type": "code",
   "execution_count": null,
   "id": "88a5628f",
   "metadata": {},
   "outputs": [],
   "source": []
  },
  {
   "cell_type": "code",
   "execution_count": null,
   "id": "51ed84a0",
   "metadata": {},
   "outputs": [],
   "source": []
  },
  {
   "cell_type": "code",
   "execution_count": null,
   "id": "b8877bf3",
   "metadata": {},
   "outputs": [],
   "source": []
  },
  {
   "cell_type": "code",
   "execution_count": null,
   "id": "7fc5999e",
   "metadata": {},
   "outputs": [],
   "source": []
  },
  {
   "cell_type": "code",
   "execution_count": null,
   "id": "6ff80097",
   "metadata": {},
   "outputs": [],
   "source": []
  },
  {
   "cell_type": "code",
   "execution_count": null,
   "id": "92f114b9",
   "metadata": {},
   "outputs": [],
   "source": []
  },
  {
   "cell_type": "code",
   "execution_count": null,
   "id": "235f70f2",
   "metadata": {},
   "outputs": [],
   "source": []
  },
  {
   "cell_type": "code",
   "execution_count": null,
   "id": "f30ba70c",
   "metadata": {},
   "outputs": [],
   "source": []
  }
 ],
 "metadata": {
  "kernelspec": {
   "display_name": "Python 3 (ipykernel)",
   "language": "python",
   "name": "python3"
  },
  "language_info": {
   "codemirror_mode": {
    "name": "ipython",
    "version": 3
   },
   "file_extension": ".py",
   "mimetype": "text/x-python",
   "name": "python",
   "nbconvert_exporter": "python",
   "pygments_lexer": "ipython3",
   "version": "3.9.12"
  }
 },
 "nbformat": 4,
 "nbformat_minor": 5
}
