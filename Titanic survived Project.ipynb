{
 "cells": [
  {
   "cell_type": "markdown",
   "id": "48942829",
   "metadata": {},
   "source": [
    "# Project Description\n",
    "The Titanic Problem is based on the sinking of the ‘Unsinkable’ ship Titanic in early 1912. It gives you information about multiple people like their ages, sexes, sibling counts, embarkment points, and whether or not they survived the disaster. \n",
    "Based on these features, you have to predict if an arbitrary passenger on Titanic would survive the sinking or not. \n"
   ]
  },
  {
   "cell_type": "code",
   "execution_count": 5,
   "id": "0bc6bbd2",
   "metadata": {},
   "outputs": [],
   "source": [
    "import numpy as np \n",
    "import pandas as pd\n",
    "import matplotlib.pyplot as plt\n",
    "import seaborn as sns\n",
    "import warnings\n",
    "warnings.filterwarnings('ignore')"
   ]
  },
  {
   "cell_type": "code",
   "execution_count": 6,
   "id": "2c9fc69d",
   "metadata": {
    "scrolled": true
   },
   "outputs": [
    {
     "data": {
      "text/html": [
       "<div>\n",
       "<style scoped>\n",
       "    .dataframe tbody tr th:only-of-type {\n",
       "        vertical-align: middle;\n",
       "    }\n",
       "\n",
       "    .dataframe tbody tr th {\n",
       "        vertical-align: top;\n",
       "    }\n",
       "\n",
       "    .dataframe thead th {\n",
       "        text-align: right;\n",
       "    }\n",
       "</style>\n",
       "<table border=\"1\" class=\"dataframe\">\n",
       "  <thead>\n",
       "    <tr style=\"text-align: right;\">\n",
       "      <th></th>\n",
       "      <th>PassengerId</th>\n",
       "      <th>Survived</th>\n",
       "      <th>Pclass</th>\n",
       "      <th>Name</th>\n",
       "      <th>Sex</th>\n",
       "      <th>Age</th>\n",
       "      <th>SibSp</th>\n",
       "      <th>Parch</th>\n",
       "      <th>Ticket</th>\n",
       "      <th>Fare</th>\n",
       "      <th>Cabin</th>\n",
       "      <th>Embarked</th>\n",
       "    </tr>\n",
       "  </thead>\n",
       "  <tbody>\n",
       "    <tr>\n",
       "      <th>0</th>\n",
       "      <td>1</td>\n",
       "      <td>0</td>\n",
       "      <td>3</td>\n",
       "      <td>Braund, Mr. Owen Harris</td>\n",
       "      <td>male</td>\n",
       "      <td>22.0</td>\n",
       "      <td>1</td>\n",
       "      <td>0</td>\n",
       "      <td>A/5 21171</td>\n",
       "      <td>7.2500</td>\n",
       "      <td>NaN</td>\n",
       "      <td>S</td>\n",
       "    </tr>\n",
       "    <tr>\n",
       "      <th>1</th>\n",
       "      <td>2</td>\n",
       "      <td>1</td>\n",
       "      <td>1</td>\n",
       "      <td>Cumings, Mrs. John Bradley (Florence Briggs Th...</td>\n",
       "      <td>female</td>\n",
       "      <td>38.0</td>\n",
       "      <td>1</td>\n",
       "      <td>0</td>\n",
       "      <td>PC 17599</td>\n",
       "      <td>71.2833</td>\n",
       "      <td>C85</td>\n",
       "      <td>C</td>\n",
       "    </tr>\n",
       "    <tr>\n",
       "      <th>2</th>\n",
       "      <td>3</td>\n",
       "      <td>1</td>\n",
       "      <td>3</td>\n",
       "      <td>Heikkinen, Miss. Laina</td>\n",
       "      <td>female</td>\n",
       "      <td>26.0</td>\n",
       "      <td>0</td>\n",
       "      <td>0</td>\n",
       "      <td>STON/O2. 3101282</td>\n",
       "      <td>7.9250</td>\n",
       "      <td>NaN</td>\n",
       "      <td>S</td>\n",
       "    </tr>\n",
       "    <tr>\n",
       "      <th>3</th>\n",
       "      <td>4</td>\n",
       "      <td>1</td>\n",
       "      <td>1</td>\n",
       "      <td>Futrelle, Mrs. Jacques Heath (Lily May Peel)</td>\n",
       "      <td>female</td>\n",
       "      <td>35.0</td>\n",
       "      <td>1</td>\n",
       "      <td>0</td>\n",
       "      <td>113803</td>\n",
       "      <td>53.1000</td>\n",
       "      <td>C123</td>\n",
       "      <td>S</td>\n",
       "    </tr>\n",
       "    <tr>\n",
       "      <th>4</th>\n",
       "      <td>5</td>\n",
       "      <td>0</td>\n",
       "      <td>3</td>\n",
       "      <td>Allen, Mr. William Henry</td>\n",
       "      <td>male</td>\n",
       "      <td>35.0</td>\n",
       "      <td>0</td>\n",
       "      <td>0</td>\n",
       "      <td>373450</td>\n",
       "      <td>8.0500</td>\n",
       "      <td>NaN</td>\n",
       "      <td>S</td>\n",
       "    </tr>\n",
       "  </tbody>\n",
       "</table>\n",
       "</div>"
      ],
      "text/plain": [
       "   PassengerId  Survived  Pclass  \\\n",
       "0            1         0       3   \n",
       "1            2         1       1   \n",
       "2            3         1       3   \n",
       "3            4         1       1   \n",
       "4            5         0       3   \n",
       "\n",
       "                                                Name     Sex   Age  SibSp  \\\n",
       "0                            Braund, Mr. Owen Harris    male  22.0      1   \n",
       "1  Cumings, Mrs. John Bradley (Florence Briggs Th...  female  38.0      1   \n",
       "2                             Heikkinen, Miss. Laina  female  26.0      0   \n",
       "3       Futrelle, Mrs. Jacques Heath (Lily May Peel)  female  35.0      1   \n",
       "4                           Allen, Mr. William Henry    male  35.0      0   \n",
       "\n",
       "   Parch            Ticket     Fare Cabin Embarked  \n",
       "0      0         A/5 21171   7.2500   NaN        S  \n",
       "1      0          PC 17599  71.2833   C85        C  \n",
       "2      0  STON/O2. 3101282   7.9250   NaN        S  \n",
       "3      0            113803  53.1000  C123        S  \n",
       "4      0            373450   8.0500   NaN        S  "
      ]
     },
     "execution_count": 6,
     "metadata": {},
     "output_type": "execute_result"
    }
   ],
   "source": [
    "df=pd.read_csv('https://raw.githubusercontent.com/dsrscientist/dataset1/master/titanic_train.csv')\n",
    "df.head()"
   ]
  },
  {
   "cell_type": "markdown",
   "id": "0de6a01a",
   "metadata": {},
   "source": [
    "# Target variable is survived is int value it means dead or alive this is the binary classification model"
   ]
  },
  {
   "cell_type": "code",
   "execution_count": 7,
   "id": "6ff197b4",
   "metadata": {},
   "outputs": [
    {
     "data": {
      "text/plain": [
       "(891, 12)"
      ]
     },
     "execution_count": 7,
     "metadata": {},
     "output_type": "execute_result"
    }
   ],
   "source": [
    "df.shape"
   ]
  },
  {
   "cell_type": "markdown",
   "id": "10f63f96",
   "metadata": {},
   "source": [
    "#  891 rows and 12 column present in this data"
   ]
  },
  {
   "cell_type": "code",
   "execution_count": 8,
   "id": "eb8edc87",
   "metadata": {
    "scrolled": true
   },
   "outputs": [
    {
     "data": {
      "text/plain": [
       "PassengerId      0\n",
       "Survived         0\n",
       "Pclass           0\n",
       "Name             0\n",
       "Sex              0\n",
       "Age            177\n",
       "SibSp            0\n",
       "Parch            0\n",
       "Ticket           0\n",
       "Fare             0\n",
       "Cabin          687\n",
       "Embarked         2\n",
       "dtype: int64"
      ]
     },
     "execution_count": 8,
     "metadata": {},
     "output_type": "execute_result"
    }
   ],
   "source": [
    "df.isna().sum()"
   ]
  },
  {
   "cell_type": "markdown",
   "id": "625a40b3",
   "metadata": {},
   "source": [
    "#  there are 891 rows present in data and cabin missing value is 687 so we drop this column"
   ]
  },
  {
   "cell_type": "code",
   "execution_count": 9,
   "id": "00bb50d1",
   "metadata": {},
   "outputs": [],
   "source": [
    "df.drop(columns='Cabin',axis=1,inplace=True)"
   ]
  },
  {
   "cell_type": "markdown",
   "id": "b69c3c44",
   "metadata": {},
   "source": [
    "#  filling null values"
   ]
  },
  {
   "cell_type": "code",
   "execution_count": 10,
   "id": "565de38b",
   "metadata": {},
   "outputs": [],
   "source": [
    "df['Age']=df['Age'].fillna(value=df['Age'].mean())\n",
    "df['Embarked'] =df['Embarked'].fillna(method='bfill')"
   ]
  },
  {
   "cell_type": "code",
   "execution_count": 11,
   "id": "f129b64f",
   "metadata": {
    "scrolled": true
   },
   "outputs": [
    {
     "data": {
      "text/plain": [
       "PassengerId    0\n",
       "Survived       0\n",
       "Pclass         0\n",
       "Name           0\n",
       "Sex            0\n",
       "Age            0\n",
       "SibSp          0\n",
       "Parch          0\n",
       "Ticket         0\n",
       "Fare           0\n",
       "Embarked       0\n",
       "dtype: int64"
      ]
     },
     "execution_count": 11,
     "metadata": {},
     "output_type": "execute_result"
    }
   ],
   "source": [
    "df.isna().sum()"
   ]
  },
  {
   "cell_type": "code",
   "execution_count": 12,
   "id": "2cff63fd",
   "metadata": {},
   "outputs": [
    {
     "name": "stdout",
     "output_type": "stream",
     "text": [
      "1      1\n",
      "599    1\n",
      "588    1\n",
      "589    1\n",
      "590    1\n",
      "      ..\n",
      "301    1\n",
      "302    1\n",
      "303    1\n",
      "304    1\n",
      "891    1\n",
      "Name: PassengerId, Length: 891, dtype: int64\n",
      "0    549\n",
      "1    342\n",
      "Name: Survived, dtype: int64\n",
      "3    491\n",
      "1    216\n",
      "2    184\n",
      "Name: Pclass, dtype: int64\n",
      "Braund, Mr. Owen Harris                     1\n",
      "Boulos, Mr. Hanna                           1\n",
      "Frolicher-Stehli, Mr. Maxmillian            1\n",
      "Gilinski, Mr. Eliezer                       1\n",
      "Murdlin, Mr. Joseph                         1\n",
      "                                           ..\n",
      "Kelly, Miss. Anna Katherine \"Annie Kate\"    1\n",
      "McCoy, Mr. Bernard                          1\n",
      "Johnson, Mr. William Cahoone Jr             1\n",
      "Keane, Miss. Nora A                         1\n",
      "Dooley, Mr. Patrick                         1\n",
      "Name: Name, Length: 891, dtype: int64\n",
      "male      577\n",
      "female    314\n",
      "Name: Sex, dtype: int64\n",
      "29.699118    177\n",
      "24.000000     30\n",
      "22.000000     27\n",
      "18.000000     26\n",
      "28.000000     25\n",
      "            ... \n",
      "36.500000      1\n",
      "55.500000      1\n",
      "0.920000       1\n",
      "23.500000      1\n",
      "74.000000      1\n",
      "Name: Age, Length: 89, dtype: int64\n",
      "0    608\n",
      "1    209\n",
      "2     28\n",
      "4     18\n",
      "3     16\n",
      "8      7\n",
      "5      5\n",
      "Name: SibSp, dtype: int64\n",
      "0    678\n",
      "1    118\n",
      "2     80\n",
      "5      5\n",
      "3      5\n",
      "4      4\n",
      "6      1\n",
      "Name: Parch, dtype: int64\n",
      "347082      7\n",
      "CA. 2343    7\n",
      "1601        7\n",
      "3101295     6\n",
      "CA 2144     6\n",
      "           ..\n",
      "9234        1\n",
      "19988       1\n",
      "2693        1\n",
      "PC 17612    1\n",
      "370376      1\n",
      "Name: Ticket, Length: 681, dtype: int64\n",
      "8.0500     43\n",
      "13.0000    42\n",
      "7.8958     38\n",
      "7.7500     34\n",
      "26.0000    31\n",
      "           ..\n",
      "35.0000     1\n",
      "28.5000     1\n",
      "6.2375      1\n",
      "14.0000     1\n",
      "10.5167     1\n",
      "Name: Fare, Length: 248, dtype: int64\n",
      "S    645\n",
      "C    169\n",
      "Q     77\n",
      "Name: Embarked, dtype: int64\n"
     ]
    }
   ],
   "source": [
    "for i in df.columns:\n",
    "    print(df[i].value_counts())"
   ]
  },
  {
   "cell_type": "markdown",
   "id": "2a29e80c",
   "metadata": {},
   "source": [
    "#  we delete  PassengerId , name tickit  this is the unique value to each passengers "
   ]
  },
  {
   "cell_type": "code",
   "execution_count": 13,
   "id": "eb7ee166",
   "metadata": {},
   "outputs": [],
   "source": [
    "df.drop(columns=['PassengerId','Name','Ticket'],axis=1,inplace=True)"
   ]
  },
  {
   "cell_type": "code",
   "execution_count": 14,
   "id": "355dca02",
   "metadata": {},
   "outputs": [
    {
     "name": "stdout",
     "output_type": "stream",
     "text": [
      "<class 'pandas.core.frame.DataFrame'>\n",
      "RangeIndex: 891 entries, 0 to 890\n",
      "Data columns (total 8 columns):\n",
      " #   Column    Non-Null Count  Dtype  \n",
      "---  ------    --------------  -----  \n",
      " 0   Survived  891 non-null    int64  \n",
      " 1   Pclass    891 non-null    int64  \n",
      " 2   Sex       891 non-null    object \n",
      " 3   Age       891 non-null    float64\n",
      " 4   SibSp     891 non-null    int64  \n",
      " 5   Parch     891 non-null    int64  \n",
      " 6   Fare      891 non-null    float64\n",
      " 7   Embarked  891 non-null    object \n",
      "dtypes: float64(2), int64(4), object(2)\n",
      "memory usage: 55.8+ KB\n"
     ]
    }
   ],
   "source": [
    "df.info()"
   ]
  },
  {
   "cell_type": "code",
   "execution_count": 15,
   "id": "5cfd28d2",
   "metadata": {},
   "outputs": [
    {
     "data": {
      "text/html": [
       "<div>\n",
       "<style scoped>\n",
       "    .dataframe tbody tr th:only-of-type {\n",
       "        vertical-align: middle;\n",
       "    }\n",
       "\n",
       "    .dataframe tbody tr th {\n",
       "        vertical-align: top;\n",
       "    }\n",
       "\n",
       "    .dataframe thead th {\n",
       "        text-align: right;\n",
       "    }\n",
       "</style>\n",
       "<table border=\"1\" class=\"dataframe\">\n",
       "  <thead>\n",
       "    <tr style=\"text-align: right;\">\n",
       "      <th></th>\n",
       "      <th>Survived</th>\n",
       "      <th>Pclass</th>\n",
       "      <th>Age</th>\n",
       "      <th>SibSp</th>\n",
       "      <th>Parch</th>\n",
       "      <th>Fare</th>\n",
       "    </tr>\n",
       "  </thead>\n",
       "  <tbody>\n",
       "    <tr>\n",
       "      <th>count</th>\n",
       "      <td>891.000000</td>\n",
       "      <td>891.000000</td>\n",
       "      <td>891.000000</td>\n",
       "      <td>891.000000</td>\n",
       "      <td>891.000000</td>\n",
       "      <td>891.000000</td>\n",
       "    </tr>\n",
       "    <tr>\n",
       "      <th>mean</th>\n",
       "      <td>0.383838</td>\n",
       "      <td>2.308642</td>\n",
       "      <td>29.699118</td>\n",
       "      <td>0.523008</td>\n",
       "      <td>0.381594</td>\n",
       "      <td>32.204208</td>\n",
       "    </tr>\n",
       "    <tr>\n",
       "      <th>std</th>\n",
       "      <td>0.486592</td>\n",
       "      <td>0.836071</td>\n",
       "      <td>13.002015</td>\n",
       "      <td>1.102743</td>\n",
       "      <td>0.806057</td>\n",
       "      <td>49.693429</td>\n",
       "    </tr>\n",
       "    <tr>\n",
       "      <th>min</th>\n",
       "      <td>0.000000</td>\n",
       "      <td>1.000000</td>\n",
       "      <td>0.420000</td>\n",
       "      <td>0.000000</td>\n",
       "      <td>0.000000</td>\n",
       "      <td>0.000000</td>\n",
       "    </tr>\n",
       "    <tr>\n",
       "      <th>25%</th>\n",
       "      <td>0.000000</td>\n",
       "      <td>2.000000</td>\n",
       "      <td>22.000000</td>\n",
       "      <td>0.000000</td>\n",
       "      <td>0.000000</td>\n",
       "      <td>7.910400</td>\n",
       "    </tr>\n",
       "    <tr>\n",
       "      <th>50%</th>\n",
       "      <td>0.000000</td>\n",
       "      <td>3.000000</td>\n",
       "      <td>29.699118</td>\n",
       "      <td>0.000000</td>\n",
       "      <td>0.000000</td>\n",
       "      <td>14.454200</td>\n",
       "    </tr>\n",
       "    <tr>\n",
       "      <th>75%</th>\n",
       "      <td>1.000000</td>\n",
       "      <td>3.000000</td>\n",
       "      <td>35.000000</td>\n",
       "      <td>1.000000</td>\n",
       "      <td>0.000000</td>\n",
       "      <td>31.000000</td>\n",
       "    </tr>\n",
       "    <tr>\n",
       "      <th>max</th>\n",
       "      <td>1.000000</td>\n",
       "      <td>3.000000</td>\n",
       "      <td>80.000000</td>\n",
       "      <td>8.000000</td>\n",
       "      <td>6.000000</td>\n",
       "      <td>512.329200</td>\n",
       "    </tr>\n",
       "  </tbody>\n",
       "</table>\n",
       "</div>"
      ],
      "text/plain": [
       "         Survived      Pclass         Age       SibSp       Parch        Fare\n",
       "count  891.000000  891.000000  891.000000  891.000000  891.000000  891.000000\n",
       "mean     0.383838    2.308642   29.699118    0.523008    0.381594   32.204208\n",
       "std      0.486592    0.836071   13.002015    1.102743    0.806057   49.693429\n",
       "min      0.000000    1.000000    0.420000    0.000000    0.000000    0.000000\n",
       "25%      0.000000    2.000000   22.000000    0.000000    0.000000    7.910400\n",
       "50%      0.000000    3.000000   29.699118    0.000000    0.000000   14.454200\n",
       "75%      1.000000    3.000000   35.000000    1.000000    0.000000   31.000000\n",
       "max      1.000000    3.000000   80.000000    8.000000    6.000000  512.329200"
      ]
     },
     "execution_count": 15,
     "metadata": {},
     "output_type": "execute_result"
    }
   ],
   "source": [
    "df.describe()"
   ]
  },
  {
   "cell_type": "raw",
   "id": "3973d2be",
   "metadata": {},
   "source": [
    "The given statistical information of the numerical column\n",
    "The summary of the dataset looks almost perfect since there is no negative value present in  dataset\n",
    "from the above desccription we observed the following :\n",
    "the counts of the all columns are same which means there is no missing value in the dataset\n",
    "there is most of all columns are datatype is int except fare so "
   ]
  },
  {
   "cell_type": "markdown",
   "id": "a096ad3b",
   "metadata": {},
   "source": [
    "#  EDA"
   ]
  },
  {
   "cell_type": "code",
   "execution_count": 16,
   "id": "391c9a09",
   "metadata": {
    "scrolled": false
   },
   "outputs": [
    {
     "data": {
      "image/png": "[encoded data removed]",
      "text/plain": [
       "<Figure size 432x288 with 1 Axes>"
      ]
     },
     "metadata": {
      "needs_background": "light"
     },
     "output_type": "display_data"
    }
   ],
   "source": [
    "sns.countplot(x='Pclass', data=df )\n",
    "plt.show()"
   ]
  },
  {
   "cell_type": "markdown",
   "id": "5297c61b",
   "metadata": {},
   "source": [
    "# \n",
    " most of people travel to third pclass as compared to 1st pclass or 2 pclass"
   ]
  },
  {
   "cell_type": "code",
   "execution_count": 17,
   "id": "aa58b6e5",
   "metadata": {},
   "outputs": [
    {
     "data": {
      "image/png": "[encoded data removed]",
      "text/plain": [
       "<Figure size 432x288 with 1 Axes>"
      ]
     },
     "metadata": {
      "needs_background": "light"
     },
     "output_type": "display_data"
    }
   ],
   "source": [
    "sns.countplot(x='SibSp', data=df )\n",
    "plt.show()"
   ]
  },
  {
   "cell_type": "markdown",
   "id": "2e6fe6f5",
   "metadata": {},
   "source": [
    "#  There are most of no sibling travel in titanic"
   ]
  },
  {
   "cell_type": "code",
   "execution_count": 18,
   "id": "a39143b4",
   "metadata": {},
   "outputs": [
    {
     "data": {
      "image/png": "[encoded data removed]",
      "text/plain": [
       "<Figure size 432x288 with 1 Axes>"
      ]
     },
     "metadata": {
      "needs_background": "light"
     },
     "output_type": "display_data"
    }
   ],
   "source": [
    "sns.countplot(x='Sex', data=df )\n",
    "plt.show()"
   ]
  },
  {
   "cell_type": "markdown",
   "id": "8bcd3db3",
   "metadata": {},
   "source": [
    "#  In this dataset there are male travelor more as compared to female travelor"
   ]
  },
  {
   "cell_type": "code",
   "execution_count": 19,
   "id": "5386abd9",
   "metadata": {},
   "outputs": [
    {
     "data": {
      "image/png": "[encoded data removed]",
      "text/plain": [
       "<Figure size 432x288 with 1 Axes>"
      ]
     },
     "metadata": {
      "needs_background": "light"
     },
     "output_type": "display_data"
    }
   ],
   "source": [
    "sns.countplot(x='Embarked', data=df )\n",
    "plt.show()    "
   ]
  },
  {
   "cell_type": "markdown",
   "id": "fb76be96",
   "metadata": {},
   "source": [
    "#  Most of people Southampton embarked in the dataset"
   ]
  },
  {
   "cell_type": "code",
   "execution_count": 20,
   "id": "315e5285",
   "metadata": {},
   "outputs": [
    {
     "data": {
      "image/png": "[encoded data removed]",
      "text/plain": [
       "<Figure size 432x288 with 1 Axes>"
      ]
     },
     "metadata": {
      "needs_background": "light"
     },
     "output_type": "display_data"
    }
   ],
   "source": [
    "sns.countplot(x='Pclass', data=df, hue='Survived' )\n",
    "plt.show()"
   ]
  },
  {
   "cell_type": "markdown",
   "id": "ec2e40d3",
   "metadata": {},
   "source": [
    "#  1 pclass is high survival rate as compared to others"
   ]
  },
  {
   "cell_type": "code",
   "execution_count": 21,
   "id": "c7da124a",
   "metadata": {},
   "outputs": [
    {
     "data": {
      "image/png": "[encoded data removed]",
      "text/plain": [
       "<Figure size 432x288 with 1 Axes>"
      ]
     },
     "metadata": {
      "needs_background": "light"
     },
     "output_type": "display_data"
    }
   ],
   "source": [
    "sns.scatterplot(x='Pclass',y='Fare', data=df,size=20)\n",
    "plt.show()"
   ]
  },
  {
   "cell_type": "markdown",
   "id": "6484ed6e",
   "metadata": {},
   "source": [
    "# \n",
    "2 pclass and 3 pclass is fare vlaue almost similar thatswhy people choose this pclass \n",
    "and 1 pclass is fare value is to high so most of people avoid thos pclass"
   ]
  },
  {
   "cell_type": "code",
   "execution_count": 22,
   "id": "290ff07d",
   "metadata": {},
   "outputs": [
    {
     "data": {
      "image/png": "[encoded data removed]",
      "text/plain": [
       "<Figure size 432x288 with 1 Axes>"
      ]
     },
     "metadata": {
      "needs_background": "light"
     },
     "output_type": "display_data"
    }
   ],
   "source": [
    "sns.countplot(x='Sex', data=df, hue='Survived' )\n",
    "plt.show()"
   ]
  },
  {
   "cell_type": "markdown",
   "id": "aab5f427",
   "metadata": {},
   "source": [
    "#  Females have a higher survival rate compared to males. "
   ]
  },
  {
   "cell_type": "code",
   "execution_count": 23,
   "id": "5c26124e",
   "metadata": {},
   "outputs": [
    {
     "data": {
      "text/plain": [
       "<AxesSubplot:xlabel='Age', ylabel='Density'>"
      ]
     },
     "execution_count": 23,
     "metadata": {},
     "output_type": "execute_result"
    },
    {
     "data": {
      "image/png": "[encoded data removed]",
      "text/plain": [
       "<Figure size 360x360 with 1 Axes>"
      ]
     },
     "metadata": {
      "needs_background": "light"
     },
     "output_type": "display_data"
    }
   ],
   "source": [
    "plt.figure(figsize=(5,5))\n",
    "sns.distplot(df['Age'][df['Survived']==0])\n",
    "sns.distplot(df['Age'][df['Survived']==1])"
   ]
  },
  {
   "cell_type": "markdown",
   "id": "ae132477",
   "metadata": {},
   "source": [
    "#  \n",
    "The survival rate tends to be higher for individuals at a younger age."
   ]
  },
  {
   "cell_type": "code",
   "execution_count": 32,
   "id": "530306fa",
   "metadata": {},
   "outputs": [
    {
     "data": {
      "image/png": "[encoded data removed]",
      "text/plain": [
       "<Figure size 432x288 with 1 Axes>"
      ]
     },
     "metadata": {
      "needs_background": "light"
     },
     "output_type": "display_data"
    },
    {
     "name": "stdout",
     "output_type": "stream",
     "text": [
      "0     537\n",
      "1     161\n",
      "2     102\n",
      "3      29\n",
      "5      22\n",
      "4      15\n",
      "6      12\n",
      "10      7\n",
      "7       6\n",
      "Name: family, dtype: int64\n"
     ]
    }
   ],
   "source": [
    "\n",
    "df['family']=df['SibSp'] +df['Parch']\n",
    "sns.countplot(x='family',data=df)\n",
    "plt.show()\n",
    "print(df['family'].value_counts())\n"
   ]
  },
  {
   "cell_type": "markdown",
   "id": "49ab1733",
   "metadata": {},
   "source": [
    "# Most of people are solo travelor in the dataset\n",
    "lets check who's have more survival if they have family "
   ]
  },
  {
   "cell_type": "code",
   "execution_count": 33,
   "id": "8649f30d",
   "metadata": {
    "scrolled": false
   },
   "outputs": [
    {
     "data": {
      "text/plain": [
       "family\n",
       "0     0.303538\n",
       "1     0.552795\n",
       "2     0.578431\n",
       "3     0.724138\n",
       "4     0.200000\n",
       "5     0.136364\n",
       "6     0.333333\n",
       "7     0.000000\n",
       "10    0.000000\n",
       "Name: Survived, dtype: float64"
      ]
     },
     "execution_count": 33,
     "metadata": {},
     "output_type": "execute_result"
    }
   ],
   "source": [
    "df.groupby(['family'])['Survived'].mean()\n"
   ]
  },
  {
   "cell_type": "code",
   "execution_count": 34,
   "id": "7cdb431f",
   "metadata": {},
   "outputs": [],
   "source": [
    "df.drop(columns='family',inplace=True)"
   ]
  },
  {
   "cell_type": "code",
   "execution_count": 35,
   "id": "1e04111c",
   "metadata": {
    "scrolled": true
   },
   "outputs": [
    {
     "data": {
      "image/png": "[encoded data removed]",
      "text/plain": [
       "<Figure size 432x288 with 1 Axes>"
      ]
     },
     "metadata": {
      "needs_background": "light"
     },
     "output_type": "display_data"
    }
   ],
   "source": [
    "data = {\n",
    "    1: 0.303538,\n",
    "    2: 0.552795,\n",
    "    3: 0.578431,\n",
    "    4: 0.724138,\n",
    "    5: 0.200000,\n",
    "    6: 0.136364,\n",
    "    7: 0.333333,\n",
    "    8: 0.000000,\n",
    "    11: 0.000000\n",
    "}\n",
    "\n",
    "matrix = [[data.get(i+1, 0)] for i in range(len(data))]\n",
    "\n",
    "\n",
    "sns.heatmap(matrix, annot=True, fmt=\".2f\", cbar=False)\n",
    "\n",
    "plt.xlabel('Age Group')\n",
    "plt.ylabel('Family Traveler')\n",
    "\n",
    "plt.show()\n"
   ]
  },
  {
   "cell_type": "markdown",
   "id": "b7ef4d07",
   "metadata": {},
   "source": [
    "#  this have family member 1 to 4 this has a high survival rate as compered to more than above 4 family member"
   ]
  },
  {
   "cell_type": "code",
   "execution_count": 36,
   "id": "d24709dd",
   "metadata": {},
   "outputs": [],
   "source": [
    "categorial_data=[]\n",
    "for i in df.dtypes.index:\n",
    "    if df.dtypes[i]=='object':\n",
    "        categorial_data.append(i)\n",
    "numerical_data=[]\n",
    "for i in df.dtypes.index:\n",
    "    if df.dtypes[i] !='object':\n",
    "        numerical_data.append(i)"
   ]
  },
  {
   "cell_type": "code",
   "execution_count": 37,
   "id": "ce905fb7",
   "metadata": {},
   "outputs": [
    {
     "data": {
      "text/plain": [
       "Survived    0.478523\n",
       "Pclass     -0.630548\n",
       "Age         0.434488\n",
       "SibSp       3.695352\n",
       "Parch       2.749117\n",
       "Fare        4.787317\n",
       "dtype: float64"
      ]
     },
     "execution_count": 37,
     "metadata": {},
     "output_type": "execute_result"
    }
   ],
   "source": [
    "df.skew()"
   ]
  },
  {
   "cell_type": "markdown",
   "id": "4ce42bdd",
   "metadata": {},
   "source": []
  },
  {
   "cell_type": "code",
   "execution_count": 38,
   "id": "5930017a",
   "metadata": {},
   "outputs": [
    {
     "data": {
      "text/html": [
       "<div>\n",
       "<style scoped>\n",
       "    .dataframe tbody tr th:only-of-type {\n",
       "        vertical-align: middle;\n",
       "    }\n",
       "\n",
       "    .dataframe tbody tr th {\n",
       "        vertical-align: top;\n",
       "    }\n",
       "\n",
       "    .dataframe thead th {\n",
       "        text-align: right;\n",
       "    }\n",
       "</style>\n",
       "<table border=\"1\" class=\"dataframe\">\n",
       "  <thead>\n",
       "    <tr style=\"text-align: right;\">\n",
       "      <th></th>\n",
       "      <th>Pclass</th>\n",
       "      <th>SibSp</th>\n",
       "      <th>Parch</th>\n",
       "      <th>Fare</th>\n",
       "    </tr>\n",
       "  </thead>\n",
       "  <tbody>\n",
       "    <tr>\n",
       "      <th>0</th>\n",
       "      <td>0.827377</td>\n",
       "      <td>0.432793</td>\n",
       "      <td>0.473674</td>\n",
       "      <td>0.502445</td>\n",
       "    </tr>\n",
       "    <tr>\n",
       "      <th>1</th>\n",
       "      <td>1.566107</td>\n",
       "      <td>0.432793</td>\n",
       "      <td>0.473674</td>\n",
       "      <td>0.786845</td>\n",
       "    </tr>\n",
       "    <tr>\n",
       "      <th>2</th>\n",
       "      <td>0.827377</td>\n",
       "      <td>0.474545</td>\n",
       "      <td>0.473674</td>\n",
       "      <td>0.488854</td>\n",
       "    </tr>\n",
       "    <tr>\n",
       "      <th>3</th>\n",
       "      <td>1.566107</td>\n",
       "      <td>0.432793</td>\n",
       "      <td>0.473674</td>\n",
       "      <td>0.420730</td>\n",
       "    </tr>\n",
       "    <tr>\n",
       "      <th>4</th>\n",
       "      <td>0.827377</td>\n",
       "      <td>0.474545</td>\n",
       "      <td>0.473674</td>\n",
       "      <td>0.486337</td>\n",
       "    </tr>\n",
       "    <tr>\n",
       "      <th>...</th>\n",
       "      <td>...</td>\n",
       "      <td>...</td>\n",
       "      <td>...</td>\n",
       "      <td>...</td>\n",
       "    </tr>\n",
       "    <tr>\n",
       "      <th>886</th>\n",
       "      <td>0.369365</td>\n",
       "      <td>0.474545</td>\n",
       "      <td>0.473674</td>\n",
       "      <td>0.386671</td>\n",
       "    </tr>\n",
       "    <tr>\n",
       "      <th>887</th>\n",
       "      <td>1.566107</td>\n",
       "      <td>0.474545</td>\n",
       "      <td>0.473674</td>\n",
       "      <td>0.044381</td>\n",
       "    </tr>\n",
       "    <tr>\n",
       "      <th>888</th>\n",
       "      <td>0.827377</td>\n",
       "      <td>0.432793</td>\n",
       "      <td>2.008933</td>\n",
       "      <td>0.176263</td>\n",
       "    </tr>\n",
       "    <tr>\n",
       "      <th>889</th>\n",
       "      <td>1.566107</td>\n",
       "      <td>0.474545</td>\n",
       "      <td>0.473674</td>\n",
       "      <td>0.044381</td>\n",
       "    </tr>\n",
       "    <tr>\n",
       "      <th>890</th>\n",
       "      <td>0.827377</td>\n",
       "      <td>0.474545</td>\n",
       "      <td>0.473674</td>\n",
       "      <td>0.492378</td>\n",
       "    </tr>\n",
       "  </tbody>\n",
       "</table>\n",
       "<p>891 rows × 4 columns</p>\n",
       "</div>"
      ],
      "text/plain": [
       "       Pclass     SibSp     Parch      Fare\n",
       "0    0.827377  0.432793  0.473674  0.502445\n",
       "1    1.566107  0.432793  0.473674  0.786845\n",
       "2    0.827377  0.474545  0.473674  0.488854\n",
       "3    1.566107  0.432793  0.473674  0.420730\n",
       "4    0.827377  0.474545  0.473674  0.486337\n",
       "..        ...       ...       ...       ...\n",
       "886  0.369365  0.474545  0.473674  0.386671\n",
       "887  1.566107  0.474545  0.473674  0.044381\n",
       "888  0.827377  0.432793  2.008933  0.176263\n",
       "889  1.566107  0.474545  0.473674  0.044381\n",
       "890  0.827377  0.474545  0.473674  0.492378\n",
       "\n",
       "[891 rows x 4 columns]"
      ]
     },
     "execution_count": 38,
     "metadata": {},
     "output_type": "execute_result"
    }
   ],
   "source": [
    "from scipy.stats import zscore\n",
    "outliers= df[['Pclass','SibSp','Parch','Fare']]\n",
    "z=np.abs(zscore(outliers))\n",
    "z"
   ]
  },
  {
   "cell_type": "code",
   "execution_count": 39,
   "id": "825e4951",
   "metadata": {},
   "outputs": [
    {
     "data": {
      "text/plain": [
       "(array([  0,   0,   0, ..., 890, 890, 890], dtype=int64),\n",
       " array([0, 1, 2, ..., 1, 2, 3], dtype=int64))"
      ]
     },
     "execution_count": 39,
     "metadata": {},
     "output_type": "execute_result"
    }
   ],
   "source": [
    "np.where(z<3)"
   ]
  },
  {
   "cell_type": "code",
   "execution_count": 40,
   "id": "e2f975de",
   "metadata": {},
   "outputs": [
    {
     "data": {
      "text/plain": [
       "(827, 8)"
      ]
     },
     "execution_count": 40,
     "metadata": {},
     "output_type": "execute_result"
    }
   ],
   "source": [
    "df=df[(z<3).all(axis=1)]\n",
    "df.shape"
   ]
  },
  {
   "cell_type": "markdown",
   "id": "d43de871",
   "metadata": {},
   "source": [
    "#  There are 64 outliers in data so we use z score"
   ]
  },
  {
   "cell_type": "code",
   "execution_count": 41,
   "id": "5298cfe4",
   "metadata": {},
   "outputs": [],
   "source": [
    "from sklearn.preprocessing import LabelEncoder\n",
    "label_encoder= LabelEncoder()\n",
    "\n",
    "df['Sex']=label_encoder.fit_transform(df['Sex'])\n",
    "df['Embarked']=label_encoder.fit_transform(df['Embarked'])"
   ]
  },
  {
   "cell_type": "code",
   "execution_count": 42,
   "id": "10ca45eb",
   "metadata": {},
   "outputs": [
    {
     "data": {
      "text/plain": [
       "0    506\n",
       "1    321\n",
       "Name: Survived, dtype: int64"
      ]
     },
     "execution_count": 42,
     "metadata": {},
     "output_type": "execute_result"
    }
   ],
   "source": [
    "df['Survived'].value_counts()"
   ]
  },
  {
   "cell_type": "markdown",
   "id": "4833d7e7",
   "metadata": {},
   "source": [
    "#  There are data imbalanced we fix this this data imbalanced promble"
   ]
  },
  {
   "cell_type": "code",
   "execution_count": 43,
   "id": "cdaee4f6",
   "metadata": {},
   "outputs": [],
   "source": [
    "x=df.drop(columns='Survived')\n",
    "y=df['Survived']"
   ]
  },
  {
   "cell_type": "code",
   "execution_count": 44,
   "id": "f0fa598c",
   "metadata": {},
   "outputs": [],
   "source": [
    "from imblearn.over_sampling import SMOTE\n",
    "SM=SMOTE()\n",
    "x,y=SM.fit_resample(x,y)"
   ]
  },
  {
   "cell_type": "code",
   "execution_count": 45,
   "id": "6db29604",
   "metadata": {},
   "outputs": [
    {
     "data": {
      "text/plain": [
       "0    506\n",
       "1    506\n",
       "Name: Survived, dtype: int64"
      ]
     },
     "execution_count": 45,
     "metadata": {},
     "output_type": "execute_result"
    }
   ],
   "source": [
    "y.value_counts()"
   ]
  },
  {
   "cell_type": "markdown",
   "id": "95ea4d21",
   "metadata": {},
   "source": [
    "#  now we can build a model"
   ]
  },
  {
   "cell_type": "markdown",
   "id": "cd5e8e21",
   "metadata": {},
   "source": [
    "#  The target variable is survived or not it means there is binary classification model"
   ]
  },
  {
   "cell_type": "code",
   "execution_count": 82,
   "id": "aebeaf42",
   "metadata": {},
   "outputs": [],
   "source": [
    "from sklearn.preprocessing import StandardScaler\n",
    "scaler=StandardScaler()\n",
    "x_scaled=scaler.fit_transform(x)"
   ]
  },
  {
   "cell_type": "code",
   "execution_count": 83,
   "id": "7d84283a",
   "metadata": {
    "scrolled": true
   },
   "outputs": [
    {
     "data": {
      "text/html": [
       "<div>\n",
       "<style scoped>\n",
       "    .dataframe tbody tr th:only-of-type {\n",
       "        vertical-align: middle;\n",
       "    }\n",
       "\n",
       "    .dataframe tbody tr th {\n",
       "        vertical-align: top;\n",
       "    }\n",
       "\n",
       "    .dataframe thead th {\n",
       "        text-align: right;\n",
       "    }\n",
       "</style>\n",
       "<table border=\"1\" class=\"dataframe\">\n",
       "  <thead>\n",
       "    <tr style=\"text-align: right;\">\n",
       "      <th></th>\n",
       "      <th>vif</th>\n",
       "      <th>features</th>\n",
       "    </tr>\n",
       "  </thead>\n",
       "  <tbody>\n",
       "    <tr>\n",
       "      <th>0</th>\n",
       "      <td>2.167408</td>\n",
       "      <td>Pclass</td>\n",
       "    </tr>\n",
       "    <tr>\n",
       "      <th>1</th>\n",
       "      <td>1.139411</td>\n",
       "      <td>Sex</td>\n",
       "    </tr>\n",
       "    <tr>\n",
       "      <th>2</th>\n",
       "      <td>1.282485</td>\n",
       "      <td>Age</td>\n",
       "    </tr>\n",
       "    <tr>\n",
       "      <th>3</th>\n",
       "      <td>1.161817</td>\n",
       "      <td>SibSp</td>\n",
       "    </tr>\n",
       "    <tr>\n",
       "      <th>4</th>\n",
       "      <td>1.258297</td>\n",
       "      <td>Parch</td>\n",
       "    </tr>\n",
       "    <tr>\n",
       "      <th>5</th>\n",
       "      <td>2.300544</td>\n",
       "      <td>Fare</td>\n",
       "    </tr>\n",
       "    <tr>\n",
       "      <th>6</th>\n",
       "      <td>1.095989</td>\n",
       "      <td>Embarked</td>\n",
       "    </tr>\n",
       "  </tbody>\n",
       "</table>\n",
       "</div>"
      ],
      "text/plain": [
       "        vif  features\n",
       "0  2.167408    Pclass\n",
       "1  1.139411       Sex\n",
       "2  1.282485       Age\n",
       "3  1.161817     SibSp\n",
       "4  1.258297     Parch\n",
       "5  2.300544      Fare\n",
       "6  1.095989  Embarked"
      ]
     },
     "execution_count": 83,
     "metadata": {},
     "output_type": "execute_result"
    }
   ],
   "source": [
    "from statsmodels.stats.outliers_influence import variance_inflation_factor\n",
    "vif=pd.DataFrame()\n",
    "vif['vif']=[variance_inflation_factor(x_scaled, i) for i in range(x.shape[1])]\n",
    "vif ['features'] =x.columns \n",
    "vif"
   ]
  },
  {
   "cell_type": "markdown",
   "id": "5d950060",
   "metadata": {},
   "source": [
    "#  VIF value is gretar than 5 we can remove this column but in this project we don't remove any column"
   ]
  },
  {
   "cell_type": "code",
   "execution_count": 84,
   "id": "4eb0d5b0",
   "metadata": {},
   "outputs": [
    {
     "name": "stdout",
     "output_type": "stream",
     "text": [
      "Best accuracy is 0.8717105263157895 at random_state 47\n"
     ]
    }
   ],
   "source": [
    "from sklearn.model_selection import train_test_split\n",
    "from sklearn.ensemble import RandomForestClassifier\n",
    "from sklearn.metrics import accuracy_score\n",
    "\n",
    "maxAccu = 0\n",
    "maxRs = 0\n",
    "\n",
    "for i in range(1, 200):\n",
    "    x_train, x_test, y_train, y_test = train_test_split(x_scaled, y, test_size=0.30, random_state=i)\n",
    "    rnd = RandomForestClassifier()\n",
    "    rnd.fit(x_train, y_train)\n",
    "    y_pred = rnd.predict(x_test)\n",
    "    acc = accuracy_score(y_test, y_pred)\n",
    "    if acc > maxAccu:\n",
    "        maxAccu = acc\n",
    "        maxRs = i\n",
    "\n",
    "print('Best accuracy is', maxAccu, 'at random_state', maxRs)\n"
   ]
  },
  {
   "cell_type": "code",
   "execution_count": 85,
   "id": "0ae82de4",
   "metadata": {},
   "outputs": [],
   "source": [
    "x_train, x_test, y_train, y_test = train_test_split(x, y, test_size=0.30, random_state=maxRs)"
   ]
  },
  {
   "cell_type": "code",
   "execution_count": 50,
   "id": "23b4349f",
   "metadata": {},
   "outputs": [],
   "source": [
    "from sklearn.ensemble import RandomForestClassifier, ExtraTreesClassifier\n",
    "from sklearn.svm import SVC\n",
    "from sklearn.ensemble import GradientBoostingClassifier, AdaBoostClassifier, BaggingClassifier\n",
    "from sklearn.metrics import classification_report ,confusion_matrix, roc_curve, accuracy_score\n",
    "from sklearn.model_selection import cross_val_score\n",
    "from sklearn.linear_model import LogisticRegression\n"
   ]
  },
  {
   "cell_type": "code",
   "execution_count": 51,
   "id": "567e12f6",
   "metadata": {},
   "outputs": [
    {
     "name": "stdout",
     "output_type": "stream",
     "text": [
      "Accuracy score 0.8223684210526315\n",
      "\n",
      "\n",
      "[[131  21]\n",
      " [ 33 119]]\n"
     ]
    }
   ],
   "source": [
    "LR=LogisticRegression()\n",
    "LR.fit(x_train, y_train)\n",
    "predLR= LR.predict (x_test)\n",
    "print('Accuracy score',(accuracy_score(y_test, predLR)))\n",
    "print('\\n')\n",
    "print(confusion_matrix(y_test, predLR))"
   ]
  },
  {
   "cell_type": "code",
   "execution_count": 52,
   "id": "fb0c7797",
   "metadata": {},
   "outputs": [
    {
     "name": "stdout",
     "output_type": "stream",
     "text": [
      "Accuracy score 0.875\n",
      "\n",
      "\n",
      "[[134  18]\n",
      " [ 20 132]]\n"
     ]
    }
   ],
   "source": [
    "Rnd= RandomForestClassifier()\n",
    "Rnd.fit(x_train, y_train)\n",
    "predRnd= Rnd.predict (x_test)\n",
    "print('Accuracy score',(accuracy_score(y_test, predRnd)))\n",
    "print('\\n')\n",
    "print(confusion_matrix(y_test, predRnd))"
   ]
  },
  {
   "cell_type": "code",
   "execution_count": 53,
   "id": "2a446c50",
   "metadata": {},
   "outputs": [
    {
     "name": "stdout",
     "output_type": "stream",
     "text": [
      "Accuracy score 0.8388157894736842\n",
      "\n",
      "\n",
      "[[123  29]\n",
      " [ 20 132]]\n"
     ]
    }
   ],
   "source": [
    "Etr= ExtraTreesClassifier()\n",
    "Etr.fit(x_train, y_train)\n",
    "predEtr= Etr.predict (x_test)\n",
    "print('Accuracy score',(accuracy_score(y_test, predEtr)))\n",
    "print('\\n')\n",
    "print(confusion_matrix(y_test, predEtr))"
   ]
  },
  {
   "cell_type": "code",
   "execution_count": 54,
   "id": "2bed1226",
   "metadata": {},
   "outputs": [
    {
     "name": "stdout",
     "output_type": "stream",
     "text": [
      "Accuracy score 0.7072368421052632\n",
      "\n",
      "\n",
      "[[131  21]\n",
      " [ 68  84]]\n"
     ]
    }
   ],
   "source": [
    "svc=SVC()\n",
    "svc.fit(x_train, y_train)\n",
    "predsvc=svc.predict (x_test)\n",
    "print('Accuracy score',(accuracy_score(y_test, predsvc)))\n",
    "print('\\n')\n",
    "\n",
    "print(confusion_matrix(y_test, predsvc))"
   ]
  },
  {
   "cell_type": "code",
   "execution_count": 55,
   "id": "f76762be",
   "metadata": {},
   "outputs": [
    {
     "name": "stdout",
     "output_type": "stream",
     "text": [
      "Accuracy score 0.8519736842105263\n",
      "\n",
      "\n",
      "[[137  15]\n",
      " [ 30 122]]\n"
     ]
    }
   ],
   "source": [
    "gbc=GradientBoostingClassifier()\n",
    "gbc.fit(x_train, y_train)\n",
    "predgbc =gbc.predict (x_test)\n",
    "print('Accuracy score',(accuracy_score(y_test, predgbc)))\n",
    "print('\\n')\n",
    "\n",
    "print(confusion_matrix(y_test, predgbc))"
   ]
  },
  {
   "cell_type": "code",
   "execution_count": 56,
   "id": "8733aaea",
   "metadata": {},
   "outputs": [
    {
     "name": "stdout",
     "output_type": "stream",
     "text": [
      "Accuracy score 0.8453947368421053\n",
      "\n",
      "\n",
      "[[131  21]\n",
      " [ 26 126]]\n"
     ]
    }
   ],
   "source": [
    "adaboost= AdaBoostClassifier()\n",
    "adaboost.fit(x_train, y_train)\n",
    "predadaboost =adaboost.predict (x_test)\n",
    "print('Accuracy score',(accuracy_score(y_test, predadaboost)))\n",
    "print('\\n')\n",
    "\n",
    "print(confusion_matrix(y_test, predadaboost))"
   ]
  },
  {
   "cell_type": "code",
   "execution_count": 57,
   "id": "8e9be580",
   "metadata": {},
   "outputs": [
    {
     "name": "stdout",
     "output_type": "stream",
     "text": [
      "Accuracy score 0.8421052631578947\n",
      "\n",
      "\n",
      "[[129  23]\n",
      " [ 25 127]]\n"
     ]
    }
   ],
   "source": [
    "bagging=BaggingClassifier()\n",
    "bagging.fit(x_train, y_train)\n",
    "predbagging =bagging.predict (x_test)\n",
    "print('Accuracy score',(accuracy_score(y_test, predbagging)))\n",
    "print('\\n')\n",
    "\n",
    "print(confusion_matrix(y_test, predbagging))"
   ]
  },
  {
   "cell_type": "markdown",
   "id": "47698147",
   "metadata": {},
   "source": [
    "#  Cross Validation Score"
   ]
  },
  {
   "cell_type": "code",
   "execution_count": 58,
   "id": "2fffad47",
   "metadata": {},
   "outputs": [
    {
     "name": "stdout",
     "output_type": "stream",
     "text": [
      "LogisticRegression \n",
      "\n",
      "\n",
      "[0.7635468  0.78817734 0.73267327 0.86138614 0.86633663]\n",
      "0.802424035506999\n",
      "Difference between Accuracy score  and cross validation score is -  0.019944385545632493\n"
     ]
    }
   ],
   "source": [
    "print('LogisticRegression ')\n",
    "print('\\n')\n",
    "score=cross_val_score(LR, x, y)\n",
    "print(score)\n",
    "print(score.mean())\n",
    "print('Difference between Accuracy score  and cross validation score is - ', accuracy_score(y_test,predLR)- score.mean())"
   ]
  },
  {
   "cell_type": "code",
   "execution_count": 59,
   "id": "a2b9a8d3",
   "metadata": {},
   "outputs": [
    {
     "name": "stdout",
     "output_type": "stream",
     "text": [
      "ExtraTreesClassifier \n",
      "\n",
      "\n",
      "[0.78325123 0.81280788 0.7970297  0.87128713 0.88613861]\n",
      "0.8301029117690094\n",
      "Difference between Accuracy score  and cross validation score is -  0.04489708823099059\n"
     ]
    }
   ],
   "source": [
    "print('ExtraTreesClassifier ')\n",
    "print('\\n')\n",
    "score=cross_val_score(Rnd, x, y)\n",
    "print(score)\n",
    "print(score.mean())\n",
    "print('Difference between Accuracy score  and cross validation score is - ', accuracy_score(y_test,predRnd)- score.mean())"
   ]
  },
  {
   "cell_type": "code",
   "execution_count": 60,
   "id": "c6065b4f",
   "metadata": {},
   "outputs": [
    {
     "name": "stdout",
     "output_type": "stream",
     "text": [
      "SVC \n",
      "\n",
      "\n",
      "[0.55665025 0.70935961 0.73267327 0.74257426 0.68811881]\n",
      "0.6858752377700824\n",
      "Difference between Accuracy score  and cross validation score is -  0.02136160433518075\n"
     ]
    }
   ],
   "source": [
    "print('SVC ')\n",
    "print('\\n')\n",
    "score=cross_val_score(svc, x, y)\n",
    "print(score)\n",
    "print(score.mean())\n",
    "print('Difference between Accuracy score  and cross validation score is - ', accuracy_score(y_test,predsvc)- score.mean())"
   ]
  },
  {
   "cell_type": "code",
   "execution_count": 61,
   "id": "05481ba5",
   "metadata": {},
   "outputs": [
    {
     "name": "stdout",
     "output_type": "stream",
     "text": [
      "GradientBoostingClassifier \n",
      "\n",
      "\n",
      "[0.78817734 0.83743842 0.8019802  0.86138614 0.87623762]\n",
      "0.8330439447885676\n",
      "Difference between Accuracy score  and cross validation score is -  0.018929739421958747\n"
     ]
    }
   ],
   "source": [
    "print('GradientBoostingClassifier ')\n",
    "print('\\n')\n",
    "score=cross_val_score(gbc, x, y)\n",
    "print(score)\n",
    "print(score.mean())\n",
    "print('Difference between Accuracy score  and cross validation score is - ', accuracy_score(y_test,predgbc)- score.mean())"
   ]
  },
  {
   "cell_type": "code",
   "execution_count": 62,
   "id": "b4648ffb",
   "metadata": {},
   "outputs": [
    {
     "name": "stdout",
     "output_type": "stream",
     "text": [
      "AdaBoostClassifier \n",
      "\n",
      "\n",
      "[0.73891626 0.79802956 0.79207921 0.88118812 0.86633663]\n",
      "0.8153099546407843\n",
      "Difference between Accuracy score  and cross validation score is -  0.030084782201321048\n"
     ]
    }
   ],
   "source": [
    "print('AdaBoostClassifier ')\n",
    "print('\\n')\n",
    "score=cross_val_score(adaboost, x, y)\n",
    "print(score)\n",
    "print(score.mean())\n",
    "print('Difference between Accuracy score  and cross validation score is - ', accuracy_score(y_test,predadaboost)- score.mean())"
   ]
  },
  {
   "cell_type": "code",
   "execution_count": 63,
   "id": "8260f6f1",
   "metadata": {},
   "outputs": [
    {
     "name": "stdout",
     "output_type": "stream",
     "text": [
      "BaggingClassifier \n",
      "\n",
      "\n",
      "[0.74384236 0.82758621 0.79207921 0.84158416 0.88118812]\n",
      "0.8172560113154173\n",
      "Difference between Accuracy score  and cross validation score is -  0.024849251842477438\n"
     ]
    }
   ],
   "source": [
    "print('BaggingClassifier ')\n",
    "print('\\n')\n",
    "score=cross_val_score(bagging, x, y)\n",
    "print(score)\n",
    "print(score.mean())\n",
    "print('Difference between Accuracy score  and cross validation score is - ', accuracy_score(y_test,predbagging)- score.mean())"
   ]
  },
  {
   "cell_type": "markdown",
   "id": "1dc16eba",
   "metadata": {},
   "source": [
    "#  GradientBoostingClassifier  gives 89 accuracy score and crossvalidation score is mean score is 4.5"
   ]
  },
  {
   "cell_type": "markdown",
   "id": "3fc989bc",
   "metadata": {},
   "source": [
    "#  Hyper Parameter Tunning\n",
    "# Try to improve more accuracy score"
   ]
  },
  {
   "cell_type": "code",
   "execution_count": 64,
   "id": "69e6257a",
   "metadata": {},
   "outputs": [],
   "source": [
    "from sklearn.model_selection import GridSearchCV"
   ]
  },
  {
   "cell_type": "code",
   "execution_count": 90,
   "id": "e175bfc7",
   "metadata": {},
   "outputs": [
    {
     "data": {
      "text/plain": [
       "GridSearchCV(cv=5, estimator=GradientBoostingClassifier(),\n",
       "             param_grid={'criterion': ['mse', 'entropy'],\n",
       "                         'max_depth': [1, 15, 30],\n",
       "                         'n_estimators': [50, 100, 200, 300],\n",
       "                         'random_state': [10, 100, 850]})"
      ]
     },
     "execution_count": 90,
     "metadata": {},
     "output_type": "execute_result"
    }
   ],
   "source": [
    "param_grid = {\n",
    "    'criterion': ['mse', 'entropy'],\n",
    "    'random_state': [10, 100, 850],\n",
    "    'max_depth': [1, 15, 30],\n",
    "    'n_estimators': [50, 100, 200, 300]\n",
    "}\n",
    "\n",
    "gscv = GridSearchCV(GradientBoostingClassifier(), param_grid, cv=5)\n",
    "gscv.fit(x_train, y_train)"
   ]
  },
  {
   "cell_type": "code",
   "execution_count": 92,
   "id": "5a5bcbf0",
   "metadata": {},
   "outputs": [
    {
     "data": {
      "text/plain": [
       "{'criterion': 'mse', 'max_depth': 1, 'n_estimators': 300, 'random_state': 10}"
      ]
     },
     "execution_count": 92,
     "metadata": {},
     "output_type": "execute_result"
    }
   ],
   "source": [
    "gscv.best_params_"
   ]
  },
  {
   "cell_type": "code",
   "execution_count": 93,
   "id": "8fecf42b",
   "metadata": {},
   "outputs": [
    {
     "name": "stdout",
     "output_type": "stream",
     "text": [
      "86.18421052631578\n"
     ]
    }
   ],
   "source": [
    "Final_model= GradientBoostingClassifier(criterion= 'mse',max_depth= 1,n_estimators = 300  ,random_state =10)\n",
    "Final_model.fit(x_train, y_train)\n",
    "pred = Final_model.predict(x_test)\n",
    "acc= accuracy_score(y_test, pred)\n",
    "print(acc*100)"
   ]
  },
  {
   "cell_type": "code",
   "execution_count": null,
   "id": "1dfac998",
   "metadata": {},
   "outputs": [],
   "source": []
  }
 ],
 "metadata": {
  "kernelspec": {
   "display_name": "Python 3 (ipykernel)",
   "language": "python",
   "name": "python3"
  },
  "language_info": {
   "codemirror_mode": {
    "name": "ipython",
    "version": 3
   },
   "file_extension": ".py",
   "mimetype": "text/x-python",
   "name": "python",
   "nbconvert_exporter": "python",
   "pygments_lexer": "ipython3",
   "version": "3.9.12"
  }
 },
 "nbformat": 4,
 "nbformat_minor": 5
}
